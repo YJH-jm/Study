{
 "cells": [
  {
   "cell_type": "code",
   "execution_count": 1,
   "metadata": {},
   "outputs": [],
   "source": [
    "from array import array\n",
    "import math\n",
    "\n",
    "\n",
    "class Vector2d:\n",
    "    typecode = 'd'  # <1>\n",
    "\n",
    "    def __init__(self, x, y):\n",
    "        self.x = float(x)    # <2>\n",
    "        self.y = float(y)\n",
    "\n",
    "    def __iter__(self):\n",
    "        return (i for i in (self.x, self.y))  # <3>\n",
    "\n",
    "    def __repr__(self):\n",
    "        class_name = type(self).__name__\n",
    "        return '{}({!r}, {!r})'.format(class_name, *self)  # <4>\n",
    "\n",
    "    def __str__(self):\n",
    "        return str(tuple(self))  # <5>\n",
    "\n",
    "    def __bytes__(self):\n",
    "        return (bytes([ord(self.typecode)]) +  # <6>\n",
    "                bytes(array(self.typecode, self)))  # <7>\n",
    "\n",
    "    def __eq__(self, other):\n",
    "        return tuple(self) == tuple(other)  # <8>\n",
    "\n",
    "    def __abs__(self):\n",
    "        return math.hypot(self.x, self.y)  # <9>\n",
    "\n",
    "    def __bool__(self):\n",
    "        return bool(abs(self))  # <10>"
   ]
  },
  {
   "cell_type": "code",
   "execution_count": 2,
   "metadata": {},
   "outputs": [],
   "source": [
    "class Vector2d:\n",
    "    typecode = 'd'\n",
    "\n",
    "    def __init__(self, x, y):\n",
    "        self.x = float(x)\n",
    "        self.y = float(y)\n",
    "\n",
    "    def __iter__(self):\n",
    "        return (i for i in (self.x, self.y))\n",
    "\n",
    "    def __repr__(self):\n",
    "        class_name = type(self).__name__\n",
    "        return '{}({!r}, {!r})'.format(class_name, *self)\n",
    "\n",
    "    def __str__(self):\n",
    "        return str(tuple(self))\n",
    "\n",
    "    def __bytes__(self):\n",
    "        return (bytes([ord(self.typecode)]) +\n",
    "                bytes(array(self.typecode, self)))\n",
    "\n",
    "    def __eq__(self, other):\n",
    "        return tuple(self) == tuple(other)\n",
    "\n",
    "    def __abs__(self):\n",
    "        return math.hypot(self.x, self.y)\n",
    "\n",
    "    def __bool__(self):\n",
    "        return bool(abs(self))\n",
    "\n",
    "    @classmethod  # <1>\n",
    "    def frombytes(cls, octets):  # <2>\n",
    "        typecode = chr(octets[0])  # <3>\n",
    "        memv = memoryview(octets[1:]).cast(typecode)  # <4>\n",
    "        return cls(*memv)  # <5>\n"
   ]
  },
  {
   "cell_type": "code",
   "execution_count": 3,
   "metadata": {},
   "outputs": [],
   "source": [
    "class Vector2d:\n",
    "    typecode = 'd'\n",
    "\n",
    "    def __init__(self, x, y):\n",
    "        self.x = float(x)\n",
    "        self.y = float(y)\n",
    "\n",
    "    def __iter__(self):\n",
    "        return (i for i in (self.x, self.y))\n",
    "\n",
    "    def __repr__(self):\n",
    "        class_name = type(self).__name__\n",
    "        return '{}({!r}, {!r})'.format(class_name, *self)\n",
    "\n",
    "    def __str__(self):\n",
    "        return str(tuple(self))\n",
    "\n",
    "    def __bytes__(self):\n",
    "        return (bytes([ord(self.typecode)]) +\n",
    "                bytes(array(self.typecode, self)))\n",
    "\n",
    "    def __eq__(self, other):\n",
    "        return tuple(self) == tuple(other)\n",
    "\n",
    "    def __abs__(self):\n",
    "        return math.hypot(self.x, self.y)\n",
    "\n",
    "    def __bool__(self):\n",
    "        return bool(abs(self))\n",
    "\n",
    "    def angle(self):\n",
    "        return math.atan2(self.y, self.x)\n",
    "\n",
    "    def __format__(self, fmt_spec=''):\n",
    "        if fmt_spec.endswith('p'):\n",
    "            fmt_spec = fmt_spec[:-1]\n",
    "            coords = (abs(self), self.angle())\n",
    "            outer_fmt = '<{}, {}>'\n",
    "        else:\n",
    "            coords = self\n",
    "            outer_fmt = '({}, {})'\n",
    "        components = (format(c, fmt_spec) for c in coords)\n",
    "        return outer_fmt.format(*components)\n",
    "\n",
    "    @classmethod\n",
    "    def frombytes(cls, octets):\n",
    "        typecode = chr(octets[0])\n",
    "        memv = memoryview(octets[1:]).cast(typecode)\n",
    "        return cls(*memv)\n"
   ]
  },
  {
   "cell_type": "code",
   "execution_count": 4,
   "metadata": {},
   "outputs": [],
   "source": [
    "from array import array\n",
    "import math\n",
    "\n",
    "class Vector2d:\n",
    "    typecode = 'd'\n",
    "\n",
    "    def __init__(self, x, y):\n",
    "        self.__x = float(x)\n",
    "        self.__y = float(y)\n",
    "\n",
    "    @property\n",
    "    def x(self):\n",
    "        return self.__x\n",
    "\n",
    "    @property\n",
    "    def y(self):\n",
    "        return self.__y\n",
    "\n",
    "    def __iter__(self):\n",
    "        return (i for i in (self.x, self.y))\n",
    "\n",
    "    def __repr__(self):\n",
    "        class_name = type(self).__name__\n",
    "        return '{}({!r}, {!r})'.format(class_name, *self)\n",
    "\n",
    "    def __str__(self):\n",
    "        return str(tuple(self))\n",
    "\n",
    "    def __bytes__(self):\n",
    "        return (bytes([ord(self.typecode)]) +\n",
    "                bytes(array(self.typecode, self)))\n",
    "\n",
    "    def __eq__(self, other):\n",
    "        return tuple(self) == tuple(other)\n",
    "\n",
    "    def __hash__(self):\n",
    "        return hash(self.x) ^ hash(self.y)\n",
    "\n",
    "    def __abs__(self):\n",
    "        return math.hypot(self.x, self.y)\n",
    "\n",
    "    def __bool__(self):\n",
    "        return bool(abs(self))\n",
    "\n",
    "    def angle(self):\n",
    "        return math.atan2(self.y, self.x)\n",
    "\n",
    "    def __format__(self, fmt_spec=''):\n",
    "        if fmt_spec.endswith('p'):\n",
    "            fmt_spec = fmt_spec[:-1]\n",
    "            coords = (abs(self), self.angle())\n",
    "            outer_fmt = '<{}, {}>'\n",
    "        else:\n",
    "            coords = self\n",
    "            outer_fmt = '({}, {})'\n",
    "        components = (format(c, fmt_spec) for c in coords)\n",
    "        return outer_fmt.format(*components)\n",
    "\n",
    "    @classmethod\n",
    "    def frombytes(cls, octets):\n",
    "        typecode = chr(octets[0])\n",
    "        memv = memoryview(octets[1:]).cast(typecode)\n",
    "        return cls(*memv)"
   ]
  },
  {
   "cell_type": "markdown",
   "metadata": {},
   "source": [
    "## 9.7 파이썬에서의 비공개 속성과 보호된 속성\n",
    "- 파이썬에서는 private 수정자가 있는 자바와 달리 비공개 변수를 생성할 수 있는 방법은 없음\n",
    "- 서브클래스에서 **비공개** 성격의 속성을 실수로 변경하지 못하게 하는 간단한 메커니즘 존재\n",
    "- 속성명을 \\__mode 로 시작하고, 하나의 언더바 또는 언더바 없이 끝나도록 정의하면 파이썬은 언더바와 클래스명을 변수명 앞에 분여 객체의 \\__dict\\__에 저장\n",
    "- 이러한 파이썬 언어 기능을 **이름 장식** 이라고 함\n",
    "    - 이름 장식은 안전을 제공하지만 보안 기능은 아님"
   ]
  },
  {
   "cell_type": "markdown",
   "metadata": {},
   "source": [
    "#### 예제 9.10 _와 클래스명을 앞에 붙여 비공개 속성명 장식하기"
   ]
  },
  {
   "cell_type": "code",
   "execution_count": 5,
   "metadata": {},
   "outputs": [
    {
     "data": {
      "text/plain": [
       "{'_Vector2d__x': 3.0, '_Vector2d__y': 4.0}"
      ]
     },
     "execution_count": 5,
     "metadata": {},
     "output_type": "execute_result"
    }
   ],
   "source": [
    "v1 = Vector2d(3, 4)\n",
    "v1.__dict__"
   ]
  },
  {
   "cell_type": "code",
   "execution_count": 6,
   "metadata": {},
   "outputs": [
    {
     "data": {
      "text/plain": [
       "3.0"
      ]
     },
     "execution_count": 6,
     "metadata": {},
     "output_type": "execute_result"
    }
   ],
   "source": [
    "v1._Vector2d__x"
   ]
  },
  {
   "cell_type": "code",
   "execution_count": 7,
   "metadata": {},
   "outputs": [
    {
     "data": {
      "text/plain": [
       "3.0"
      ]
     },
     "execution_count": 7,
     "metadata": {},
     "output_type": "execute_result"
    }
   ],
   "source": [
    "v1.x"
   ]
  },
  {
   "cell_type": "markdown",
   "metadata": {},
   "source": [
    "<hr>"
   ]
  },
  {
   "cell_type": "markdown",
   "metadata": {},
   "source": [
    "- 비공개 이름이 어떻게 만들어지는지 아는 사람은 비공개 속성을 직접 읽는 것이 가능\n",
    "    - 디버깅과 직렬화에 유용하게 사용됨\n",
    "- 비공개 요소에 직접 값 할당 가능\n",
    "- 실제 운용 코드에서 이렇게 조작해서 문제가 생기더라도 불만을 제기할 곳 없음"
   ]
  },
  {
   "cell_type": "markdown",
   "metadata": {},
   "source": [
    "- self.\\__x 과 같은 이름을 좋아하는 것은 아님\n",
    "    - 속성 충돌은 명명 관례를 통해 해결해야한다고 제안\n",
    "- se.f.\\_x 처럼 언더바 하나를 앞에 붙여 속성을 보호하는 것을 좋아하는 개발자도 있음"
   ]
  },
  {
   "cell_type": "markdown",
   "metadata": {},
   "source": [
    "- 속성명 앞에 언더바 하나를 붙이더라도 파이썬 인터프리터가 별도로 특별히 처리하지는 않음\n",
    "- 클래스 외부에서 그런 속성에 접근하지 않는 것은 파이썬 프로그래머 사이에 일종의 금기로 여겨짐\n",
    "\n",
    "<br>\n",
    "\n",
    "- 파이썬 일부 문서에서는 단일 언더바로 시작하는 속성을 **보호된(protected)** 속성이라고 부르기도 함\n",
    "- self.\\_x 형태의 속성을 \"보호\"하는 관례는 대부분의 개발자가 보편적으로 따르고 있지만 이런 속성을 \"보호된\" 속성이라고 부르는 일은 거의 없음\n",
    "- 이런 속성을 \"비공개\" 속성이라고 부르는 개발자도 존재"
   ]
  },
  {
   "cell_type": "markdown",
   "metadata": {},
   "source": [
    "- Vector2d의 요소는 \"비공개\" 속성이며, Vector2D의 객체는 \"불변형\""
   ]
  },
  {
   "cell_type": "markdown",
   "metadata": {},
   "source": [
    "## 9.8 \\__slots\\__ 클래스 속성으로 공간 절약\n",
    "- 파이썬은 객체 속성을 각 객체 안의 \\__dict\\__라는 딕셔너리형 속성에 저장\n",
    "    - 딕셔너리는 빠른 접근 속도 제공하기 위해 내부에 해시 테이블 유지, 메모리 사용량 큼\n",
    "- 만약 속성이 몇개 없는 수백만개의 객체를 다룬다면 \\__slots\\__ 클래스 속성을 이용해서 메모리 사용량을 엄청 줄일 수 있음\n",
    "    - 파이썬 인터프리터가 객체 속성을 딕셔너리 대신 튜플에 저장하게 만듦\n",
    "    - 슈퍼클래스에서 상속받은 \\__slot\\__ 속성은 서브클래스에 영향을 미치지 않고, 파이썬은 각 클래스에서 개별적으로 정의된 \\__slots\\__ 속성만 고려"
   ]
  },
  {
   "cell_type": "markdown",
   "metadata": {},
   "source": [
    "#### 예제 9-11 vector2d_v3_slots.py : Vector2d 클래스에 \\__slots\\__ 속성만 추가"
   ]
  },
  {
   "cell_type": "code",
   "execution_count": 20,
   "metadata": {},
   "outputs": [],
   "source": [
    "class Vector2d:\n",
    "    __slots__ = ('__x', '__y')\n",
    "    # 이 속성들이 이 클래스 객체가 가지는 속성임을 인터프리트에 알려줌\n",
    "    \n",
    "    typecode = 'd'\n",
    "    \n",
    "    # 코드 생략"
   ]
  },
  {
   "cell_type": "markdown",
   "metadata": {},
   "source": [
    "- \\__slots\\__를 클래스에 정의함으로써 **이 속성들이 이 클래스 객체가 가지는 속성** 임을 인터프리터에 알려줌\n",
    "- 그러면 파이썬 인터프리터는 이 속성들을 각 객체의 튜플형 구조체에 저장함으로써 \\__dict\\__ 속성을 각 객체마다유지하는 부담을 덜어냄\n",
    "- 수백만 개의 숫자 데이터를 처리하는 경우 NumPy를 사용하는 것이 좋음"
   ]
  },
  {
   "cell_type": "markdown",
   "metadata": {},
   "source": [
    "#### 예제 9-12 명명된 모듈에 정의된 클래스를 이용해서 Vector2d 객체 1천만개를 생성하는 mem_test.py"
   ]
  },
  {
   "cell_type": "markdown",
   "metadata": {},
   "source": [
    "<img src=\"./images/3.png\">"
   ]
  },
  {
   "cell_type": "markdown",
   "metadata": {},
   "source": [
    "- 클래스 안에 \\__slots\\__을 명시하는 경우 경우, 객체는 \\__slots\\__에 명시되지 않은 속성을 가질 수 없게 됨\n",
    "    - 이는 \\__slots\\__가 존재하는 이유는 아니며, 실제로는 부작용"
   ]
  },
  {
   "cell_type": "markdown",
   "metadata": {},
   "source": [
    "### 9.8.1 \\__slot\\__을 사용할 때 주의점\n",
    "- 인터프리터는 상속된 \\__slots\\__ 속성을 무시하므로 각 클래스마다 \\__slots\\__ 속성 다시 정의\n",
    "- \\__dict\\__ 를 \\__slots\\__에 추가하지 않는 객체는 \\__slots\\__에 나열된 속상만 가질 수 있음\n",
    "    - 그러나 \\__dict\\__를 \\__slots\\__ 메모리 절감 효과 반감\n",
    "- \\__weakref\\__를 \\__slots\\__에 추가하지 않으면 객체가 약한 참조의 대상이 될 수 없음"
   ]
  },
  {
   "cell_type": "markdown",
   "metadata": {},
   "source": [
    "## 9.9 클래스 속성 오버라이드\n",
    "- 클래스의 속성을 객체 속성의 기본값으로 상하는 것은 파이썬의 독특한 특징\n",
    "    - vector2d 클래스의 typecode\n",
    "        - \\__byte\\__() 메서드에서 두번 사용 될 때, self.typecode로 그 값을 읽음\n",
    "        - vector2d 객체가 그들 자신의 typecode 속성을 가지고 생성된 것이 아니므로, self.typecode는 기본적으로 Vector2d.typecode 클래스 속성을 가지고 옴\n",
    "        - 존재하지 않는 객체 속성에 값을 저장하면 새로운 객체 속성을 생성하고 동일한 이름의 클래스 속성을 변경하지 않음\n",
    "        "
   ]
  },
  {
   "cell_type": "markdown",
   "metadata": {},
   "source": [
    "#### 예제 9-13 클래스에서 상속받은 typecode 속성을 설정해서 객체 커스터마이즈 하기"
   ]
  },
  {
   "cell_type": "code",
   "execution_count": 39,
   "metadata": {},
   "outputs": [
    {
     "name": "stdout",
     "output_type": "stream",
     "text": [
      "b'd\\x9a\\x99\\x99\\x99\\x99\\x99\\xf1?\\x9a\\x99\\x99\\x99\\x99\\x99\\x01@'\n",
      "17\n",
      "\n",
      "b'f\\xcd\\xcc\\x8c?\\xcd\\xcc\\x0c@'\n",
      "9\n",
      "\n",
      "d\n"
     ]
    }
   ],
   "source": [
    "from vector2d_v3 import Vector2d\n",
    "\n",
    "v1 = Vector2d(1.1, 2.2)\n",
    "dumpd = bytes(v1)\n",
    "print(dumpd)\n",
    "print(len(dumpd))\n",
    "print()\n",
    "\n",
    "v1.typecode = 'f'\n",
    "dumpf = bytes(v1)\n",
    "print(dumpf)\n",
    "print(len(dumpf))\n",
    "print()\n",
    "\n",
    "print(Vector2d.typecode)"
   ]
  },
  {
   "cell_type": "markdown",
   "metadata": {},
   "source": [
    "- 클래스의 속성을 변경하기 위해서는 클래스 정의에서 직접 바꿔야하며, 객체를 통해 변경하면 안됨"
   ]
  },
  {
   "cell_type": "code",
   "execution_count": null,
   "metadata": {},
   "outputs": [],
   "source": [
    "Vector2d.typecode = 'f'"
   ]
  },
  {
   "cell_type": "markdown",
   "metadata": {},
   "source": [
    "<hr>"
   ]
  },
  {
   "cell_type": "markdown",
   "metadata": {},
   "source": [
    "- 변경 의도를 명백히 보여주고 영구적으로 효과가 지속되는 파이썬에서 즐겨 사용하는 방법\n",
    "- 클래스 속성은 공개되어 있고 모든 서브클래스가 상속하므로 클래스 데이터 속성을 커스터마이즈 할 때는 클래스를 상속하는 것이 일반적인 상식"
   ]
  },
  {
   "cell_type": "markdown",
   "metadata": {},
   "source": [
    "#### 9-14 ShortVector2d는 기본 typecode만 덮어쓴 Vector2d의 서브클래스"
   ]
  },
  {
   "cell_type": "code",
   "execution_count": 44,
   "metadata": {},
   "outputs": [
    {
     "data": {
      "text/plain": [
       "ShortVector2d(0.09090909090909091, 0.037037037037037035)"
      ]
     },
     "execution_count": 44,
     "metadata": {},
     "output_type": "execute_result"
    }
   ],
   "source": [
    "from vector2d_v3 import Vector2d\n",
    "\n",
    "class ShortVector2d(Vector2d):\n",
    "    typecode = 'f' \n",
    "    \n",
    "sv = ShortVector2d(1/11, 1/27)\n",
    "sv"
   ]
  }
 ],
 "metadata": {
  "kernelspec": {
   "display_name": "Python 3 (ipykernel)",
   "language": "python",
   "name": "python3"
  },
  "language_info": {
   "codemirror_mode": {
    "name": "ipython",
    "version": 3
   },
   "file_extension": ".py",
   "mimetype": "text/x-python",
   "name": "python",
   "nbconvert_exporter": "python",
   "pygments_lexer": "ipython3",
   "version": "3.9.7"
  }
 },
 "nbformat": 4,
 "nbformat_minor": 4
}
