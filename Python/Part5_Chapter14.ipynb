{
 "cells": [
  {
   "cell_type": "markdown",
   "id": "6e31194e",
   "metadata": {},
   "source": [
    "# 반복형, 반복자, 제너레이터"
   ]
  },
  {
   "cell_type": "markdown",
   "id": "ef0f20cc",
   "metadata": {},
   "source": [
    "- 데이터를 처리할 때 반복은 기본\n",
    "- 메모리에 다 들어가지 않는 데이터셋 검색할 때 항목들을 **느긋하게** 가져와야 함\n",
    "    - 즉, 한번에 한번씩 필요할 때 가져와야 함\n",
    "    - 반복자 패턴이 하는 일"
   ]
  },
  {
   "cell_type": "markdown",
   "id": "4a6fbb74",
   "metadata": {},
   "source": [
    "**Note**\n",
    "- 모든 제너레이터는 반복자\n",
    "    - 제너레이터가 반복자 인터페이스를 완전히 구현하고 있기 때문\n",
    "- 반복자는 [디자인 패턴] 에서 정의한 대로 컬렉션에서 항목을 가지고 옴\n",
    "- 제너레이터는 '마술처럼' 항목 생성 가능\n",
    "- 파이썬 커뮤니티에서는 **반복자** 와 **제너레이터**를 거의 동일시 "
   ]
  },
  {
   "cell_type": "markdown",
   "id": "3f495c09",
   "metadata": {},
   "source": [
    "파이썬의 **컬렉션**은 모두 **반복형**, 다음과 같은 연산 지원하기 위해 내부적으로 반복자 사용\n",
    "- for 루프\n",
    "- 컬렉션형 생성과 확장\n",
    "- 텍스트 파일을 한 줄씩 반복\n",
    "- 지능형 리스트/딕셔너리/집합\n",
    "- 튜플 언패킹\n",
    "- 함수 호출 시 * 를 이용해서 실제 매개변수를 언패킹"
   ]
  },
  {
   "cell_type": "markdown",
   "id": "049ce526",
   "metadata": {},
   "source": [
    "## 14.1 Sentence 버전 #1 : 단어 시퀀스"
   ]
  },
  {
   "cell_type": "markdown",
   "id": "89c8dc0b",
   "metadata": {},
   "source": [
    "#### 예제 14-1 sentence.py : 단어 시퀀스로서의 Sentence 클래스"
   ]
  },
  {
   "cell_type": "code",
   "execution_count": 4,
   "id": "0c667fa1",
   "metadata": {},
   "outputs": [],
   "source": [
    "import re\n",
    "import reprlib\n",
    "\n",
    "RE_WORD = re.compile('\\w+')\n",
    "\n",
    "class Sentence:\n",
    "    \n",
    "    def __init__(self, text):\n",
    "        self.text = text\n",
    "        self.words = RE_WORD.findall(text) # 정규 표현식에서 매칭되는 중복되지 않는 문자열의 리스트를 반환\n",
    "    \n",
    "    def __getitem__(self, index):\n",
    "        return self.words[index] # 주어진 index에 해당하는 단어 반환\n",
    "    \n",
    "    def __len__(self): # 시퀀스 프로토콜에 따르려면 필요, 반복형 객체에 이 메서드가 필요한 것은 아님\n",
    "        return len(self.words)\n",
    "    \n",
    "    def __repr__(self):\n",
    "        return 'Sentence(%s)' % reprlib.repr(self.text) # 매우 큰 데이터 구조체를 표현하는 문자열 축약해서 생성, 문자열을 30자로 제한"
   ]
  },
  {
   "cell_type": "markdown",
   "id": "1c4fe311",
   "metadata": {},
   "source": [
    "#### 14-2 Sentence 객체의 반복 테스트"
   ]
  },
  {
   "cell_type": "code",
   "execution_count": 5,
   "id": "ffd55555",
   "metadata": {},
   "outputs": [
    {
     "data": {
      "text/plain": [
       "Sentence('\"The time ha... Walrus said,')"
      ]
     },
     "execution_count": 5,
     "metadata": {},
     "output_type": "execute_result"
    }
   ],
   "source": [
    "s = Sentence('\"The time has come,\" the  Walrus said,') # 문자열을 이용하여 Sentence 객체 생성\n",
    "s # 출력한 메세지는 reprlib.repr()이 생성"
   ]
  },
  {
   "cell_type": "code",
   "execution_count": 6,
   "id": "472065d3",
   "metadata": {},
   "outputs": [
    {
     "name": "stdout",
     "output_type": "stream",
     "text": [
      "The\n",
      "time\n",
      "has\n",
      "come\n",
      "the\n",
      "Walrus\n",
      "said\n"
     ]
    }
   ],
   "source": [
    "for word in s: # Sentence 객체는 반복할 수 있음\n",
    "    print(word)"
   ]
  },
  {
   "cell_type": "code",
   "execution_count": 7,
   "id": "2dfe8769",
   "metadata": {},
   "outputs": [
    {
     "data": {
      "text/plain": [
       "['The', 'time', 'has', 'come', 'the', 'Walrus', 'said']"
      ]
     },
     "execution_count": 7,
     "metadata": {},
     "output_type": "execute_result"
    }
   ],
   "source": [
    "list(s) # 반복할 수 있으므로 Sentece 객체는 리스트 혹은 다른 반복형을 생성하기 위한 입력으로 사용 가능"
   ]
  },
  {
   "cell_type": "markdown",
   "id": "6b8f68f6",
   "metadata": {},
   "source": [
    "<hr>"
   ]
  },
  {
   "cell_type": "markdown",
   "id": "b1ed10c1",
   "metadata": {},
   "source": [
    "### 14.1.1 Sequemce가 반복 가능한 이유 : iter() 함수"
   ]
  },
  {
   "cell_type": "markdown",
   "id": "beacec2e",
   "metadata": {},
   "source": [
    "- 파이썬 인터프리터가 x 객체를 반복해야 할 때는 언제나 iter(x)를 자동으로 호출\n",
    "- iter() 내장함수는 다음 과정 수행\n",
    "    1. 객체가 \\__iter\\__() 메서드를 구현하는지 확인, 이 메서드를 호출해서 반복자 가지고 옴\n",
    "    2. \\__iter\\__()  메서드가 구현되어 있지 않지만 \\__getitem\\__() 이 구현되어 있다면, 파이썬은 인덱스 0에서 시작해서 항목을 순서대로 가져오는 반복자 생성\n",
    "    3. 이 과정이 모두 실패하면 파이썬은 **TypeError ; 'C' object is not iterable** 발생"
   ]
  },
  {
   "cell_type": "markdown",
   "id": "c3bd3a39",
   "metadata": {},
   "source": [
    "- 그렇기 때문에 모든 파이썬 시퀀스는 반복 가능\n",
    "- 사실 표준 시퀀스는 \\__iter\\__() 메서드도 구현하고 있으므로 이 메서드도 구현\n",
    "\n",
    "<br>\n"
   ]
  },
  {
   "cell_type": "code",
   "execution_count": 8,
   "id": "ffee953d",
   "metadata": {},
   "outputs": [
    {
     "name": "stdout",
     "output_type": "stream",
     "text": [
      "True\n",
      "True\n",
      "False\n",
      "False\n"
     ]
    }
   ],
   "source": [
    "class Foo:\n",
    "    def __iter__(self):\n",
    "        pass\n",
    "    \n",
    "\n",
    "from collections import abc\n",
    "\n",
    "print(issubclass(Foo, abc.Iterable))\n",
    "\n",
    "\n",
    "f = Foo()\n",
    "print(isinstance(f, abc.Iterable))\n",
    "\n",
    "########################################################\n",
    "\n",
    "print(issubclass(Sentence, abc.Iterable))\n",
    "\n",
    "\n",
    "s = Sentence(\"e\")\n",
    "print(isinstance(s, abc.Iterable))"
   ]
  },
  {
   "cell_type": "markdown",
   "id": "f9600ded",
   "metadata": {},
   "source": [
    "## 14.2 반복형과 반복자"
   ]
  },
  {
   "cell_type": "markdown",
   "id": "c84bd2fb",
   "metadata": {},
   "source": [
    "**반복형**\n",
    "- iter() 내장 함수가 반복자를 가져올 수 있는 모든 객체와 반복자를 반환하는 \\__iter\\__() 메서드를 구현하는 객체는 반복형\n",
    "- 0에서 시작하는 인덱스를 받는 \\__getitem\\__() 메서드를 구현하는 객체인 시퀀스도 마찬가지"
   ]
  },
  {
   "cell_type": "code",
   "execution_count": 9,
   "id": "4fad3b7d",
   "metadata": {},
   "outputs": [
    {
     "name": "stdout",
     "output_type": "stream",
     "text": [
      "A\n",
      "B\n",
      "C\n"
     ]
    }
   ],
   "source": [
    "s = \"ABC\" # 'ABC' 문자열 반복형, 반복자 보이지 않지만 내부 어딘가 존재\n",
    "\n",
    "it = iter(s) # 반복형에서 반복자 it을 생성\n",
    "\n",
    "while True:\n",
    "    try:\n",
    "        print(next(it)) # 반복자에서 next를 계속 호출해서 다음 항목을 가져옴 \n",
    "    except StopIteration: # 더 이상 항목이 없으면 예외 발생\n",
    "        del it # it에 대한 참조 해제하여 반복자 객체 제겨\n",
    "        break"
   ]
  },
  {
   "cell_type": "markdown",
   "id": "a572e9c7",
   "metadata": {},
   "source": [
    "**\\__next\\__()**\n",
    "- 다음에 사용할 항목 반환\n",
    "- 더 이상 항목이 남아있지 않으면 StopIteration 발생\n",
    "\n",
    "<br>\n",
    "\n",
    "**\\__self\\__()**\n",
    "- self 반환\n",
    "- for 루프 등 반복형이 필요한 곳에 반복자 사용할 수 있게 만듦"
   ]
  },
  {
   "cell_type": "markdown",
   "id": "a6bc3b15",
   "metadata": {},
   "source": [
    "<img src=\"./images/3.png\">"
   ]
  },
  {
   "cell_type": "markdown",
   "id": "f18eef8e",
   "metadata": {},
   "source": [
    "- Iterable과 Iterator ABC\n",
    "- Iterable의 구상 서브 클래스의 \\__iter\\__() 메서드는 Iterator 객체를 생성하고 반환해야 함\n",
    "- Iterator의 구상 서브 클래스는 \\__next\\__() 메서드를 구현해야 함\n",
    "- Iterator.\\__iter\\__() 메서드는 self를 반환"
   ]
  },
  {
   "cell_type": "markdown",
   "id": "aefd128d",
   "metadata": {},
   "source": [
    "#### 예제 14-3 abc.Iterator 클래스의 일부"
   ]
  },
  {
   "cell_type": "code",
   "execution_count": 14,
   "id": "c1e3efeb",
   "metadata": {},
   "outputs": [
    {
     "ename": "NameError",
     "evalue": "name 'Iterable' is not defined",
     "output_type": "error",
     "traceback": [
      "\u001b[1;31m---------------------------------------------------------------------------\u001b[0m",
      "\u001b[1;31mNameError\u001b[0m                                 Traceback (most recent call last)",
      "\u001b[1;32m~\\AppData\\Local\\Temp\\ipykernel_1288\\1589388305.py\u001b[0m in \u001b[0;36m<module>\u001b[1;34m\u001b[0m\n\u001b[1;32m----> 1\u001b[1;33m \u001b[1;32mclass\u001b[0m \u001b[0mIterator\u001b[0m\u001b[1;33m(\u001b[0m\u001b[0mIterable\u001b[0m\u001b[1;33m)\u001b[0m\u001b[1;33m:\u001b[0m\u001b[1;33m\u001b[0m\u001b[1;33m\u001b[0m\u001b[0m\n\u001b[0m\u001b[0;32m      2\u001b[0m \u001b[1;33m\u001b[0m\u001b[0m\n\u001b[0;32m      3\u001b[0m     \u001b[0m__slots__\u001b[0m \u001b[1;33m=\u001b[0m \u001b[1;33m(\u001b[0m\u001b[1;33m)\u001b[0m\u001b[1;33m\u001b[0m\u001b[1;33m\u001b[0m\u001b[0m\n\u001b[0;32m      4\u001b[0m \u001b[1;33m\u001b[0m\u001b[0m\n\u001b[0;32m      5\u001b[0m     \u001b[1;33m@\u001b[0m\u001b[0mabstractmethod\u001b[0m\u001b[1;33m\u001b[0m\u001b[1;33m\u001b[0m\u001b[0m\n",
      "\u001b[1;31mNameError\u001b[0m: name 'Iterable' is not defined"
     ]
    }
   ],
   "source": [
    "class Iterator(Iterable):\n",
    "    \n",
    "    __slots__ = ()\n",
    "    \n",
    "    @abstractmethod\n",
    "    def __next__(self):\n",
    "        '''반복자에서 다음 항목을 반환, 항목이 소진되면 StopIteeration 예외 발생'''\n",
    "        raise StopIteration\n",
    "        \n",
    "    def __iter__(self):\n",
    "        return self\n",
    "    \n",
    "    @classmethod\n",
    "    def __subclasshook__(cls, C):\n",
    "        if cls is Iterator:\n",
    "            if (any(\"__next__\" in B.__dict__ for B in C.__mro__) and\n",
    "                any(\"__iter__\" in B.__dict__ for B in C.__mro__)):\n",
    "                return True\n",
    "            \n",
    "        return NotImplemented"
   ]
  },
  {
   "cell_type": "markdown",
   "id": "17924e0a",
   "metadata": {},
   "source": [
    "<hr>"
   ]
  },
  {
   "cell_type": "code",
   "execution_count": 19,
   "id": "ce2e8576",
   "metadata": {},
   "outputs": [
    {
     "name": "stdout",
     "output_type": "stream",
     "text": [
      "<iterator object at 0x000001B24AEAA048>\n",
      "------------------------------\n",
      "Pig\n",
      "and\n",
      "Pepper\n"
     ]
    },
    {
     "ename": "StopIteration",
     "evalue": "",
     "output_type": "error",
     "traceback": [
      "\u001b[1;31m---------------------------------------------------------------------------\u001b[0m",
      "\u001b[1;31mStopIteration\u001b[0m                             Traceback (most recent call last)",
      "\u001b[1;32m~\\AppData\\Local\\Temp\\ipykernel_1288\\689019211.py\u001b[0m in \u001b[0;36m<module>\u001b[1;34m\u001b[0m\n\u001b[0;32m      8\u001b[0m \u001b[0mprint\u001b[0m\u001b[1;33m(\u001b[0m\u001b[0mnext\u001b[0m\u001b[1;33m(\u001b[0m\u001b[0mit\u001b[0m\u001b[1;33m)\u001b[0m\u001b[1;33m)\u001b[0m \u001b[1;31m# 다음단어 가지고 옴\u001b[0m\u001b[1;33m\u001b[0m\u001b[1;33m\u001b[0m\u001b[0m\n\u001b[0;32m      9\u001b[0m \u001b[0mprint\u001b[0m\u001b[1;33m(\u001b[0m\u001b[0mnext\u001b[0m\u001b[1;33m(\u001b[0m\u001b[0mit\u001b[0m\u001b[1;33m)\u001b[0m\u001b[1;33m)\u001b[0m \u001b[1;31m# 다음단어 가지고 옴\u001b[0m\u001b[1;33m\u001b[0m\u001b[1;33m\u001b[0m\u001b[0m\n\u001b[1;32m---> 10\u001b[1;33m \u001b[0mprint\u001b[0m\u001b[1;33m(\u001b[0m\u001b[0mnext\u001b[0m\u001b[1;33m(\u001b[0m\u001b[0mit\u001b[0m\u001b[1;33m)\u001b[0m\u001b[1;33m)\u001b[0m \u001b[1;31m# 다음단어 가지고 옴\u001b[0m\u001b[1;33m\u001b[0m\u001b[1;33m\u001b[0m\u001b[0m\n\u001b[0m",
      "\u001b[1;31mStopIteration\u001b[0m: "
     ]
    }
   ],
   "source": [
    "s3 = Sentence(\"Pig and Pepper\") # 세 단어로 구성된 Sentece 객체 생성\n",
    "it = iter(s3) # s3에서 반복자 가지고 옴\n",
    "print(it)\n",
    "\n",
    "print(\"-\" * 30)\n",
    "\n",
    "print(next(it)) # 다음단어 가지고 옴\n",
    "print(next(it)) # 다음단어 가지고 옴\n",
    "print(next(it)) # 다음단어 가지고 옴\n",
    "print(next(it)) # 다음단어 가지고 옴\n"
   ]
  },
  {
   "cell_type": "code",
   "execution_count": 21,
   "id": "114ff51b",
   "metadata": {},
   "outputs": [
    {
     "name": "stdout",
     "output_type": "stream",
     "text": [
      "[]\n",
      "['Pig', 'and', 'Pepper']\n"
     ]
    }
   ],
   "source": [
    "print(list(it)) # 소진 된 후에는 반복자 필요 없음\n",
    "print(list(iter(s3))) # Sentence를 다시 반복하려면 생성자 새로 만들어야 함"
   ]
  },
  {
   "cell_type": "markdown",
   "id": "28ce99f9",
   "metadata": {},
   "source": [
    "<hr>"
   ]
  },
  {
   "cell_type": "markdown",
   "id": "7c542d20",
   "metadata": {},
   "source": [
    "- 반복자가 필수적으로 구현해야 하는 메서드는 \\__next\\__()와 \\__iter\\__()\n",
    "    - next()를 호출하고 StopIteration 예외를 잡는 방법 외에는 항목이 소진되었는지 확인할 방법이 없음\n",
    "- 반복자는 \"재설정\" 할 수 없음\n",
    "    - 다시 반복해야하면 처음 반복자를 생성했던 반복형에 iter()를 호출해야 함\n",
    "    - 반복자 자체에 iter()를 호출하는 것은 소용 없은 \n",
    "        - Iterator.\\__iter\\__() 은 단지 self를 반환하도록 구현되어서 소진된 반복자 재설정하지 못함"
   ]
  },
  {
   "cell_type": "markdown",
   "id": "b4959f35",
   "metadata": {},
   "source": [
    "## 14.3 Sentence 버전 2: 고전적인 반복자"
   ]
  },
  {
   "cell_type": "markdown",
   "id": "1655ec12",
   "metadata": {},
   "source": [
    "#### 예제 14-4 sentence_iter.py : 반복자 패턴을 이용한 Sentence 구현"
   ]
  },
  {
   "cell_type": "code",
   "execution_count": 2,
   "id": "bd520373",
   "metadata": {},
   "outputs": [],
   "source": [
    "import re\n",
    "import reprlib\n",
    "\n",
    "RE_WORD = re.compile(\"\\w+\")\n",
    "\n",
    "class Sentence:\n",
    "    \n",
    "    def __init__(self, text):\n",
    "        self.text = text\n",
    "        self.words = RE_WORD.findall(text)\n",
    "        \n",
    "    def __repr__(self):\n",
    "        return \"Sentence(''%s')\" % reprlib.repr(self.text)\n",
    "    \n",
    "    def __iter__(self): # 앞에 구현한 class에 추가 구현\n",
    "        return SentenceIterator(self.words) # iter가 반복형 객체를 생성해서 반환함으로써 반복형 프로토콜 완전히 구현\n",
    "    \n",
    "    \n",
    "class SentenceIterator:\n",
    "    \n",
    "    def __init__(self, words):\n",
    "        self.words = words # 단어 리스트에 대한 참조\n",
    "        self.index = 0 # 다음에 가져올 단어 결정\n",
    "        \n",
    "    def __next__(self):\n",
    "        \n",
    "        try:\n",
    "            words = self.words[self.index]\n",
    "        except IndexError:\n",
    "            raise StopIteration()\n",
    "        self.index += 1\n",
    "        return word\n",
    "    \n",
    "    def __iter__(self):\n",
    "        return self"
   ]
  },
  {
   "cell_type": "markdown",
   "id": "4845ace4",
   "metadata": {},
   "source": [
    "- 이 예제가 작동하는데 SentenceIterator의 \\__iter\\__()을 구현할 필요는 없지만 이 것이 올바른 구현\n",
    "- 반복자는 \\__next\\__()와 \\__iter\\__() 메서드를 모두 구현해야하고 이를 둘다 구현하면 "
   ]
  },
  {
   "cell_type": "code",
   "execution_count": 11,
   "id": "2b35b115",
   "metadata": {},
   "outputs": [
    {
     "data": {
      "text/plain": [
       "True"
      ]
     },
     "execution_count": 11,
     "metadata": {},
     "output_type": "execute_result"
    }
   ],
   "source": [
    "issubclass(SentenceIterator, abc.Iterator)"
   ]
  },
  {
   "cell_type": "markdown",
   "id": "935c797d",
   "metadata": {},
   "source": [
    "- SentenceIterator를 abc.Iterator에서 상속하면 구상 메서드인 abc.Iterator.\\__iter\\__() 상속 받을 수 있음\n"
   ]
  },
  {
   "cell_type": "markdown",
   "id": "8c9b67fb",
   "metadata": {},
   "source": [
    "### 14.3.1 Sentence를 반복자로 만들기 : 좋지 않은 생각\n",
    "- 반복형과 반복자를 만드는데 흔히 발생하는 오류는 둘을 혼동하기 때문\n",
    "- 반복형\n",
    "    - 호출될 때마나 반복자를 새로 생성하는 \\__iter\\__() 메서드를 가지고 있음\n",
    "- 반복자\n",
    "    - 개별 항목을 반환하는 \\__next\\__() 메서드와 self를 반환하는 \\__iter\\__()메서드를 가지고 있음\n",
    "- 반복자는 반복형이지만, 반복형은 반복자가 아님"
   ]
  },
  {
   "cell_type": "markdown",
   "id": "5f27b80e",
   "metadata": {},
   "source": [
    "## 14.4 Sentence 버전 3: 제너레이터 함수"
   ]
  },
  {
   "cell_type": "markdown",
   "id": "5cb0df0f",
   "metadata": {},
   "source": [
    "#### 예제 14-5 sentence_gen.py: 제너레이터 함수를 사용해서 구현한 Sentence"
   ]
  },
  {
   "cell_type": "code",
   "execution_count": 12,
   "id": "a5cf6207",
   "metadata": {},
   "outputs": [],
   "source": [
    "import re\n",
    "import reprlib\n",
    "\n",
    "RE_WORD = re.compile(\"\\w+\")\n",
    "\n",
    "class Sentence:\n",
    "    \n",
    "    def __init__(self, text):\n",
    "        self.text = text\n",
    "        self.words = RE_WORD.findall(text)\n",
    "        \n",
    "    def __repr__(self):\n",
    "        return \"Sentence(''%s')\" % reprlib.repr(self.text)\n",
    "    \n",
    "    def __iter__(self): # 앞에 구현한 class에 추가 구현\n",
    "        for word in self.words:\n",
    "            yield word # 현재 단어를 생성\n",
    "        return # 함수가 끝에 도달하면 값을 자동으로 반환하므로, 이 return 문은 필요 없음\n",
    "        # 제너레이터 함수는 StopIteration을 발생시키지 않고 값을 모두 생성한 후 그냥 빠져나감\n",
    "    \n",
    "# 완료, 별도의 반복자 클래스가 필요 없음"
   ]
  },
  {
   "cell_type": "markdown",
   "id": "a34ffb26",
   "metadata": {},
   "source": [
    "- 위의 예제에서 반복자는 사실 제너레이터 객체로서, \\__iter\\__() 메서드 호출할 때 자동으로 생성된"
   ]
  },
  {
   "cell_type": "markdown",
   "id": "fa6f34a6",
   "metadata": {},
   "source": [
    "### 14.4.1 제너레이터 함수의 작동 방식\n",
    "- 본체 안에 yield 키워드를 가진 함수는 모두 제너레이터 함수\n",
    "- 제너레이터 함수는 호출되면 제너레이터 객체를 반환\n",
    "    - 즉, 제너레이터 함수는 제너레이터 팩토리"
   ]
  },
  {
   "cell_type": "code",
   "execution_count": 17,
   "id": "a569fda1",
   "metadata": {},
   "outputs": [
    {
     "name": "stdout",
     "output_type": "stream",
     "text": [
      "gen_123 :  <function gen_123 at 0x000001A848E78B88>\n",
      "gen_123() :  <generator object gen_123 at 0x000001A848B91548>\n",
      "1\n",
      "2\n",
      "3\n"
     ]
    },
    {
     "ename": "StopIteration",
     "evalue": "",
     "output_type": "error",
     "traceback": [
      "\u001b[1;31m---------------------------------------------------------------------------\u001b[0m",
      "\u001b[1;31mStopIteration\u001b[0m                             Traceback (most recent call last)",
      "\u001b[1;32m~\\AppData\\Local\\Temp\\ipykernel_14748\\2601196904.py\u001b[0m in \u001b[0;36m<module>\u001b[1;34m\u001b[0m\n\u001b[0;32m     13\u001b[0m \u001b[0mnext\u001b[0m\u001b[1;33m(\u001b[0m\u001b[0mg\u001b[0m\u001b[1;33m)\u001b[0m\u001b[1;33m\u001b[0m\u001b[1;33m\u001b[0m\u001b[0m\n\u001b[0;32m     14\u001b[0m \u001b[0mnext\u001b[0m\u001b[1;33m(\u001b[0m\u001b[0mg\u001b[0m\u001b[1;33m)\u001b[0m\u001b[1;33m\u001b[0m\u001b[1;33m\u001b[0m\u001b[0m\n\u001b[1;32m---> 15\u001b[1;33m \u001b[0mnext\u001b[0m\u001b[1;33m(\u001b[0m\u001b[0mg\u001b[0m\u001b[1;33m)\u001b[0m\u001b[1;33m\u001b[0m\u001b[1;33m\u001b[0m\u001b[0m\n\u001b[0m",
      "\u001b[1;31mStopIteration\u001b[0m: "
     ]
    }
   ],
   "source": [
    "def gen_123(): # yield 키워드를 포함하고 있는 함수는 모두 제너레이터 함수\n",
    "    yield 1 \n",
    "    yield 2\n",
    "    yield 3\n",
    "    \n",
    "print(\"gen_123 : \", gen_123) # 함수 객체임을 확인 \n",
    "print(\"gen_123() : \", gen_123()) # 호출하면 제너레이터 객체 반환\n",
    "for i in gen_123(): \n",
    "    print(i)\n",
    "    \n",
    "g = gen_123() # 제너레이터 객체를 g에 할당\n",
    "next(g) # g가 반복자이기도 하므로 next(g)로 호출하면 yield가 다음 항목을 가지고 옴\n",
    "next(g)\n",
    "next(g)\n",
    "next(g) # 함수 본체 실행이 완료되면 제너레이터 객체는 StopIteration 발생"
   ]
  },
  {
   "cell_type": "markdown",
   "id": "3a52e044",
   "metadata": {},
   "source": [
    "- 제너레이터 함수를 함수 본체를 포함하는 제너레이터 객체를 생성\n",
    "- next()를 제너레이터 객체에 호출하면 함수 본체에 있는 다음 yield로 진행\n",
    "- next()는 함수 본체가 중단된 곳에서 생성된 값을 평가\n",
    "- 함수 본체가 반환될 때, 이 함수를 포함하고 있는 제너레이터 객체는 Iterator 프로토콜에 따라 StopIteration 예외 발생"
   ]
  },
  {
   "cell_type": "markdown",
   "id": "d7243fd4",
   "metadata": {},
   "source": [
    "#### 예제 14-6 실행할 때 메시지를 출력하는 제너레이터 함수"
   ]
  },
  {
   "cell_type": "code",
   "execution_count": 19,
   "id": "239ce6f2",
   "metadata": {},
   "outputs": [
    {
     "name": "stdout",
     "output_type": "stream",
     "text": [
      "start\n",
      "--> A\n",
      "continue\n",
      "--> B\n",
      "end.\n"
     ]
    }
   ],
   "source": [
    "def gen_AB(): # 제너레이터 함수는 여느 함수와 동일하게 정의되지만 yield 키워드 사용\n",
    "    print(\"start\") \n",
    "    yield 'A' # for문에서 처음 next()를 암묵적으로 호출하면 'start' 출력하고, 첫번째 yield 문에서 'A' 출력\n",
    "    print(\"continue\")\n",
    "    yield 'B' # for 루프에서 두번째 next()를 암묵적으로 호출하면 continue를 출력하고 'B' 생성\n",
    "    print(\"end.\") # 세 번째 next()가 호출되면 'end'를 출력하고 함수 본체의 끝까지 실행되어, 제너레이터 객체가 StopIteration 예외 발생\n",
    "\n",
    "for c in gen_AB(): # 반복하기 위해 for 루프는 g = iter(gend_AB())와 대등한 문장을 실행해서 제너레이터 객체 가져오고, \n",
    "                    # 반복할 때마다 next(g) 호출\n",
    "    print(\"-->\", c)"
   ]
  },
  {
   "cell_type": "markdown",
   "id": "899efc42",
   "metadata": {},
   "source": [
    "- for 루프가 소비할 값 'A'를 생성하여, 이 값을 변수 c에 할당\n",
    "- for 루프는 제너레이터 객체가 발생하는 StopIteration 예외를 잡은 후 루프 종료"
   ]
  },
  {
   "cell_type": "markdown",
   "id": "e912b813",
   "metadata": {},
   "source": [
    "## 14.5 Sentence 버전 4: 느긋한 구현"
   ]
  },
  {
   "cell_type": "markdown",
   "id": "b0ba3994",
   "metadata": {},
   "source": [
    "#### 예제 14-7 sentence_gen2.py : re.finditer() 제너레이터 함수를 호출하는 생성자 함수를 이요해서 구현한 Sentence"
   ]
  },
  {
   "cell_type": "code",
   "execution_count": 20,
   "id": "3787650a",
   "metadata": {},
   "outputs": [],
   "source": [
    "import re\n",
    "import reprlib\n",
    "\n",
    "RE_WORD = re.compile(\"\\w+\")\n",
    "\n",
    "class Sentence:\n",
    "    \n",
    "    def __init__(self, text):\n",
    "        self.text = text\n",
    "      \n",
    "        \n",
    "    def __repr__(self):\n",
    "        return \"Sentence(''%s')\" % reprlib.repr(self.text)\n",
    "    \n",
    "    def __iter__(self): # 앞에 구현한 class에 추가 구현\n",
    "        for match in RE_WORD.finditer(self.text): # self.text에서 RE_WORD에 대응되는 단어들의 반복자인 MatchObject 객체 생성\n",
    "            yield match.group() # MatchObject 객체에 매칭되는 텍스트 추출"
   ]
  },
  {
   "cell_type": "markdown",
   "id": "34b6c963",
   "metadata": {},
   "source": [
    "## 14.6 Sentence 버전 : 제너레이터 표현식"
   ]
  },
  {
   "cell_type": "markdown",
   "id": "2edfb823",
   "metadata": {},
   "source": [
    "#### 예제 14-8 지능형 리스트와 제너레이터 표현식에 사용된 gen_AB() 제너레이터 함수"
   ]
  },
  {
   "cell_type": "code",
   "execution_count": 23,
   "id": "6609afb0",
   "metadata": {},
   "outputs": [],
   "source": [
    "def gen_AB(): # 제너레이터 함수는 여느 함수와 동일하게 정의되지만 yield 키워드 사용\n",
    "    print(\"start\") \n",
    "    yield 'A' # for문에서 처음 next()를 암묵적으로 호출하면 'start' 출력하고, 첫번째 yield 문에서 'A' 출력\n",
    "    print(\"continue\")\n",
    "    yield 'B' # for 루프에서 두번째 next()를 암묵적으로 호출하면 continue를 출력하고 'B' 생성\n",
    "    print(\"end.\") # 세 번째 next()가 호출되면 'end'를 출력하고 함수 본체의 끝까지 실행되어, 제너레이터 객체가 StopIteration 예외 발생\n"
   ]
  },
  {
   "cell_type": "code",
   "execution_count": 34,
   "id": "61f5b4e4",
   "metadata": {},
   "outputs": [
    {
     "name": "stdout",
     "output_type": "stream",
     "text": [
      "start\n",
      "continue\n",
      "end.\n"
     ]
    }
   ],
   "source": [
    "res1 = [x*3 for x in gen_AB()]"
   ]
  },
  {
   "cell_type": "code",
   "execution_count": 35,
   "id": "8eb728ea",
   "metadata": {},
   "outputs": [
    {
     "data": {
      "text/plain": [
       "['AAA', 'BBB']"
      ]
     },
     "execution_count": 35,
     "metadata": {},
     "output_type": "execute_result"
    }
   ],
   "source": [
    "res1"
   ]
  },
  {
   "cell_type": "code",
   "execution_count": 36,
   "id": "65e437f9",
   "metadata": {},
   "outputs": [
    {
     "name": "stdout",
     "output_type": "stream",
     "text": [
      "--> AAA\n",
      "--> BBB\n"
     ]
    }
   ],
   "source": [
    "for i in res1:\n",
    "    print(\"-->\", i)"
   ]
  },
  {
   "cell_type": "code",
   "execution_count": 37,
   "id": "e4fbcc7d",
   "metadata": {},
   "outputs": [],
   "source": [
    "res2 = (x*3 for x in gen_AB()) # gen_AB()를 호출하지만 여기에서 소비하지 않음"
   ]
  },
  {
   "cell_type": "code",
   "execution_count": 38,
   "id": "cfe783b8",
   "metadata": {},
   "outputs": [
    {
     "data": {
      "text/plain": [
       "<generator object <genexpr> at 0x000001A8488D80C8>"
      ]
     },
     "execution_count": 38,
     "metadata": {},
     "output_type": "execute_result"
    }
   ],
   "source": [
    "res2 # 제너레이터 객체"
   ]
  },
  {
   "cell_type": "code",
   "execution_count": 39,
   "id": "830df845",
   "metadata": {},
   "outputs": [
    {
     "name": "stdout",
     "output_type": "stream",
     "text": [
      "start\n",
      "--> AAA\n",
      "continue\n",
      "--> BBB\n",
      "end.\n"
     ]
    }
   ],
   "source": [
    "for i in res2:\n",
    "    print(\"-->\", i)"
   ]
  },
  {
   "cell_type": "markdown",
   "id": "042cf164",
   "metadata": {},
   "source": [
    "<hr>"
   ]
  },
  {
   "cell_type": "markdown",
   "id": "23b1919e",
   "metadata": {},
   "source": [
    "#### 예제 14-9 sentence_genex.py : 제너레이터 표현식을 사용한 Sentence"
   ]
  },
  {
   "cell_type": "code",
   "execution_count": 41,
   "id": "0bb46e75",
   "metadata": {},
   "outputs": [],
   "source": [
    "import re\n",
    "import reprlib\n",
    "\n",
    "RE_WORD = re.compile(\"\\w+\")\n",
    "\n",
    "class Sentence:\n",
    "    \n",
    "    def __init__(self, text):\n",
    "        self.text = text\n",
    "      \n",
    "        \n",
    "    def __repr__(self):\n",
    "        return \"Sentence(''%s')\" % reprlib.repr(self.text)\n",
    "    \n",
    "    def __iter__(self): \n",
    "        return (match.group for match in RE_WORD.finditer(self.text))"
   ]
  },
  {
   "cell_type": "markdown",
   "id": "572ae0f9",
   "metadata": {},
   "source": [
    "## 14.7 제너레이터 표현식: 언제 사용하나?"
   ]
  },
  {
   "cell_type": "markdown",
   "id": "b9fae79e",
   "metadata": {},
   "source": [
    "- 제너레이터 표현식 \n",
    "    - 논리가 간단한 경우\n",
    "- 제너레이터 함수\n",
    "    - 표현식이 여러 줄에 걸쳐있는 경우"
   ]
  }
 ],
 "metadata": {
  "kernelspec": {
   "display_name": "Python 3 (ipykernel)",
   "language": "python",
   "name": "python3"
  },
  "language_info": {
   "codemirror_mode": {
    "name": "ipython",
    "version": 3
   },
   "file_extension": ".py",
   "mimetype": "text/x-python",
   "name": "python",
   "nbconvert_exporter": "python",
   "pygments_lexer": "ipython3",
   "version": "3.7.13"
  }
 },
 "nbformat": 4,
 "nbformat_minor": 5
}
