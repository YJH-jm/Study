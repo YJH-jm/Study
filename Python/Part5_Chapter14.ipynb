{
 "cells": [
  {
   "cell_type": "markdown",
   "id": "6e31194e",
   "metadata": {},
   "source": [
    "# 반복형, 반복자, 제너레이터"
   ]
  },
  {
   "cell_type": "markdown",
   "id": "ef0f20cc",
   "metadata": {},
   "source": [
    "- 데이터를 처리할 때 반복은 기본\n",
    "- 메모리에 다 들어가지 않는 데이터셋 검색할 때 항목들을 **느긋하게** 가져와야 함\n",
    "    - 즉, 한번에 한번씩 필요할 때 가져와야 함\n",
    "    - 반복자 패턴이 하는 일"
   ]
  },
  {
   "cell_type": "markdown",
   "id": "4a6fbb74",
   "metadata": {},
   "source": [
    "**Note**\n",
    "- 모든 제너레이터는 반복자\n",
    "    - 제너레이터가 반복자 인터페이스를 완전히 구현하고 있기 때문\n",
    "- 반복자는 [디자인 패턴] 에서 정의한 대로 컬렉션에서 항목을 가지고 옴\n",
    "- 제너레이터는 '마술처럼' 항목 생성 가능\n",
    "- 파이썬 커뮤니티에서는 **반복자** 와 **제너레이터**를 거의 동일시 "
   ]
  },
  {
   "cell_type": "markdown",
   "id": "3f495c09",
   "metadata": {},
   "source": [
    "파이썬의 **컬렉션**은 모두 **반복형**, 다음과 같은 연산 지원하기 위해 내부적으로 반복자 사용\n",
    "- for 루프\n",
    "- 컬렉션형 생성과 확장\n",
    "- 텍스트 파일을 한 줄씩 반복\n",
    "- 지능형 리스트/딕셔너리/집합\n",
    "- 튜플 언패킹\n",
    "- 함수 호출 시 * 를 이용해서 실제 매개변수를 언패킹"
   ]
  },
  {
   "cell_type": "markdown",
   "id": "049ce526",
   "metadata": {},
   "source": [
    "## 14.1 Sentence 버전 #1 : 단어 시퀀스"
   ]
  },
  {
   "cell_type": "markdown",
   "id": "89c8dc0b",
   "metadata": {},
   "source": [
    "#### 예제 14-1 sentence.py : 단어 시퀀스로서의 Sentence 클래스"
   ]
  },
  {
   "cell_type": "code",
   "execution_count": 14,
   "id": "0c667fa1",
   "metadata": {},
   "outputs": [],
   "source": [
    "import re\n",
    "import reprlib\n",
    "\n",
    "RE_WORD = re.compile('\\w+')\n",
    "\n",
    "class Sentence:\n",
    "    \n",
    "    def __init__(self, text):\n",
    "        self.text = text\n",
    "        self.words = RE_WORD.findall(text) # 정규 표현식에서 매칭되는 중복되지 않는 문자열의 리스트를 반환\n",
    "    \n",
    "    def __getitem__(self, index):\n",
    "        return self.words[index] # 주어진 index에 해당하는 단어 반환\n",
    "    \n",
    "    def __len__(self): # 시퀀스 프로토콜에 따르려면 필요, 반복형 객체에 이 메서드가 필요한 것은 아님\n",
    "        return len(self.words)\n",
    "    \n",
    "    def __repr__(self):\n",
    "        return 'Sentence(%s)' % reprlib.repr(self.text) # 매우 큰 데이터 구조체를 표현하는 문자열 축약해서 생성, 문자열을 30자로 제한"
   ]
  },
  {
   "cell_type": "markdown",
   "id": "1c4fe311",
   "metadata": {},
   "source": [
    "#### 14-2 Sentence 객체의 반복 테스트"
   ]
  },
  {
   "cell_type": "code",
   "execution_count": 15,
   "id": "ffd55555",
   "metadata": {},
   "outputs": [
    {
     "data": {
      "text/plain": [
       "Sentence('\"The time ha... Walrus said,')"
      ]
     },
     "execution_count": 15,
     "metadata": {},
     "output_type": "execute_result"
    }
   ],
   "source": [
    "s = Sentence('\"The time has come,\" the  Walrus said,') # 문자열을 이용하여 Sentence 객체 생성\n",
    "s # 출력한 메세지는 reprlib.repr()이 생성"
   ]
  },
  {
   "cell_type": "code",
   "execution_count": 8,
   "id": "472065d3",
   "metadata": {},
   "outputs": [
    {
     "name": "stdout",
     "output_type": "stream",
     "text": [
      "The\n",
      "time\n",
      "has\n",
      "come\n",
      "the\n",
      "Walrus\n",
      "said\n"
     ]
    }
   ],
   "source": [
    "for word in s: # Sentence 객체는 반복할 수 있음\n",
    "    print(word)"
   ]
  },
  {
   "cell_type": "code",
   "execution_count": 10,
   "id": "2dfe8769",
   "metadata": {},
   "outputs": [
    {
     "data": {
      "text/plain": [
       "['The', 'time', 'has', 'come', 'the', 'Walrus', 'said']"
      ]
     },
     "execution_count": 10,
     "metadata": {},
     "output_type": "execute_result"
    }
   ],
   "source": [
    "list(s) # 반복할 수 있으므로 Sentece 객체는 리스트 혹은 다른 반복형을 생성하기 위한 입력으로 사용 가능"
   ]
  },
  {
   "cell_type": "markdown",
   "id": "6b8f68f6",
   "metadata": {},
   "source": [
    "<hr>"
   ]
  },
  {
   "cell_type": "markdown",
   "id": "b1ed10c1",
   "metadata": {},
   "source": [
    "### 14.1.1 Sequemce가 반복 가능한 이유 : iter() 함수"
   ]
  },
  {
   "cell_type": "markdown",
   "id": "beacec2e",
   "metadata": {},
   "source": [
    "- 파이썬 인터프리터가 x 객체를 반복해야 할 때는 언제나 iter(x)를 자동으로 호출\n",
    "- iter() 내장함수는 다음 과정 수행\n",
    "    1. 객체가 \\__iter\\__() 메서드를 구현하는지 확인, 이 메서드를 호출해서 반복자 가지고 옴\n",
    "    2. \\__iter\\__()  메서드가 구현되어 있지 않지만 \\__getitem\\__() 이 구현되어 있다면, 파이썬은 인덱스 0에서 시작해서 항목을 순서대로 가져오는 반복자 생성\n",
    "    3. 이 과정이 모두 실패하면 파이썬은 **TypeError ; 'C' object is not iterable** 발생"
   ]
  }
 ],
 "metadata": {
  "kernelspec": {
   "display_name": "Python 3 (ipykernel)",
   "language": "python",
   "name": "python3"
  },
  "language_info": {
   "codemirror_mode": {
    "name": "ipython",
    "version": 3
   },
   "file_extension": ".py",
   "mimetype": "text/x-python",
   "name": "python",
   "nbconvert_exporter": "python",
   "pygments_lexer": "ipython3",
   "version": "3.7.13"
  }
 },
 "nbformat": 4,
 "nbformat_minor": 5
}
