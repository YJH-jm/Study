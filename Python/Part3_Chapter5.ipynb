{
 "cells": [
  {
   "cell_type": "markdown",
   "metadata": {},
   "source": [
    "# 일급 함수\n",
    "- 파이썬 함수는 일급 객체\n",
    "\n",
    "<br>\n",
    "\n",
    "- 일급 객체 정의\n",
    "    - 런타임(runtime)에 생성할 수 있음\n",
    "    - 데이터 구조체의 변수나 요소에 할당할 수 있음\n",
    "    - 함수 인수로 전달 할 수 있음\n",
    "    - 함수 결과로 반환 할 수 있음\n",
    "\n",
    "<br>\n",
    "\n",
    "- 정수, 문자열 dict도 파이썬의 일급 객체\n",
    "\n",
    "<br>\n",
    "\n",
    "- \"일급 객체로서의 함수\"를 줄여 \"일급 함수\" 라는 용어가 널리 사용되지만 완벽한 용어는 아님"
   ]
  },
  {
   "cell_type": "markdown",
   "metadata": {},
   "source": [
    "## 함수를 객체처럼 다루기"
   ]
  },
  {
   "cell_type": "markdown",
   "metadata": {},
   "source": [
    "#### 예제 5-1\n",
    "- 함수를 생성하고 테스트하고, 함수의 \\__doc\\__ 읽어서 자료형 확인"
   ]
  },
  {
   "cell_type": "code",
   "execution_count": 2,
   "metadata": {},
   "outputs": [],
   "source": [
    "def factorial(n): # 콘솔 세션에 있으면 함수를 \"런타임\"에 만들고 있는 것\n",
    "    '''returns n!'''\n",
    "    return 1 if n < 2 else n * factorial(n-1)\n"
   ]
  },
  {
   "cell_type": "code",
   "execution_count": 3,
   "metadata": {},
   "outputs": [
    {
     "data": {
      "text/plain": [
       "1405006117752879898543142606244511569936384000000000"
      ]
     },
     "execution_count": 3,
     "metadata": {},
     "output_type": "execute_result"
    }
   ],
   "source": [
    "factorial(42) # 런타임에 만들어진 것"
   ]
  },
  {
   "cell_type": "code",
   "execution_count": 4,
   "metadata": {},
   "outputs": [
    {
     "data": {
      "text/plain": [
       "'returns n!'"
      ]
     },
     "execution_count": 4,
     "metadata": {},
     "output_type": "execute_result"
    }
   ],
   "source": [
    "factorial.__doc__ # 객체의 여러 속성 중 하나, 객체의 도움말 텍스트를 생성하기 위해 사용"
   ]
  },
  {
   "cell_type": "code",
   "execution_count": 5,
   "metadata": {},
   "outputs": [
    {
     "name": "stdout",
     "output_type": "stream",
     "text": [
      "<class 'function'>\n"
     ]
    }
   ],
   "source": [
    "print(type(factorial)) # factorail은 function 클래스의 객체"
   ]
  },
  {
   "cell_type": "code",
   "execution_count": 7,
   "metadata": {},
   "outputs": [
    {
     "data": {
      "text/plain": [
       "function"
      ]
     },
     "execution_count": 7,
     "metadata": {},
     "output_type": "execute_result"
    }
   ],
   "source": [
    "type(factorial)"
   ]
  },
  {
   "cell_type": "code",
   "execution_count": 6,
   "metadata": {},
   "outputs": [
    {
     "name": "stdout",
     "output_type": "stream",
     "text": [
      "Help on function factorial in module __main__:\n",
      "\n",
      "factorial(n)\n",
      "    returns n!\n",
      "\n"
     ]
    }
   ],
   "source": [
    "help(factorial)"
   ]
  },
  {
   "cell_type": "markdown",
   "metadata": {},
   "source": [
    "#### 예제 5-2\n",
    "- 함수를 다른 이름으로 사용하고 함수의 인수로 전달"
   ]
  },
  {
   "cell_type": "code",
   "execution_count": 13,
   "metadata": {},
   "outputs": [
    {
     "name": "stdout",
     "output_type": "stream",
     "text": [
      "<function factorial at 0x0000019B136E39D0>\n"
     ]
    }
   ],
   "source": [
    "fact = factorial\n",
    "print(fact)"
   ]
  },
  {
   "cell_type": "code",
   "execution_count": 14,
   "metadata": {},
   "outputs": [
    {
     "data": {
      "text/plain": [
       "120"
      ]
     },
     "execution_count": 14,
     "metadata": {},
     "output_type": "execute_result"
    }
   ],
   "source": [
    "fact(5)"
   ]
  },
  {
   "cell_type": "code",
   "execution_count": 15,
   "metadata": {},
   "outputs": [
    {
     "data": {
      "text/plain": [
       "<map at 0x19b136d12e0>"
      ]
     },
     "execution_count": 15,
     "metadata": {},
     "output_type": "execute_result"
    }
   ],
   "source": [
    "map(factorial, range(11))"
   ]
  },
  {
   "cell_type": "code",
   "execution_count": 16,
   "metadata": {},
   "outputs": [
    {
     "data": {
      "text/plain": [
       "[1, 1, 2, 6, 24, 120, 720, 5040, 40320, 362880, 3628800]"
      ]
     },
     "execution_count": 16,
     "metadata": {},
     "output_type": "execute_result"
    }
   ],
   "source": [
    "list(map(factorial, range(11)))"
   ]
  },
  {
   "cell_type": "markdown",
   "metadata": {},
   "source": [
    "- 함수를 fact 변수에 할당하고, 이 변수명을 통해 함수를 호출\n",
    "- factorial을 map의 인수로 전달\n",
    "- map 함수는 반복 가능형 객체를 반환"
   ]
  },
  {
   "cell_type": "markdown",
   "metadata": {},
   "source": [
    "## 5.2 고위 함수\n",
    "- 함수를 인수로 받거나, 함수를 결과로 반환하는 함수\n",
    "    - ex> map(), list.sort(), sorted()"
   ]
  },
  {
   "cell_type": "markdown",
   "metadata": {},
   "source": [
    "#### 예제 5-3\n",
    "- 단어 리스트를 길이에 따라 정렬\n",
    "- len 함수를 key 인수로 전달"
   ]
  },
  {
   "cell_type": "code",
   "execution_count": 8,
   "metadata": {},
   "outputs": [
    {
     "data": {
      "text/plain": [
       "['fig', 'apple', 'cherry', 'banana', 'raspberry', 'strawberry']"
      ]
     },
     "execution_count": 8,
     "metadata": {},
     "output_type": "execute_result"
    }
   ],
   "source": [
    "fruits = [\"strawberry\", \"fig\", \"apple\", \"cherry\", \"raspberry\", \"banana\"]\n",
    "sorted(fruits, key=len)"
   ]
  },
  {
   "cell_type": "markdown",
   "metadata": {},
   "source": [
    "#### 예제 5-4\n",
    "- 단어 리스트를철자 역순으로 정렬"
   ]
  },
  {
   "cell_type": "code",
   "execution_count": 9,
   "metadata": {},
   "outputs": [
    {
     "data": {
      "text/plain": [
       "'gnitset'"
      ]
     },
     "execution_count": 9,
     "metadata": {},
     "output_type": "execute_result"
    }
   ],
   "source": [
    "def reverse(word):\n",
    "    return word[::-1]\n",
    "reverse(\"testing\")"
   ]
  },
  {
   "cell_type": "code",
   "execution_count": 20,
   "metadata": {},
   "outputs": [
    {
     "data": {
      "text/plain": [
       "['banana', 'apple', 'fig', 'raspberry', 'strawberry', 'cherry']"
      ]
     },
     "execution_count": 20,
     "metadata": {},
     "output_type": "execute_result"
    }
   ],
   "source": [
    "sorted(fruits, key=reverse)"
   ]
  },
  {
   "cell_type": "markdown",
   "metadata": {},
   "source": [
    "### 5.2.1 map(), filter(), reduce()의 대안\n",
    "- 이름이 다른 경우도 있지만, 함수형 언어는 모두 map(), filter(), reduce() 고위 함수 제공\n",
    "- map()과 filter() 여전히 python3에 내장\n",
    "    - list comprehension, generator 이후 중요성 떨어짐"
   ]
  },
  {
   "cell_type": "markdown",
   "metadata": {},
   "source": [
    "#### 예제 5-5\n",
    "- 팩토리얼 목록을 map()/filter()로 생성하는 방법과 list comprehension으로 생성하는 방법"
   ]
  },
  {
   "cell_type": "code",
   "execution_count": 21,
   "metadata": {},
   "outputs": [
    {
     "data": {
      "text/plain": [
       "[1, 1, 2, 6, 24, 120]"
      ]
     },
     "execution_count": 21,
     "metadata": {},
     "output_type": "execute_result"
    }
   ],
   "source": [
    "list(map(fact, range(6)))"
   ]
  },
  {
   "cell_type": "code",
   "execution_count": 22,
   "metadata": {},
   "outputs": [
    {
     "data": {
      "text/plain": [
       "[1, 1, 2, 6, 24, 120]"
      ]
     },
     "execution_count": 22,
     "metadata": {},
     "output_type": "execute_result"
    }
   ],
   "source": [
    "[fact(n) for n in range(6)]"
   ]
  },
  {
   "cell_type": "code",
   "execution_count": 23,
   "metadata": {},
   "outputs": [
    {
     "data": {
      "text/plain": [
       "[1, 6, 120]"
      ]
     },
     "execution_count": 23,
     "metadata": {},
     "output_type": "execute_result"
    }
   ],
   "source": [
    "list(map(factorial, filter(lambda n : n%2, range(6))))"
   ]
  },
  {
   "cell_type": "code",
   "execution_count": 24,
   "metadata": {},
   "outputs": [
    {
     "data": {
      "text/plain": [
       "[1, 6, 120]"
      ]
     },
     "execution_count": 24,
     "metadata": {},
     "output_type": "execute_result"
    }
   ],
   "source": [
    "[factorial(n) for n in range(6) if n % 2]"
   ]
  },
  {
   "cell_type": "markdown",
   "metadata": {},
   "source": [
    "- python3에서 map, filter는 generator(일종의 반복 가능 객체)를 반환하므로 generator 표현식이 이 함수들을 직접 대체\n",
    "    - python2에서는 리스트를 반환하므로 listcomp가 가장 근접한 대안\n",
    "- python2에 내장되었던 reduce() 함수는 python3에서는 functools 모듈로 나옴"
   ]
  },
  {
   "cell_type": "markdown",
   "metadata": {},
   "source": [
    "#### 예제 5-6\n",
    "- reduce()와 sum()을 이용해서 99까지 정수 더하기"
   ]
  },
  {
   "cell_type": "code",
   "execution_count": 29,
   "metadata": {},
   "outputs": [
    {
     "data": {
      "text/plain": [
       "4950"
      ]
     },
     "execution_count": 29,
     "metadata": {},
     "output_type": "execute_result"
    }
   ],
   "source": [
    "from functools import reduce\n",
    "from operator import add\n",
    "\n",
    "reduce(add, range(100))"
   ]
  },
  {
   "cell_type": "code",
   "execution_count": 28,
   "metadata": {},
   "outputs": [
    {
     "data": {
      "text/plain": [
       "4950"
      ]
     },
     "execution_count": 28,
     "metadata": {},
     "output_type": "execute_result"
    }
   ],
   "source": [
    "sum(range(100)) # 함수를 import 하거나 추가할 필요 없음!"
   ]
  },
  {
   "cell_type": "markdown",
   "metadata": {},
   "source": [
    "- sum과 reduce는 연속된 항목에 어떤 연산을 적용해서, 이전 결과를 누적시키면서 일련의 값의 하나의 값으로 리덕션 한다는 공통점"
   ]
  },
  {
   "cell_type": "markdown",
   "metadata": {},
   "source": [
    "내장된 reduction 함수의 예\n",
    "\n",
    "- all(iterable)\n",
    "    - 모든 iterable이 참된 값이면 True 반환\n",
    "    - all([])는 True 반환\n",
    "- any(iterable)\n",
    "    - iterable 중 하나라도 참된 값이 있으면 True 반환\n",
    "    - any([]) False 반환"
   ]
  },
  {
   "cell_type": "markdown",
   "metadata": {},
   "source": [
    "### 5.3 익명함수\n",
    "- **lambda** 키워드는 파이썬 표현식 내에서 익명 함수 생성\n",
    " - 람다 함수 본체가 순수한 표현식으로만 구성되도록 제한\n",
    "     - 람다 본체에 할당문, while, try 등의 파이썬 문장 사용할 수 없음"
   ]
  },
  {
   "cell_type": "markdown",
   "metadata": {},
   "source": [
    "#### 예제 5-7\n",
    "- lambda 함수를 이용해서 철자 역순으로 단어 리스트 정렬"
   ]
  },
  {
   "cell_type": "code",
   "execution_count": 31,
   "metadata": {},
   "outputs": [
    {
     "data": {
      "text/plain": [
       "['banana', 'apple', 'fig', 'raspberry', 'strawberry', 'cherry']"
      ]
     },
     "execution_count": 31,
     "metadata": {},
     "output_type": "execute_result"
    }
   ],
   "source": [
    "fruits = [\"strawberry\", \"fig\", \"apple\", \"cherry\", \"raspberry\", \"banana\"]\n",
    "sorted(fruits, key = lambda word : word[::-1])"
   ]
  },
  {
   "cell_type": "markdown",
   "metadata": {},
   "source": [
    "- 고위 함수의 인자로 사용하는 방법 외에 익명 함수를 파이썬에서 거의 사용되지 않음"
   ]
  },
  {
   "cell_type": "markdown",
   "metadata": {},
   "source": [
    "## 5.4 일곱 가지 맛의 콜러블 객체\n",
    "- 호출 연산자인 ()는 사용자 정의 함수 이외의 다른 객체에도 적용 할 수 있음\n",
    "- 호출 할 수 있는 객체인지 알아보려면 callabel() 내장 함수 사용"
   ]
  },
  {
   "cell_type": "markdown",
   "metadata": {},
   "source": [
    "python 데이터 모델 문서의 일곱가지 콜러블 나열\n",
    "\n",
    "1. 사용자 정의 함수\n",
    "    - def, lambda 문으로 생성\n",
    "2. 내장함수\n",
    "    - len()이나 time.strftime() 처럼 C언어로 구현된 함수(CPython의 경우)\n",
    "3. 내장메서드\n",
    "    - dict.get() 처럼 C 언어로 구현된 메서드\n",
    "4. 메서드\n",
    "    - 클레스 본체에 정의된 함수\n",
    "5. 클래스\n",
    "    - 호출 될 때 클래스 자신의 \\__new\\__ 메서드 실행해서 객체 생성 -> 객체화 할 수 있음\n",
    "    - \\__init\\__ 으로 초기화 후 객체 반환\n",
    "    - python에는 \\__new\\__  연산자가 없으므로 클래스를 호출하는 것은 함수를 호출하는 것과 동일 \n",
    "6. 클래스 객체\n",
    "    - 클래스가 \\__call\\__() 메서드를 구현하면 이 클래스의 깨체는 함수로 호출 될 수 있음\n",
    "7. 제너레이터 함수\n",
    "    - yield 키워드를 사용하는 함수나 메소드\n",
    "    - 이 함수가 호출되면 제너레이터 객체를 반환 "
   ]
  },
  {
   "cell_type": "code",
   "execution_count": 34,
   "metadata": {},
   "outputs": [
    {
     "name": "stdout",
     "output_type": "stream",
     "text": [
      "<built-in function abs> <class 'str'> 13\n"
     ]
    }
   ],
   "source": [
    "print(abs, str, 13)"
   ]
  },
  {
   "cell_type": "code",
   "execution_count": 36,
   "metadata": {},
   "outputs": [
    {
     "data": {
      "text/plain": [
       "[True, True, False]"
      ]
     },
     "execution_count": 36,
     "metadata": {},
     "output_type": "execute_result"
    }
   ],
   "source": [
    "[callable(obj) for obj in (abs, str, 13)]"
   ]
  },
  {
   "cell_type": "markdown",
   "metadata": {},
   "source": [
    "## 5.5 사용자 정의 콜러블형\n",
    "- 파이썬 함수가 실제 객체일 뿐만이 아니라, 모든 파이썬 객체가 함수처럼 동작하게 만들 수 있음\n",
    "    - \\__call\\__() 인스턴스 메서드 구현"
   ]
  },
  {
   "cell_type": "markdown",
   "metadata": {},
   "source": [
    "#### 예제 5-8\n",
    "- BingoCage 클래스는 뒤섞인 리스트에서 항목 골라냄"
   ]
  },
  {
   "cell_type": "code",
   "execution_count": 49,
   "metadata": {},
   "outputs": [],
   "source": [
    "import random\n",
    "\n",
    "class BingoCage:\n",
    "    \n",
    "    def __init__(self, items): # 반복 가능 객체를 받음\n",
    "        self._items = list(items)\n",
    "        random.shuffle(self._items) \n",
    "        \n",
    "    def pick(self):\n",
    "        try:\n",
    "            return self._items.pop()\n",
    "        except IndexError:\n",
    "            raise LookupError('pick up from empty BingoCage')\n"
   ]
  },
  {
   "cell_type": "code",
   "execution_count": 50,
   "metadata": {},
   "outputs": [
    {
     "ename": "TypeError",
     "evalue": "'BingoCage' object is not callable",
     "output_type": "error",
     "traceback": [
      "\u001b[1;31m---------------------------------------------------------------------------\u001b[0m",
      "\u001b[1;31mTypeError\u001b[0m                                 Traceback (most recent call last)",
      "\u001b[1;32m<ipython-input-50-baec9ff78e70>\u001b[0m in \u001b[0;36m<module>\u001b[1;34m\u001b[0m\n\u001b[0;32m      1\u001b[0m \u001b[0mbingo\u001b[0m \u001b[1;33m=\u001b[0m \u001b[0mBingoCage\u001b[0m\u001b[1;33m(\u001b[0m\u001b[0mrange\u001b[0m\u001b[1;33m(\u001b[0m\u001b[1;36m3\u001b[0m\u001b[1;33m)\u001b[0m\u001b[1;33m)\u001b[0m\u001b[1;33m\u001b[0m\u001b[1;33m\u001b[0m\u001b[0m\n\u001b[0;32m      2\u001b[0m \u001b[0mbingo\u001b[0m\u001b[1;33m.\u001b[0m\u001b[0mpick\u001b[0m\u001b[1;33m(\u001b[0m\u001b[1;33m)\u001b[0m\u001b[1;33m\u001b[0m\u001b[1;33m\u001b[0m\u001b[0m\n\u001b[1;32m----> 3\u001b[1;33m \u001b[0mbingo\u001b[0m\u001b[1;33m(\u001b[0m\u001b[1;33m)\u001b[0m\u001b[1;33m\u001b[0m\u001b[1;33m\u001b[0m\u001b[0m\n\u001b[0m",
      "\u001b[1;31mTypeError\u001b[0m: 'BingoCage' object is not callable"
     ]
    }
   ],
   "source": [
    "bingo = BingoCage(range(3))\n",
    "bingo.pick()\n",
    "bingo()"
   ]
  },
  {
   "cell_type": "code",
   "execution_count": 51,
   "metadata": {},
   "outputs": [
    {
     "data": {
      "text/plain": [
       "False"
      ]
     },
     "execution_count": 51,
     "metadata": {},
     "output_type": "execute_result"
    }
   ],
   "source": [
    "callable(bingo)"
   ]
  },
  {
   "cell_type": "code",
   "execution_count": 52,
   "metadata": {},
   "outputs": [],
   "source": [
    "import random\n",
    "\n",
    "class BingoCage:\n",
    "    \n",
    "    def __init__(self, items): # 반복 가능 객체를 받음\n",
    "        self._items = list(items)\n",
    "        random.shuffle(self._items) \n",
    "        \n",
    "    def pick(self):\n",
    "        try:\n",
    "            return self._items.pop()\n",
    "        except IndexError:\n",
    "            raise LookupError('pick up from empty BingoCage')\n",
    "            \n",
    "    def __call__(self): # bingo.pick()에 대한 단축 형태로 bingo() 정의\n",
    "        return self.pick()"
   ]
  },
  {
   "cell_type": "code",
   "execution_count": 53,
   "metadata": {},
   "outputs": [
    {
     "data": {
      "text/plain": [
       "2"
      ]
     },
     "execution_count": 53,
     "metadata": {},
     "output_type": "execute_result"
    }
   ],
   "source": [
    "bingo = BingoCage(range(3))\n",
    "bingo.pick()\n",
    "bingo()"
   ]
  },
  {
   "cell_type": "code",
   "execution_count": 54,
   "metadata": {},
   "outputs": [
    {
     "data": {
      "text/plain": [
       "True"
      ]
     },
     "execution_count": 54,
     "metadata": {},
     "output_type": "execute_result"
    }
   ],
   "source": [
    "callable(bingo)"
   ]
  },
  {
   "cell_type": "markdown",
   "metadata": {},
   "source": [
    "## 5.6 함수 인트로스펙션\n",
    "- 함수 객체는 \\__doc\\__ 이외에도 많은 속성을 가지고 있음"
   ]
  },
  {
   "cell_type": "code",
   "execution_count": 55,
   "metadata": {},
   "outputs": [
    {
     "data": {
      "text/plain": [
       "['__annotations__',\n",
       " '__call__',\n",
       " '__class__',\n",
       " '__closure__',\n",
       " '__code__',\n",
       " '__defaults__',\n",
       " '__delattr__',\n",
       " '__dict__',\n",
       " '__dir__',\n",
       " '__doc__',\n",
       " '__eq__',\n",
       " '__format__',\n",
       " '__ge__',\n",
       " '__get__',\n",
       " '__getattribute__',\n",
       " '__globals__',\n",
       " '__gt__',\n",
       " '__hash__',\n",
       " '__init__',\n",
       " '__init_subclass__',\n",
       " '__kwdefaults__',\n",
       " '__le__',\n",
       " '__lt__',\n",
       " '__module__',\n",
       " '__name__',\n",
       " '__ne__',\n",
       " '__new__',\n",
       " '__qualname__',\n",
       " '__reduce__',\n",
       " '__reduce_ex__',\n",
       " '__repr__',\n",
       " '__setattr__',\n",
       " '__sizeof__',\n",
       " '__str__',\n",
       " '__subclasshook__']"
      ]
     },
     "execution_count": 55,
     "metadata": {},
     "output_type": "execute_result"
    }
   ],
   "source": [
    "dir(factorial)"
   ]
  },
  {
   "cell_type": "markdown",
   "metadata": {},
   "source": [
    "- \\__ def \\__ () 속성\n",
    "    - 기본적인 애너테이션 형태로 쓸모가 많음\n",
    "    - 장고와 같은 프레임워크는 이 기능 사용"
   ]
  },
  {
   "cell_type": "markdown",
   "metadata": {},
   "source": [
    "#### 예제 5-9\n",
    "- 일반 객체에는 존재하지 않는 함수 속성 나열하기"
   ]
  },
  {
   "cell_type": "code",
   "execution_count": 56,
   "metadata": {},
   "outputs": [
    {
     "data": {
      "text/plain": [
       "['__annotations__',\n",
       " '__call__',\n",
       " '__closure__',\n",
       " '__code__',\n",
       " '__defaults__',\n",
       " '__get__',\n",
       " '__globals__',\n",
       " '__kwdefaults__',\n",
       " '__name__',\n",
       " '__qualname__']"
      ]
     },
     "execution_count": 56,
     "metadata": {},
     "output_type": "execute_result"
    }
   ],
   "source": [
    "class C: pass # 기본적인 사용자 정의 클래스 생성\n",
    "obj = C()\n",
    "def func(): pass # 기본적인 함수 생성\n",
    "sorted(set(dir(func))-set(dir(obj))) # 함수에는 존재하지만 기본 클래스의 객체에는 존재하지 않는 속성들을 정렬한 리스트 생성"
   ]
  },
  {
   "cell_type": "code",
   "execution_count": 10,
   "metadata": {},
   "outputs": [
    {
     "data": {
      "text/plain": [
       "['__weakref__']"
      ]
     },
     "execution_count": 10,
     "metadata": {},
     "output_type": "execute_result"
    }
   ],
   "source": [
    "class C: pass # 기본적인 사용자 정의 클래스 생성\n",
    "obj = C()\n",
    "def func(): pass # 기본적인 함수 생성\n",
    "sorted(set(dir(obj))-set(dir(func))) # 함수에는 존재하지만 기본 클래스의 객체에는 존재하지 않는 속성들을 정렬한 리스트 생성"
   ]
  },
  {
   "cell_type": "markdown",
   "metadata": {},
   "source": [
    "## 5.7 위치 매개변수에서 키워드 전용 매개변수까지\n",
    "- 함수를 호출 할 때 반복 가능 객체나 매핑형을 별도의 인수로 '폭발' 시키는 * 와 ** 기호도 이 매커니즘과 밀접하게 연관\n"
   ]
  },
  {
   "cell_type": "markdown",
   "metadata": {},
   "source": [
    "#### 예제 5-10"
   ]
  },
  {
   "cell_type": "code",
   "execution_count": 40,
   "metadata": {},
   "outputs": [],
   "source": [
    "def tag(name, *content, cls=None, **attrs):\n",
    "    \"\"\"하나 이상의 HTML tag 생성\"\"\"\n",
    "    print(name, content, cls, attrs)\n",
    "    \n",
    "    print(\"bool(content) : \", bool(content))\n",
    "    print(\"bool(attrs) : \",bool(attrs))\n",
    "    if cls is not None:\n",
    "        attrs['class'] = cls\n",
    "    if attrs:\n",
    "        attr_str = ''.join(' %s=\"%s\"' % (attr, value)\n",
    "                           for attr, value\n",
    "                           in sorted(attrs.items()))\n",
    "    else:\n",
    "        attr_str = ''\n",
    "    if content:\n",
    "        return '\\n'.join('<%s%s>%s</%s>' %\n",
    "                         (name, attr_str, c, name) for c in content)\n",
    "    else:\n",
    "        return '<%s%s />' % (name, attr_str)"
   ]
  },
  {
   "cell_type": "markdown",
   "metadata": {},
   "source": [
    "#### 예제 5-11"
   ]
  },
  {
   "cell_type": "code",
   "execution_count": 12,
   "metadata": {},
   "outputs": [
    {
     "name": "stdout",
     "output_type": "stream",
     "text": [
      "br () None {}\n",
      "bool(content) :  False\n",
      "bool(attrs) :  False\n"
     ]
    },
    {
     "data": {
      "text/plain": [
       "'<br />'"
      ]
     },
     "execution_count": 12,
     "metadata": {},
     "output_type": "execute_result"
    }
   ],
   "source": [
    "tag('br')"
   ]
  },
  {
   "cell_type": "code",
   "execution_count": 13,
   "metadata": {},
   "outputs": [
    {
     "name": "stdout",
     "output_type": "stream",
     "text": [
      "p ('hello',) None {}\n",
      "bool(content) :  True\n",
      "bool(attrs) :  False\n"
     ]
    },
    {
     "data": {
      "text/plain": [
       "'<p>hello</p>'"
      ]
     },
     "execution_count": 13,
     "metadata": {},
     "output_type": "execute_result"
    }
   ],
   "source": [
    "tag(\"p\", \"hello\")"
   ]
  },
  {
   "cell_type": "code",
   "execution_count": 14,
   "metadata": {
    "scrolled": true
   },
   "outputs": [
    {
     "name": "stdout",
     "output_type": "stream",
     "text": [
      "p ('hello', 'world') None {}\n",
      "bool(content) :  True\n",
      "bool(attrs) :  False\n"
     ]
    },
    {
     "data": {
      "text/plain": [
       "'<p>hello</p>\\n<p>world</p>'"
      ]
     },
     "execution_count": 14,
     "metadata": {},
     "output_type": "execute_result"
    }
   ],
   "source": [
    "tag(\"p\", \"hello\", \"world\") # 첫번째 이후의 인수들은 모두 *content 매개변수에 tuple로 전달"
   ]
  },
  {
   "cell_type": "code",
   "execution_count": 15,
   "metadata": {},
   "outputs": [
    {
     "name": "stdout",
     "output_type": "stream",
     "text": [
      "p ('hello',) None {'id': 33}\n",
      "bool(content) :  True\n",
      "bool(attrs) :  True\n"
     ]
    },
    {
     "data": {
      "text/plain": [
       "'<p id=\"33\">hello</p>'"
      ]
     },
     "execution_count": 15,
     "metadata": {},
     "output_type": "execute_result"
    }
   ],
   "source": [
    "tag(\"p\", \"hello\", id=33) # tag 시그너쳐에 명시적으로 이름이 지정되지 않은 키워드 인수들은 딕셔너리로 **attrs 인수에 전달 "
   ]
  },
  {
   "cell_type": "code",
   "execution_count": 16,
   "metadata": {
    "scrolled": true
   },
   "outputs": [
    {
     "name": "stdout",
     "output_type": "stream",
     "text": [
      "p ('hello', 'world') sidebar {}\n",
      "bool(content) :  True\n",
      "bool(attrs) :  False\n",
      "<p class=\"sidebar\">hello</p>\n",
      "<p class=\"sidebar\">world</p>\n"
     ]
    }
   ],
   "source": [
    "print(tag(\"p\", \"hello\", \"world\", cls=\"sidebar\")) # cls 매개변수만 인수로 전달 "
   ]
  },
  {
   "cell_type": "code",
   "execution_count": 17,
   "metadata": {},
   "outputs": [
    {
     "name": "stdout",
     "output_type": "stream",
     "text": [
      "img () None {'content': 'testing'}\n",
      "bool(content) :  False\n",
      "bool(attrs) :  True\n",
      "<img content=\"testing\" />\n"
     ]
    }
   ],
   "source": [
    "print(tag(content='testing', name=\"img\")) # 첫번째 위치 인수도 tag가 호출되면 키워드로 전달 할 수 있음"
   ]
  },
  {
   "cell_type": "code",
   "execution_count": 18,
   "metadata": {},
   "outputs": [
    {
     "name": "stdout",
     "output_type": "stream",
     "text": [
      "img () framed {'title': 'Sunset Boulevard', 'src': 'sunset.jpg'}\n",
      "bool(content) :  False\n",
      "bool(attrs) :  True\n"
     ]
    },
    {
     "data": {
      "text/plain": [
       "'<img class=\"framed\" src=\"sunset.jpg\" title=\"Sunset Boulevard\" />'"
      ]
     },
     "execution_count": 18,
     "metadata": {},
     "output_type": "execute_result"
    }
   ],
   "source": [
    "my_tag = {'name': 'img', 'title': 'Sunset Boulevard','src': 'sunset.jpg', 'cls': 'framed'}\n",
    "tag(**my_tag) # my_tag 딕셔너리 앞에 ** 붙이면 딕셔너리 안의 모든 항목을 별도의 인수로 전달하고\n",
    "# 명명된 매개변수 및 나머지는 **attrs에 전달"
   ]
  },
  {
   "cell_type": "markdown",
   "metadata": {},
   "source": [
    "- 키워드 전용 인수는 python3에 추가된 내용\n",
    "- cls 매개변수는 키워드 인수로만 전달 될 수 있으며, 결코 익명의 위치 인수로는 전달되지 않음\n",
    "- 함수를 정의할 때 키워드 전용 인수를 지정하려면 * 가 붙은 인수 뒤에 이름을 지정\n",
    "- 가변 개수의 위치 인수를 지원하지 않으면서 키워드 전용 인수를 지원하고 싶으면, 다음과 같이 * 만 시그니처에 포함"
   ]
  },
  {
   "cell_type": "code",
   "execution_count": 20,
   "metadata": {},
   "outputs": [
    {
     "data": {
      "text/plain": [
       "(1, 2)"
      ]
     },
     "execution_count": 20,
     "metadata": {},
     "output_type": "execute_result"
    }
   ],
   "source": [
    "def f(a, *, b):\n",
    "    return a, b\n",
    "\n",
    "f(1, b=2)"
   ]
  },
  {
   "cell_type": "markdown",
   "metadata": {},
   "source": [
    "## 5.8 매개변수에 대한 정보 읽기\n",
    " 인트로스펙션(Introspection)이란? 특정 클래스가 어떤 클래스로부터 파생되었는지, 혹은 어떤 함수가 구현되어 있는지, 객체에는 어떤 속성이 있는지에 대한 상세한 정보를 런타임에 얻거나 조작하는 기술을 뜻합니다. 이러한 인트로스펙션(introspeciton) 덕분에 Python은 실행 시점에 프로그램의 내부 속성 정보를 조작할 수 있다고"
   ]
  },
  {
   "cell_type": "code",
   "execution_count": 5,
   "metadata": {},
   "outputs": [],
   "source": [
    "import bobo\n",
    "\n",
    "@bobo.query(\"/\") # hello()와 같은 평범한 함수오 프레임 워크에서 제공하는 요청 처리 매커니즘 결합\n",
    "def hello(person):\n",
    "    return \"Hello %s!\" % person"
   ]
  },
  {
   "cell_type": "code",
   "execution_count": 3,
   "metadata": {},
   "outputs": [
    {
     "name": "stdout",
     "output_type": "stream",
     "text": [
      "Requirement already satisfied: bobo in c:\\users\\yjh\\anaconda3\\lib\\site-packages (2.4.0)\n",
      "Requirement already satisfied: WebOb in c:\\users\\yjh\\anaconda3\\lib\\site-packages (from bobo) (1.8.7)\n",
      "Requirement already satisfied: six in c:\\users\\yjh\\anaconda3\\lib\\site-packages (from bobo) (1.15.0)\n"
     ]
    }
   ],
   "source": [
    "!pip install bobo"
   ]
  },
  {
   "cell_type": "markdown",
   "metadata": {},
   "source": [
    "- **\\__defaults\\__**\n",
    "    - 속성에는 위치 인수와 키워드 인수의 기본 값을 가진 튜플이 들어가 있음\n",
    "    - 키워드 전용 인수 기본 값을 \\kwdefaults\\__ 속성에 들어 있음\n",
    "    - 인수명 \\__code\\__ 속성에 들어 있음"
   ]
  },
  {
   "cell_type": "markdown",
   "metadata": {},
   "source": [
    "#### 예제 5-15"
   ]
  },
  {
   "cell_type": "code",
   "execution_count": 23,
   "metadata": {},
   "outputs": [],
   "source": [
    "def clip(text, max_len= 80):\n",
    "    end = None\n",
    "    if len(text) > max_len:\n",
    "        space_before = text.rfind(' ', 0, max_len)\n",
    "        \n",
    "        if space_before >= 0:\n",
    "            end = space_before\n",
    "        else:\n",
    "            space_after = text.rfind(\" \", max_len)\n",
    "            if space_after >= 0:\n",
    "                end = space_after\n",
    "    if end is None:\n",
    "        end = len(text)\n",
    "        \n",
    "    return text[:end].rstrip()"
   ]
  },
  {
   "cell_type": "markdown",
   "metadata": {},
   "source": [
    "#### 예제 5-16"
   ]
  },
  {
   "cell_type": "code",
   "execution_count": 30,
   "metadata": {},
   "outputs": [
    {
     "name": "stdout",
     "output_type": "stream",
     "text": [
      "(80,)\n",
      "<code object clip at 0x00000289D617BEA0, file \"C:\\Git\\Study\\Python\\clip.py\", line 1>\n",
      "('text', 'max_len', 'end', 'space_before', 'space_after')\n",
      "2\n"
     ]
    }
   ],
   "source": [
    "from clip import clip\n",
    "\n",
    "print(clip.__defaults__) # 인수의 기본값, 인수의 뒤에서부터 추적ㅠ\n",
    "print(clip.__code__)\n",
    "print(clip.__code__.co_varnames) # 인수명 + 함수본체에서 생성한 지여ㄱ변수명\n",
    "print(clip.__code__.co_argcount) # 앞에서 __code__.co_argcount의 수가 인수명 (단 앞에 *, **가 붙은 인수 포함 안함)"
   ]
  },
  {
   "cell_type": "markdown",
   "metadata": {},
   "source": [
    "#### 예제 5-17"
   ]
  },
  {
   "cell_type": "code",
   "execution_count": 33,
   "metadata": {},
   "outputs": [
    {
     "data": {
      "text/plain": [
       "<Signature (text, max_len=80)>"
      ]
     },
     "execution_count": 33,
     "metadata": {},
     "output_type": "execute_result"
    }
   ],
   "source": [
    "from clip import clip\n",
    "from inspect import signature\n",
    "sig = signature(clip)\n",
    "sig"
   ]
  },
  {
   "cell_type": "code",
   "execution_count": 38,
   "metadata": {},
   "outputs": [
    {
     "name": "stdout",
     "output_type": "stream",
     "text": [
      "(text, max_len=80)\n",
      "(text, max_len=80)\n",
      "OrderedDict([('text', <Parameter \"text\">), ('max_len', <Parameter \"max_len=80\">)])\n",
      "odict_items([('text', <Parameter \"text\">), ('max_len', <Parameter \"max_len=80\">)])\n"
     ]
    }
   ],
   "source": [
    "print(sig)\n",
    "print(str(sig))\n",
    "print(sig.parameters)\n",
    "print(sig.parameters.items())"
   ]
  },
  {
   "cell_type": "code",
   "execution_count": 39,
   "metadata": {},
   "outputs": [
    {
     "name": "stdout",
     "output_type": "stream",
     "text": [
      "POSITIONAL_OR_KEYWORD : text = <class 'inspect._empty'>\n",
      "POSITIONAL_OR_KEYWORD : max_len = 80\n"
     ]
    }
   ],
   "source": [
    "for name, param in sig.parameters.items():\n",
    "    print(param.kind, \":\", name, \"=\", param.default)"
   ]
  },
  {
   "cell_type": "markdown",
   "metadata": {},
   "source": [
    "**kind 속성의 값**\n",
    "- POSITIONAL_OR_KEYWORD\n",
    "    - 인수 위치나 키워드 인수로 전달할 수 있는 매개변수\n",
    "    - 파이썬 함수 매개변수 대부분\n",
    "- VAR_POSITIONAL\n",
    "    - 위치 매개변수의 튜플\n",
    "- VAR_KEYWORD\n",
    "    - 키워트 매개변수의 딕셔너리\n",
    "- KEYWORD_ONLY\n",
    "    - 키워드 전용매개변수\n",
    "- POSITIONAL_ONLY\n",
    "    - 위치 전용 매개변수\n",
    "    - 현재 파이썬 함수 선언 구문에서는 지원 않음"
   ]
  },
  {
   "cell_type": "markdown",
   "metadata": {},
   "source": [
    "- inspect.Signature의 bind() 매서드\n",
    "    - 임의 개수의 인수를 받고 인수를 매개변수에 대응시키는 일반적인 규칙을 적용하여 그것을 시그니처에 들어있는 매개변수와 바인딩"
   ]
  },
  {
   "cell_type": "markdown",
   "metadata": {},
   "source": [
    "#### 예제 5-18"
   ]
  },
  {
   "cell_type": "code",
   "execution_count": 52,
   "metadata": {},
   "outputs": [],
   "source": [
    "def tag(name, *content, cls=None, **attrs):\n",
    "    \"\"\"하나 이상의 HTML tag 생성\"\"\"\n",
    "    print(name, content, cls, attrs)\n",
    "    \n",
    "    print(\"bool(content) : \", bool(content))\n",
    "    print(\"bool(attrs) : \",bool(attrs))\n",
    "    if cls is not None:\n",
    "        attrs['class'] = cls\n",
    "    if attrs:\n",
    "        attr_str = ''.join(' %s=\"%s\"' % (attr, value)\n",
    "                           for attr, value\n",
    "                           in sorted(attrs.items()))\n",
    "    else:\n",
    "        attr_str = ''\n",
    "    if content:\n",
    "        return '\\n'.join('<%s%s>%s</%s>' %\n",
    "                         (name, attr_str, c, name) for c in content)\n",
    "    else:\n",
    "        return '<%s%s />' % (name, attr_str)"
   ]
  },
  {
   "cell_type": "code",
   "execution_count": 44,
   "metadata": {},
   "outputs": [],
   "source": [
    "import inspect\n",
    "sig = inspect.signature(tag) # tag 함수의 시그니쳐 가져옴\n",
    "my_tag = {'name': 'img', 'title': 'Sunset Boulevard','src': 'sunset.jpg', 'cls': 'framed'}"
   ]
  },
  {
   "cell_type": "code",
   "execution_count": 46,
   "metadata": {},
   "outputs": [
    {
     "data": {
      "text/plain": [
       "<BoundArguments (name='img', cls='framed', attrs={'title': 'Sunset Boulevard', 'src': 'sunset.jpg'})>"
      ]
     },
     "execution_count": 46,
     "metadata": {},
     "output_type": "execute_result"
    }
   ],
   "source": [
    "bound_args = sig.bind(**my_tag)\n",
    "bound_args "
   ]
  },
  {
   "cell_type": "code",
   "execution_count": 48,
   "metadata": {},
   "outputs": [
    {
     "data": {
      "text/plain": [
       "OrderedDict([('name', 'img'),\n",
       "             ('cls', 'framed'),\n",
       "             ('attrs', {'title': 'Sunset Boulevard', 'src': 'sunset.jpg'})])"
      ]
     },
     "execution_count": 48,
     "metadata": {},
     "output_type": "execute_result"
    }
   ],
   "source": [
    "bound_args.arguments"
   ]
  },
  {
   "cell_type": "code",
   "execution_count": 47,
   "metadata": {},
   "outputs": [
    {
     "name": "stdout",
     "output_type": "stream",
     "text": [
      "name  =  img\n",
      "cls  =  framed\n",
      "attrs  =  {'title': 'Sunset Boulevard', 'src': 'sunset.jpg'}\n"
     ]
    }
   ],
   "source": [
    "for name, value in bound_args.arguments.items():\n",
    "    print(name, \" = \", value)"
   ]
  },
  {
   "cell_type": "code",
   "execution_count": 49,
   "metadata": {},
   "outputs": [],
   "source": [
    "del my_tag['name']"
   ]
  },
  {
   "cell_type": "code",
   "execution_count": 50,
   "metadata": {},
   "outputs": [
    {
     "ename": "TypeError",
     "evalue": "missing a required argument: 'name'",
     "output_type": "error",
     "traceback": [
      "\u001b[1;31m---------------------------------------------------------------------------\u001b[0m",
      "\u001b[1;31mTypeError\u001b[0m                                 Traceback (most recent call last)",
      "\u001b[1;32m<ipython-input-50-6bd8ccb4a4bc>\u001b[0m in \u001b[0;36m<module>\u001b[1;34m\u001b[0m\n\u001b[1;32m----> 1\u001b[1;33m \u001b[0mbound_args\u001b[0m \u001b[1;33m=\u001b[0m \u001b[0msig\u001b[0m\u001b[1;33m.\u001b[0m\u001b[0mbind\u001b[0m\u001b[1;33m(\u001b[0m\u001b[1;33m**\u001b[0m\u001b[0mmy_tag\u001b[0m\u001b[1;33m)\u001b[0m\u001b[1;33m\u001b[0m\u001b[1;33m\u001b[0m\u001b[0m\n\u001b[0m",
      "\u001b[1;32m~\\Anaconda3\\lib\\inspect.py\u001b[0m in \u001b[0;36mbind\u001b[1;34m(self, *args, **kwargs)\u001b[0m\n\u001b[0;32m   3023\u001b[0m         \u001b[1;32mif\u001b[0m \u001b[0mthe\u001b[0m \u001b[0mpassed\u001b[0m \u001b[0marguments\u001b[0m \u001b[0mcan\u001b[0m \u001b[1;32mnot\u001b[0m \u001b[0mbe\u001b[0m \u001b[0mbound\u001b[0m\u001b[1;33m.\u001b[0m\u001b[1;33m\u001b[0m\u001b[1;33m\u001b[0m\u001b[0m\n\u001b[0;32m   3024\u001b[0m         \"\"\"\n\u001b[1;32m-> 3025\u001b[1;33m         \u001b[1;32mreturn\u001b[0m \u001b[0mself\u001b[0m\u001b[1;33m.\u001b[0m\u001b[0m_bind\u001b[0m\u001b[1;33m(\u001b[0m\u001b[0margs\u001b[0m\u001b[1;33m,\u001b[0m \u001b[0mkwargs\u001b[0m\u001b[1;33m)\u001b[0m\u001b[1;33m\u001b[0m\u001b[1;33m\u001b[0m\u001b[0m\n\u001b[0m\u001b[0;32m   3026\u001b[0m \u001b[1;33m\u001b[0m\u001b[0m\n\u001b[0;32m   3027\u001b[0m     \u001b[1;32mdef\u001b[0m \u001b[0mbind_partial\u001b[0m\u001b[1;33m(\u001b[0m\u001b[0mself\u001b[0m\u001b[1;33m,\u001b[0m \u001b[1;33m/\u001b[0m\u001b[1;33m,\u001b[0m \u001b[1;33m*\u001b[0m\u001b[0margs\u001b[0m\u001b[1;33m,\u001b[0m \u001b[1;33m**\u001b[0m\u001b[0mkwargs\u001b[0m\u001b[1;33m)\u001b[0m\u001b[1;33m:\u001b[0m\u001b[1;33m\u001b[0m\u001b[1;33m\u001b[0m\u001b[0m\n",
      "\u001b[1;32m~\\Anaconda3\\lib\\inspect.py\u001b[0m in \u001b[0;36m_bind\u001b[1;34m(self, args, kwargs, partial)\u001b[0m\n\u001b[0;32m   2938\u001b[0m                             \u001b[0mmsg\u001b[0m \u001b[1;33m=\u001b[0m \u001b[1;34m'missing a required argument: {arg!r}'\u001b[0m\u001b[1;33m\u001b[0m\u001b[1;33m\u001b[0m\u001b[0m\n\u001b[0;32m   2939\u001b[0m                             \u001b[0mmsg\u001b[0m \u001b[1;33m=\u001b[0m \u001b[0mmsg\u001b[0m\u001b[1;33m.\u001b[0m\u001b[0mformat\u001b[0m\u001b[1;33m(\u001b[0m\u001b[0marg\u001b[0m\u001b[1;33m=\u001b[0m\u001b[0mparam\u001b[0m\u001b[1;33m.\u001b[0m\u001b[0mname\u001b[0m\u001b[1;33m)\u001b[0m\u001b[1;33m\u001b[0m\u001b[1;33m\u001b[0m\u001b[0m\n\u001b[1;32m-> 2940\u001b[1;33m                             \u001b[1;32mraise\u001b[0m \u001b[0mTypeError\u001b[0m\u001b[1;33m(\u001b[0m\u001b[0mmsg\u001b[0m\u001b[1;33m)\u001b[0m \u001b[1;32mfrom\u001b[0m \u001b[1;32mNone\u001b[0m\u001b[1;33m\u001b[0m\u001b[1;33m\u001b[0m\u001b[0m\n\u001b[0m\u001b[0;32m   2941\u001b[0m             \u001b[1;32melse\u001b[0m\u001b[1;33m:\u001b[0m\u001b[1;33m\u001b[0m\u001b[1;33m\u001b[0m\u001b[0m\n\u001b[0;32m   2942\u001b[0m                 \u001b[1;31m# We have a positional argument to process\u001b[0m\u001b[1;33m\u001b[0m\u001b[1;33m\u001b[0m\u001b[1;33m\u001b[0m\u001b[0m\n",
      "\u001b[1;31mTypeError\u001b[0m: missing a required argument: 'name'"
     ]
    }
   ],
   "source": [
    "bound_args = sig.bind(**my_tag)"
   ]
  },
  {
   "cell_type": "markdown",
   "metadata": {},
   "source": [
    "## 5.9 함수 애너테이션\n",
    "- 파이썬 3는 함수의 매개변수와 반환값에 메타데이터를 추가할 수 있는 구문 제공\n",
    "- 애너테이션은 인수명과 등호 사이에 들어감\n",
    "- 반환값에 애너테이션 추가하려면 매개변수를 닫는 괄호와 함수 선언의 제일 뒤에 들어오는 콜론 사이에 -> 기호와 함께 추가"
   ]
  },
  {
   "cell_type": "markdown",
   "metadata": {},
   "source": [
    "#### 예제 5-19"
   ]
  },
  {
   "cell_type": "code",
   "execution_count": 53,
   "metadata": {},
   "outputs": [],
   "source": [
    "def clip(text:str, max_len:\"int > 0\" = 80) -> str: # 함수 선언에 에너테이션 추가\n",
    "    end = None\n",
    "    if len(text) > max_len:\n",
    "        space_before = text.rfind(' ', 0, max_len)\n",
    "        \n",
    "        if space_before >= 0:\n",
    "            end = space_before\n",
    "        else:\n",
    "            space_after = text.rfind(\" \", max_len)\n",
    "            if space_after >= 0:\n",
    "                end = space_after\n",
    "    if end is None:\n",
    "        end = len(text)\n",
    "        \n",
    "    return text[:end].rstrip()"
   ]
  },
  {
   "cell_type": "markdown",
   "metadata": {},
   "source": [
    "- 애너테이션은 전혀 처리하지 않으며, 단지 함수 객체 안의 dict 형 \\__annotations\\__ 속성에 저장"
   ]
  },
  {
   "cell_type": "code",
   "execution_count": 54,
   "metadata": {},
   "outputs": [
    {
     "data": {
      "text/plain": [
       "{'text': str, 'max_len': 'int > 0', 'return': str}"
      ]
     },
     "execution_count": 54,
     "metadata": {},
     "output_type": "execute_result"
    }
   ],
   "source": [
    "from clip_annot import clip\n",
    "clip.__annotations__"
   ]
  },
  {
   "cell_type": "code",
   "execution_count": 55,
   "metadata": {},
   "outputs": [
    {
     "name": "stdout",
     "output_type": "stream",
     "text": [
      "{'text': <class 'str'>, 'max_len': 'int > 0', 'return': <class 'str'>}\n"
     ]
    }
   ],
   "source": [
    "print(clip.__annotations__)"
   ]
  },
  {
   "cell_type": "markdown",
   "metadata": {},
   "source": [
    "#### 예제 5-20"
   ]
  },
  {
   "cell_type": "code",
   "execution_count": 62,
   "metadata": {},
   "outputs": [
    {
     "name": "stdout",
     "output_type": "stream",
     "text": [
      "<class 'str'>\n",
      "<class 'str'>  :  text = <class 'inspect._empty'>\n",
      "'int > 0'      :  max_len = 80\n"
     ]
    }
   ],
   "source": [
    "from clip_annot import clip\n",
    "from inspect import signature\n",
    "sig = signature(clip)\n",
    "\n",
    "print(sig.return_annotation)\n",
    "\n",
    "for param in sig.parameters.values():\n",
    "    note = repr(param.annotation).ljust(13)\n",
    "    print(note, \" : \", param.name, \"=\", param.default)"
   ]
  },
  {
   "cell_type": "code",
   "execution_count": 60,
   "metadata": {},
   "outputs": [
    {
     "name": "stdout",
     "output_type": "stream",
     "text": [
      "OrderedDict([('text', <Parameter \"text: str\">), ('max_len', <Parameter \"max_len: 'int > 0' = 80\">)])\n"
     ]
    }
   ],
   "source": [
    "print(sig.parameters)"
   ]
  },
  {
   "cell_type": "code",
   "execution_count": 66,
   "metadata": {},
   "outputs": [
    {
     "name": "stdout",
     "output_type": "stream",
     "text": [
      "<class 'str'>\n",
      "<class 'str'>\n",
      "<class 'str'>\n",
      "_______________\n",
      "int > 0\n",
      "'int > 0'\n",
      "'int > 0'    \n",
      "_______________\n"
     ]
    }
   ],
   "source": [
    "for param in sig.parameters.values():\n",
    "    print(param.annotation)\n",
    "    print(repr(param.annotation))\n",
    "    print(repr(param.annotation).ljust(13))\n",
    "    print(\"_\"*15)"
   ]
  },
  {
   "cell_type": "markdown",
   "metadata": {},
   "source": [
    "## 5.10 함수형 프로그래밍을 위한 패키지\n",
    "- 귀도 반 로섬 파이썬 함수형 프로그래밍 언어를 지향하지 않았다고 공표\n",
    "    - **operation**, **functools** 패키지들의 지원 덕분에 함수형 코딩 스타일 사용 가능"
   ]
  },
  {
   "cell_type": "markdown",
   "metadata": {},
   "source": [
    "### 5.10.1 operation 모듈"
   ]
  },
  {
   "cell_type": "markdown",
   "metadata": {},
   "source": [
    "#### 예제 5-21\n",
    "- reduce()와 익명 함수로 구현한 팩토리얼"
   ]
  },
  {
   "cell_type": "code",
   "execution_count": 68,
   "metadata": {},
   "outputs": [],
   "source": [
    "from functools import reduce\n",
    "\n",
    "def fact(n):\n",
    "    return reduce(lambda a, b: a*b, range(1, n+1))"
   ]
  },
  {
   "cell_type": "markdown",
   "metadata": {},
   "source": [
    "#### 예제 5-22\n"
   ]
  },
  {
   "cell_type": "code",
   "execution_count": 74,
   "metadata": {},
   "outputs": [],
   "source": [
    "from functools import reduce\n",
    "from operator import mul\n",
    "\n",
    "def fact(n):\n",
    "    return reduce(mul, range(1, n+1))"
   ]
  },
  {
   "cell_type": "markdown",
   "metadata": {},
   "source": [
    "opertation 모듈\n",
    "- 시퀸스에서 항목을 가져오는 람다를 대체하는 itemgetter() 함수\n",
    "- 객체의 속성을 읽는 람다를 대체하는 attrgetter()"
   ]
  },
  {
   "cell_type": "markdown",
   "metadata": {},
   "source": [
    "#### 예제 5-23\n",
    "- 튜플의 리스트를 정렬하기 위한 itemgetter() 사용 예"
   ]
  },
  {
   "cell_type": "code",
   "execution_count": 75,
   "metadata": {},
   "outputs": [],
   "source": [
    "metro_areas = [\n",
    "    ('Tokyo', 'JP', 36.933, (35.689722, 139.691667)),   \n",
    "    ('Delhi NCR', 'IN', 21.935, (28.613889, 77.208889)),\n",
    "    ('Mexico City', 'MX', 20.142, (19.433333, -99.133333)),\n",
    "    ('New York-Newark', 'US', 20.104, (40.808611, -74.020386)),\n",
    "    ('Sao Paulo', 'BR', 19.649, (-23.547778, -46.635833)),\n",
    "]"
   ]
  },
  {
   "cell_type": "code",
   "execution_count": 77,
   "metadata": {},
   "outputs": [
    {
     "name": "stdout",
     "output_type": "stream",
     "text": [
      "('Sao Paulo', 'BR', 19.649, (-23.547778, -46.635833))\n",
      "('Delhi NCR', 'IN', 21.935, (28.613889, 77.208889))\n",
      "('Tokyo', 'JP', 36.933, (35.689722, 139.691667))\n",
      "('Mexico City', 'MX', 20.142, (19.433333, -99.133333))\n",
      "('New York-Newark', 'US', 20.104, (40.808611, -74.020386))\n"
     ]
    }
   ],
   "source": [
    "from operator import itemgetter\n",
    "for city in sorted(metro_areas, key=itemgetter(1)): # lambda fields: fields[1]\n",
    "    print(city)"
   ]
  },
  {
   "cell_type": "markdown",
   "metadata": {},
   "source": [
    "- itemgetter() 에 여러 개의 인덱스를 인수로 전달하면 생성된 함수는 해당 인덱스의 값들로 구성된 튜플 반환"
   ]
  },
  {
   "cell_type": "code",
   "execution_count": 79,
   "metadata": {},
   "outputs": [
    {
     "name": "stdout",
     "output_type": "stream",
     "text": [
      "('JP', 'Tokyo')\n",
      "('IN', 'Delhi NCR')\n",
      "('MX', 'Mexico City')\n",
      "('US', 'New York-Newark')\n",
      "('BR', 'Sao Paulo')\n"
     ]
    }
   ],
   "source": [
    "cc_name = itemgetter(1, 0)\n",
    "\n",
    "for city in metro_areas:\n",
    "    print(cc_name(city))"
   ]
  },
  {
   "cell_type": "markdown",
   "metadata": {},
   "source": [
    "- itemgetter()는 [] 연산자를 활용하므로 시퀀스 뿐만 아니라 매핑및 \\__getitem\\__()구현한 모든 클래스 지원"
   ]
  },
  {
   "cell_type": "markdown",
   "metadata": {},
   "source": [
    "#### 5-24"
   ]
  },
  {
   "cell_type": "code",
   "execution_count": 81,
   "metadata": {},
   "outputs": [],
   "source": [
    "from collections import namedtuple\n",
    "LatLong = namedtuple('LatLong', 'lat long')\n",
    "Metropolis = namedtuple('Metropolis', 'name cc pop coord')\n",
    "metro_areas = [Metropolis(name, cc, pop, LatLong(lat, long))\n",
    "                for name, cc, pop, (lat, long) in metro_areas]"
   ]
  },
  {
   "cell_type": "code",
   "execution_count": 82,
   "metadata": {},
   "outputs": [
    {
     "data": {
      "text/plain": [
       "Metropolis(name='Tokyo', cc='JP', pop=36.933, coord=LatLong(lat=35.689722, long=139.691667))"
      ]
     },
     "execution_count": 82,
     "metadata": {},
     "output_type": "execute_result"
    }
   ],
   "source": [
    "metro_areas[0]"
   ]
  },
  {
   "cell_type": "code",
   "execution_count": 83,
   "metadata": {},
   "outputs": [],
   "source": [
    "from operator import attrgetter\n",
    "name_lat = attrgetter('name', 'coord.lat')"
   ]
  },
  {
   "cell_type": "code",
   "execution_count": 84,
   "metadata": {},
   "outputs": [
    {
     "name": "stdout",
     "output_type": "stream",
     "text": [
      "('Sao Paulo', -23.547778)\n",
      "('Mexico City', 19.433333)\n",
      "('Delhi NCR', 28.613889)\n",
      "('Tokyo', 35.689722)\n",
      "('New York-Newark', 40.808611)\n"
     ]
    }
   ],
   "source": [
    "for city in sorted(metro_areas, key=attrgetter('coord.lat')):\n",
    "    print(name_lat(city))"
   ]
  },
  {
   "cell_type": "markdown",
   "metadata": {},
   "source": [
    "<hr>"
   ]
  },
  {
   "cell_type": "markdown",
   "metadata": {},
   "source": [
    "- **methodcaller()**\n",
    "    -  실행 중 함수를 생성\n",
    "    - methodcaller가 생성한 함수는 인수로 전달받은 객체의 매서드를 호출"
   ]
  },
  {
   "cell_type": "markdown",
   "metadata": {},
   "source": [
    "#### 예제 5-25"
   ]
  },
  {
   "cell_type": "code",
   "execution_count": 88,
   "metadata": {},
   "outputs": [
    {
     "data": {
      "text/plain": [
       "'THE TIME HAS COME'"
      ]
     },
     "execution_count": 88,
     "metadata": {},
     "output_type": "execute_result"
    }
   ],
   "source": [
    "from operator import methodcaller\n",
    "s = \"The time has come\"\n",
    "upcase = methodcaller('upper')\n",
    "upcase(s)"
   ]
  },
  {
   "cell_type": "code",
   "execution_count": 89,
   "metadata": {},
   "outputs": [
    {
     "data": {
      "text/plain": [
       "'THE TIME HAS COME'"
      ]
     },
     "execution_count": 89,
     "metadata": {},
     "output_type": "execute_result"
    }
   ],
   "source": [
    "str.upper(s)"
   ]
  },
  {
   "cell_type": "code",
   "execution_count": 91,
   "metadata": {},
   "outputs": [
    {
     "data": {
      "text/plain": [
       "'The-time-has-come'"
      ]
     },
     "execution_count": 91,
     "metadata": {},
     "output_type": "execute_result"
    }
   ],
   "source": [
    "hiphenate = methodcaller('replace', \" \", \"-\")\n",
    "hiphenate(s)"
   ]
  },
  {
   "cell_type": "markdown",
   "metadata": {},
   "source": [
    "### 5.10.2 functools.partial()로 인수 고정하기\n",
    "- functools.partial()\n",
    "    - 함수를 부분적으로 실행할 수 있게 해주는 고위함수\n",
    "    - 어떤 함수가 있을 때 partial을 적용하면 원래 함수의 일부 인수를 고정한 콜러블 생성"
   ]
  },
  {
   "cell_type": "markdown",
   "metadata": {},
   "source": [
    "#### 예제 5-26\n",
    "- 인수 하나를 받는 콜러블이 필요한 곳에 인수 두개를 받는 함수를 사용하기 위해 partial() 적용"
   ]
  },
  {
   "cell_type": "code",
   "execution_count": 92,
   "metadata": {},
   "outputs": [
    {
     "data": {
      "text/plain": [
       "21"
      ]
     },
     "execution_count": 92,
     "metadata": {},
     "output_type": "execute_result"
    }
   ],
   "source": [
    "from operator import mul\n",
    "from functools import partial\n",
    "triple = partial(mul, 3) # mul() 함수의 첫번째 위치 이수를 3으로 바인딩해서 triple() 함수 생성\n",
    "triple(7) # 테스트"
   ]
  },
  {
   "cell_type": "code",
   "execution_count": 93,
   "metadata": {},
   "outputs": [
    {
     "data": {
      "text/plain": [
       "[3, 6, 9, 12, 15, 18, 21, 24, 27]"
      ]
     },
     "execution_count": 93,
     "metadata": {},
     "output_type": "execute_result"
    }
   ],
   "source": [
    "list(map(triple, range(1, 10)))"
   ]
  },
  {
   "cell_type": "code",
   "execution_count": 94,
   "metadata": {},
   "outputs": [
    {
     "ename": "TypeError",
     "evalue": "mul expected 2 arguments, got 1",
     "output_type": "error",
     "traceback": [
      "\u001b[1;31m---------------------------------------------------------------------------\u001b[0m",
      "\u001b[1;31mTypeError\u001b[0m                                 Traceback (most recent call last)",
      "\u001b[1;32m<ipython-input-94-e6082edba6fb>\u001b[0m in \u001b[0;36m<module>\u001b[1;34m\u001b[0m\n\u001b[1;32m----> 1\u001b[1;33m \u001b[0mlist\u001b[0m\u001b[1;33m(\u001b[0m\u001b[0mmap\u001b[0m\u001b[1;33m(\u001b[0m\u001b[0mmul\u001b[0m\u001b[1;33m,\u001b[0m \u001b[0mrange\u001b[0m\u001b[1;33m(\u001b[0m\u001b[1;36m1\u001b[0m\u001b[1;33m,\u001b[0m \u001b[1;36m10\u001b[0m\u001b[1;33m)\u001b[0m\u001b[1;33m)\u001b[0m\u001b[1;33m)\u001b[0m\u001b[1;33m\u001b[0m\u001b[1;33m\u001b[0m\u001b[0m\n\u001b[0m",
      "\u001b[1;31mTypeError\u001b[0m: mul expected 2 arguments, got 1"
     ]
    }
   ],
   "source": [
    "list(map(mul, range(1, 10)))"
   ]
  },
  {
   "cell_type": "markdown",
   "metadata": {},
   "source": [
    "#### 예제 5-27\n",
    "- partial() 을 이용해서 편리한 유니코드 정규화 함수 만들기"
   ]
  },
  {
   "cell_type": "code",
   "execution_count": 95,
   "metadata": {},
   "outputs": [],
   "source": [
    "import unicodedata, functools\n",
    "nfc = functools.partial(unicodedata.normalize, \"NFC\") # unicode.normalize(\"NFC0, s\")"
   ]
  },
  {
   "cell_type": "code",
   "execution_count": 97,
   "metadata": {},
   "outputs": [
    {
     "data": {
      "text/plain": [
       "('café', 'café')"
      ]
     },
     "execution_count": 97,
     "metadata": {},
     "output_type": "execute_result"
    }
   ],
   "source": [
    "s1 = 'café'\n",
    "s2 = 'cafe\\u0301'\n",
    "\n",
    "s1, s2"
   ]
  },
  {
   "cell_type": "code",
   "execution_count": 98,
   "metadata": {},
   "outputs": [
    {
     "data": {
      "text/plain": [
       "False"
      ]
     },
     "execution_count": 98,
     "metadata": {},
     "output_type": "execute_result"
    }
   ],
   "source": [
    "s1 == s2"
   ]
  },
  {
   "cell_type": "code",
   "execution_count": 99,
   "metadata": {},
   "outputs": [
    {
     "data": {
      "text/plain": [
       "True"
      ]
     },
     "execution_count": 99,
     "metadata": {},
     "output_type": "execute_result"
    }
   ],
   "source": [
    "nfc(s1) == nfc(s2)"
   ]
  },
  {
   "cell_type": "markdown",
   "metadata": {},
   "source": [
    "#### 예제 5.28"
   ]
  },
  {
   "cell_type": "code",
   "execution_count": 106,
   "metadata": {},
   "outputs": [
    {
     "name": "stdout",
     "output_type": "stream",
     "text": [
      "<function tag at 0x00000289D7073670>\n"
     ]
    }
   ],
   "source": [
    "from tagger import tag\n",
    "tag # tag 함수 import 하고 ID 보여줌\n",
    "print(tag)"
   ]
  },
  {
   "cell_type": "code",
   "execution_count": 109,
   "metadata": {},
   "outputs": [
    {
     "name": "stdout",
     "output_type": "stream",
     "text": [
      "img () pic-frame {'src': 'wumpus.jpeg'}\n",
      "bool(content) :  False\n",
      "bool(attrs) :  True\n",
      "<img class=\"pic-frame\" src=\"wumpus.jpeg\" />\n"
     ]
    }
   ],
   "source": [
    "from functools import partial\n",
    "picture = partial(tag, 'img', cls=\"pic-frame\")\n",
    "print(picture(src=\"wumpus.jpeg\"))"
   ]
  },
  {
   "cell_type": "code",
   "execution_count": 110,
   "metadata": {},
   "outputs": [
    {
     "name": "stdout",
     "output_type": "stream",
     "text": [
      "functools.partial(<function tag at 0x00000289D7073670>, 'img', cls='pic-frame')\n"
     ]
    }
   ],
   "source": [
    "print(picture) # partial은 functiontools.partial 객체 반환"
   ]
  },
  {
   "cell_type": "code",
   "execution_count": 111,
   "metadata": {},
   "outputs": [
    {
     "name": "stdout",
     "output_type": "stream",
     "text": [
      "<function tag at 0x00000289D7073670>\n"
     ]
    }
   ],
   "source": [
    "print(picture.func) # partial 객체는 원래 함수와 고저오딘 인수에 접근할 수 있는 속성 있음"
   ]
  },
  {
   "cell_type": "code",
   "execution_count": 112,
   "metadata": {},
   "outputs": [
    {
     "name": "stdout",
     "output_type": "stream",
     "text": [
      "('img',)\n"
     ]
    }
   ],
   "source": [
    "print(picture.args)"
   ]
  },
  {
   "cell_type": "code",
   "execution_count": 113,
   "metadata": {},
   "outputs": [
    {
     "name": "stdout",
     "output_type": "stream",
     "text": [
      "{'cls': 'pic-frame'}\n"
     ]
    }
   ],
   "source": [
    "print(picture.keywords)"
   ]
  }
 ],
 "metadata": {
  "kernelspec": {
   "display_name": "Python 3",
   "language": "python",
   "name": "python3"
  },
  "language_info": {
   "codemirror_mode": {
    "name": "ipython",
    "version": 3
   },
   "file_extension": ".py",
   "mimetype": "text/x-python",
   "name": "python",
   "nbconvert_exporter": "python",
   "pygments_lexer": "ipython3",
   "version": "3.8.5"
  }
 },
 "nbformat": 4,
 "nbformat_minor": 4
}
