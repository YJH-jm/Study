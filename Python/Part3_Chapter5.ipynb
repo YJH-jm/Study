{
 "cells": [
  {
   "cell_type": "markdown",
   "metadata": {},
   "source": [
    "# 일급 함수\n",
    "- 파이썬 함수는 일급 객체\n",
    "\n",
    "<br>\n",
    "\n",
    "- 일급 객체 정의\n",
    "    - 런타임(runtime)에 생성할 수 있음\n",
    "    - 데이터 구조체의 변수나 요소에 할당할 수 있음\n",
    "    - 함수 인수로 전달 할 수 있음\n",
    "    - 함수 결과로 반환 할 수 있음\n",
    "\n",
    "<br>\n",
    "\n",
    "- 정수, 문자열 dict도 파이썬의 일급 객체\n",
    "\n",
    "<br>\n",
    "\n",
    "- \"일급 객체로서의 함수\"를 줄여 \"일급 함수\" 라는 용어가 널리 사용되지만 완벽한 용어는 아님"
   ]
  },
  {
   "cell_type": "markdown",
   "metadata": {},
   "source": [
    "## 함수를 객체처럼 다루기"
   ]
  },
  {
   "cell_type": "markdown",
   "metadata": {},
   "source": [
    "#### 예제 5-1\n",
    "- 함수를 생성하고 테스트하고, 함수의 \\__doc\\__ 읽어서 자료형 확인"
   ]
  },
  {
   "cell_type": "code",
   "execution_count": 2,
   "metadata": {},
   "outputs": [],
   "source": [
    "def factorial(n): # 콘솔 세션에 있으면 함수를 \"런타임\"에 만들고 있는 것\n",
    "    '''returns n!'''\n",
    "    return 1 if n < 2 else n * factorial(n-1)\n"
   ]
  },
  {
   "cell_type": "code",
   "execution_count": 3,
   "metadata": {},
   "outputs": [
    {
     "data": {
      "text/plain": [
       "1405006117752879898543142606244511569936384000000000"
      ]
     },
     "execution_count": 3,
     "metadata": {},
     "output_type": "execute_result"
    }
   ],
   "source": [
    "factorial(42) # 런타임에 만들어진 것"
   ]
  },
  {
   "cell_type": "code",
   "execution_count": 4,
   "metadata": {},
   "outputs": [
    {
     "data": {
      "text/plain": [
       "'returns n!'"
      ]
     },
     "execution_count": 4,
     "metadata": {},
     "output_type": "execute_result"
    }
   ],
   "source": [
    "factorial.__doc__ # 객체의 여러 속성 중 하나, 객체의 도움말 텍스트를 생성하기 위해 사용"
   ]
  },
  {
   "cell_type": "code",
   "execution_count": 5,
   "metadata": {},
   "outputs": [
    {
     "name": "stdout",
     "output_type": "stream",
     "text": [
      "<class 'function'>\n"
     ]
    }
   ],
   "source": [
    "print(type(factorial)) # factorail은 function 클래스의 객체"
   ]
  },
  {
   "cell_type": "code",
   "execution_count": 7,
   "metadata": {},
   "outputs": [
    {
     "data": {
      "text/plain": [
       "function"
      ]
     },
     "execution_count": 7,
     "metadata": {},
     "output_type": "execute_result"
    }
   ],
   "source": [
    "type(factorial)"
   ]
  },
  {
   "cell_type": "code",
   "execution_count": 6,
   "metadata": {},
   "outputs": [
    {
     "name": "stdout",
     "output_type": "stream",
     "text": [
      "Help on function factorial in module __main__:\n",
      "\n",
      "factorial(n)\n",
      "    returns n!\n",
      "\n"
     ]
    }
   ],
   "source": [
    "help(factorial)"
   ]
  },
  {
   "cell_type": "markdown",
   "metadata": {},
   "source": [
    "#### 예제 5-2\n",
    "- 함수를 다른 이름으로 사용하고 함수의 인수로 전달"
   ]
  },
  {
   "cell_type": "code",
   "execution_count": 13,
   "metadata": {},
   "outputs": [
    {
     "name": "stdout",
     "output_type": "stream",
     "text": [
      "<function factorial at 0x0000019B136E39D0>\n"
     ]
    }
   ],
   "source": [
    "fact = factorial\n",
    "print(fact)"
   ]
  },
  {
   "cell_type": "code",
   "execution_count": 14,
   "metadata": {},
   "outputs": [
    {
     "data": {
      "text/plain": [
       "120"
      ]
     },
     "execution_count": 14,
     "metadata": {},
     "output_type": "execute_result"
    }
   ],
   "source": [
    "fact(5)"
   ]
  },
  {
   "cell_type": "code",
   "execution_count": 15,
   "metadata": {},
   "outputs": [
    {
     "data": {
      "text/plain": [
       "<map at 0x19b136d12e0>"
      ]
     },
     "execution_count": 15,
     "metadata": {},
     "output_type": "execute_result"
    }
   ],
   "source": [
    "map(factorial, range(11))"
   ]
  },
  {
   "cell_type": "code",
   "execution_count": 16,
   "metadata": {},
   "outputs": [
    {
     "data": {
      "text/plain": [
       "[1, 1, 2, 6, 24, 120, 720, 5040, 40320, 362880, 3628800]"
      ]
     },
     "execution_count": 16,
     "metadata": {},
     "output_type": "execute_result"
    }
   ],
   "source": [
    "list(map(factorial, range(11)))"
   ]
  },
  {
   "cell_type": "markdown",
   "metadata": {},
   "source": [
    "- 함수를 fact 변수에 할당하고, 이 변수명을 통해 함수를 호출\n",
    "- factorial을 map의 인수로 전달\n",
    "- map 함수는 반복 가능형 객체를 반환"
   ]
  },
  {
   "cell_type": "markdown",
   "metadata": {},
   "source": [
    "## 5.2 고위 함수\n",
    "- 함수를 인수로 받거나, 함수를 결과로 반환하는 함수\n",
    "    - ex> map(), list.sort(), sorted()"
   ]
  },
  {
   "cell_type": "markdown",
   "metadata": {},
   "source": [
    "#### 예제 5-3\n",
    "- 단어 리스트를 길이에 따라 정렬\n",
    "- len 함수를 key 인수로 전달"
   ]
  },
  {
   "cell_type": "code",
   "execution_count": 8,
   "metadata": {},
   "outputs": [
    {
     "data": {
      "text/plain": [
       "['fig', 'apple', 'cherry', 'banana', 'raspberry', 'strawberry']"
      ]
     },
     "execution_count": 8,
     "metadata": {},
     "output_type": "execute_result"
    }
   ],
   "source": [
    "fruits = [\"strawberry\", \"fig\", \"apple\", \"cherry\", \"raspberry\", \"banana\"]\n",
    "sorted(fruits, key=len)"
   ]
  },
  {
   "cell_type": "markdown",
   "metadata": {},
   "source": [
    "#### 예제 5-4\n",
    "- 단어 리스트를철자 역순으로 정렬"
   ]
  },
  {
   "cell_type": "code",
   "execution_count": 9,
   "metadata": {},
   "outputs": [
    {
     "data": {
      "text/plain": [
       "'gnitset'"
      ]
     },
     "execution_count": 9,
     "metadata": {},
     "output_type": "execute_result"
    }
   ],
   "source": [
    "def reverse(word):\n",
    "    return word[::-1]\n",
    "reverse(\"testing\")"
   ]
  },
  {
   "cell_type": "code",
   "execution_count": 20,
   "metadata": {},
   "outputs": [
    {
     "data": {
      "text/plain": [
       "['banana', 'apple', 'fig', 'raspberry', 'strawberry', 'cherry']"
      ]
     },
     "execution_count": 20,
     "metadata": {},
     "output_type": "execute_result"
    }
   ],
   "source": [
    "sorted(fruits, key=reverse)"
   ]
  },
  {
   "cell_type": "markdown",
   "metadata": {},
   "source": [
    "### 5.2.1 map(), filter(), reduce()의 대안\n",
    "- 이름이 다른 경우도 있지만, 함수형 언어는 모두 map(), filter(), reduce() 고위 함수 제공\n",
    "- map()과 filter() 여전히 python3에 내장\n",
    "    - list comprehension, generator 이후 중요성 떨어짐"
   ]
  },
  {
   "cell_type": "markdown",
   "metadata": {},
   "source": [
    "#### 예제 5-5\n",
    "- 팩토리얼 목록을 map()/filter()로 생성하는 방법과 list comprehension으로 생성하는 방법"
   ]
  },
  {
   "cell_type": "code",
   "execution_count": 21,
   "metadata": {},
   "outputs": [
    {
     "data": {
      "text/plain": [
       "[1, 1, 2, 6, 24, 120]"
      ]
     },
     "execution_count": 21,
     "metadata": {},
     "output_type": "execute_result"
    }
   ],
   "source": [
    "list(map(fact, range(6)))"
   ]
  },
  {
   "cell_type": "code",
   "execution_count": 22,
   "metadata": {},
   "outputs": [
    {
     "data": {
      "text/plain": [
       "[1, 1, 2, 6, 24, 120]"
      ]
     },
     "execution_count": 22,
     "metadata": {},
     "output_type": "execute_result"
    }
   ],
   "source": [
    "[fact(n) for n in range(6)]"
   ]
  },
  {
   "cell_type": "code",
   "execution_count": 23,
   "metadata": {},
   "outputs": [
    {
     "data": {
      "text/plain": [
       "[1, 6, 120]"
      ]
     },
     "execution_count": 23,
     "metadata": {},
     "output_type": "execute_result"
    }
   ],
   "source": [
    "list(map(factorial, filter(lambda n : n%2, range(6))))"
   ]
  },
  {
   "cell_type": "code",
   "execution_count": 24,
   "metadata": {},
   "outputs": [
    {
     "data": {
      "text/plain": [
       "[1, 6, 120]"
      ]
     },
     "execution_count": 24,
     "metadata": {},
     "output_type": "execute_result"
    }
   ],
   "source": [
    "[factorial(n) for n in range(6) if n % 2]"
   ]
  },
  {
   "cell_type": "markdown",
   "metadata": {},
   "source": [
    "- python3에서 map, filter는 generator(일종의 반복 가능 객체)를 반환하므로 generator 표현식이 이 함수들을 직접 대체\n",
    "    - python2에서는 리스트를 반환하므로 listcomp가 가장 근접한 대안\n",
    "- python2에 내장되었던 reduce() 함수는 python3에서는 functools 모듈로 나옴"
   ]
  },
  {
   "cell_type": "markdown",
   "metadata": {},
   "source": [
    "#### 예제 5-6\n",
    "- reduce()와 sum()을 이용해서 99까지 정수 더하기"
   ]
  },
  {
   "cell_type": "code",
   "execution_count": 29,
   "metadata": {},
   "outputs": [
    {
     "data": {
      "text/plain": [
       "4950"
      ]
     },
     "execution_count": 29,
     "metadata": {},
     "output_type": "execute_result"
    }
   ],
   "source": [
    "from functools import reduce\n",
    "from operator import add\n",
    "\n",
    "reduce(add, range(100))"
   ]
  },
  {
   "cell_type": "code",
   "execution_count": 28,
   "metadata": {},
   "outputs": [
    {
     "data": {
      "text/plain": [
       "4950"
      ]
     },
     "execution_count": 28,
     "metadata": {},
     "output_type": "execute_result"
    }
   ],
   "source": [
    "sum(range(100)) # 함수를 import 하거나 추가할 필요 없음!"
   ]
  },
  {
   "cell_type": "markdown",
   "metadata": {},
   "source": [
    "- sum과 reduce는 연속된 항목에 어떤 연산을 적용해서, 이전 결과를 누적시키면서 일련의 값의 하나의 값으로 리덕션 한다는 공통점"
   ]
  },
  {
   "cell_type": "markdown",
   "metadata": {},
   "source": [
    "내장된 reduction 함수의 예\n",
    "\n",
    "- all(iterable)\n",
    "    - 모든 iterable이 참된 값이면 True 반환\n",
    "    - all([])는 True 반환\n",
    "- any(iterable)\n",
    "    - iterable 중 하나라도 참된 값이 있으면 True 반환\n",
    "    - any([]) False 반환"
   ]
  },
  {
   "cell_type": "markdown",
   "metadata": {},
   "source": [
    "### 5.3 익명함수\n",
    "- **lambda** 키워드는 파이썬 표현식 내에서 익명 함수 생성\n",
    " - 람다 함수 본체가 순수한 표현식으로만 구성되도록 제한\n",
    "     - 람다 본체에 할당문, while, try 등의 파이썬 문장 사용할 수 없음"
   ]
  },
  {
   "cell_type": "markdown",
   "metadata": {},
   "source": [
    "#### 예제 5-7\n",
    "- lambda 함수를 이용해서 철자 역순으로 단어 리스트 정렬"
   ]
  },
  {
   "cell_type": "code",
   "execution_count": 31,
   "metadata": {},
   "outputs": [
    {
     "data": {
      "text/plain": [
       "['banana', 'apple', 'fig', 'raspberry', 'strawberry', 'cherry']"
      ]
     },
     "execution_count": 31,
     "metadata": {},
     "output_type": "execute_result"
    }
   ],
   "source": [
    "fruits = [\"strawberry\", \"fig\", \"apple\", \"cherry\", \"raspberry\", \"banana\"]\n",
    "sorted(fruits, key = lambda word : word[::-1])"
   ]
  },
  {
   "cell_type": "markdown",
   "metadata": {},
   "source": [
    "- 고위 함수의 인자로 사용하는 방법 외에 익명 함수를 파이썬에서 거의 사용되지 않음"
   ]
  },
  {
   "cell_type": "markdown",
   "metadata": {},
   "source": [
    "## 5.4 일곱 가지 맛의 콜러블 객체\n",
    "- 호출 연산자인 ()는 사용자 정의 함수 이외의 다른 객체에도 적용 할 수 있음\n",
    "- 호출 할 수 있는 객체인지 알아보려면 callabel() 내장 함수 사용"
   ]
  },
  {
   "cell_type": "markdown",
   "metadata": {},
   "source": [
    "python 데이터 모델 문서의 일곱가지 콜러블 나열\n",
    "\n",
    "1. 사용자 정의 함수\n",
    "    - def, lambda 문으로 생성\n",
    "2. 내장함수\n",
    "    - len()이나 time.strftime() 처럼 C언어로 구현된 함수(CPython의 경우)\n",
    "3. 내장메서드\n",
    "    - dict.get() 처럼 C 언어로 구현된 메서드\n",
    "4. 메서드\n",
    "    - 클레스 본체에 정의된 함수\n",
    "5. 클래스\n",
    "    - 호출 될 때 클래스 자신의 \\__new\\__ 메서드 실행해서 객체 생성 -> 객체화 할 수 있음\n",
    "    - \\__init\\__ 으로 초기화 후 객체 반환\n",
    "    - python에는 \\__new\\__  연산자가 없으므로 클래스를 호출하는 것은 함수를 호출하는 것과 동일 \n",
    "6. 클래스 객체\n",
    "    - 클래스가 \\__call\\__() 메서드를 구현하면 이 클래스의 깨체는 함수로 호출 될 수 있음\n",
    "7. 제너레이터 함수\n",
    "    - yield 키워드를 사용하는 함수나 메소드\n",
    "    - 이 함수가 호출되면 제너레이터 객체를 반환 "
   ]
  },
  {
   "cell_type": "code",
   "execution_count": 34,
   "metadata": {},
   "outputs": [
    {
     "name": "stdout",
     "output_type": "stream",
     "text": [
      "<built-in function abs> <class 'str'> 13\n"
     ]
    }
   ],
   "source": [
    "print(abs, str, 13)"
   ]
  },
  {
   "cell_type": "code",
   "execution_count": 36,
   "metadata": {},
   "outputs": [
    {
     "data": {
      "text/plain": [
       "[True, True, False]"
      ]
     },
     "execution_count": 36,
     "metadata": {},
     "output_type": "execute_result"
    }
   ],
   "source": [
    "[callable(obj) for obj in (abs, str, 13)]"
   ]
  },
  {
   "cell_type": "markdown",
   "metadata": {},
   "source": [
    "## 5.5 사용자 정의 콜러블형\n",
    "- 파이썬 함수가 실제 객체일 뿐만이 아니라, 모든 파이썬 객체가 함수처럼 동작하게 만들 수 있음\n",
    "    - \\__call\\__() 인스턴스 메서드 구현"
   ]
  },
  {
   "cell_type": "markdown",
   "metadata": {},
   "source": [
    "#### 예제 5-8\n",
    "- BingoCage 클래스는 뒤섞인 리스트에서 항목 골라냄"
   ]
  },
  {
   "cell_type": "code",
   "execution_count": 49,
   "metadata": {},
   "outputs": [],
   "source": [
    "import random\n",
    "\n",
    "class BingoCage:\n",
    "    \n",
    "    def __init__(self, items): # 반복 가능 객체를 받음\n",
    "        self._items = list(items)\n",
    "        random.shuffle(self._items) \n",
    "        \n",
    "    def pick(self):\n",
    "        try:\n",
    "            return self._items.pop()\n",
    "        except IndexError:\n",
    "            raise LookupError('pick up from empty BingoCage')\n"
   ]
  },
  {
   "cell_type": "code",
   "execution_count": 50,
   "metadata": {},
   "outputs": [
    {
     "ename": "TypeError",
     "evalue": "'BingoCage' object is not callable",
     "output_type": "error",
     "traceback": [
      "\u001b[1;31m---------------------------------------------------------------------------\u001b[0m",
      "\u001b[1;31mTypeError\u001b[0m                                 Traceback (most recent call last)",
      "\u001b[1;32m<ipython-input-50-baec9ff78e70>\u001b[0m in \u001b[0;36m<module>\u001b[1;34m\u001b[0m\n\u001b[0;32m      1\u001b[0m \u001b[0mbingo\u001b[0m \u001b[1;33m=\u001b[0m \u001b[0mBingoCage\u001b[0m\u001b[1;33m(\u001b[0m\u001b[0mrange\u001b[0m\u001b[1;33m(\u001b[0m\u001b[1;36m3\u001b[0m\u001b[1;33m)\u001b[0m\u001b[1;33m)\u001b[0m\u001b[1;33m\u001b[0m\u001b[1;33m\u001b[0m\u001b[0m\n\u001b[0;32m      2\u001b[0m \u001b[0mbingo\u001b[0m\u001b[1;33m.\u001b[0m\u001b[0mpick\u001b[0m\u001b[1;33m(\u001b[0m\u001b[1;33m)\u001b[0m\u001b[1;33m\u001b[0m\u001b[1;33m\u001b[0m\u001b[0m\n\u001b[1;32m----> 3\u001b[1;33m \u001b[0mbingo\u001b[0m\u001b[1;33m(\u001b[0m\u001b[1;33m)\u001b[0m\u001b[1;33m\u001b[0m\u001b[1;33m\u001b[0m\u001b[0m\n\u001b[0m",
      "\u001b[1;31mTypeError\u001b[0m: 'BingoCage' object is not callable"
     ]
    }
   ],
   "source": [
    "bingo = BingoCage(range(3))\n",
    "bingo.pick()\n",
    "bingo()"
   ]
  },
  {
   "cell_type": "code",
   "execution_count": 51,
   "metadata": {},
   "outputs": [
    {
     "data": {
      "text/plain": [
       "False"
      ]
     },
     "execution_count": 51,
     "metadata": {},
     "output_type": "execute_result"
    }
   ],
   "source": [
    "callable(bingo)"
   ]
  },
  {
   "cell_type": "code",
   "execution_count": 52,
   "metadata": {},
   "outputs": [],
   "source": [
    "import random\n",
    "\n",
    "class BingoCage:\n",
    "    \n",
    "    def __init__(self, items): # 반복 가능 객체를 받음\n",
    "        self._items = list(items)\n",
    "        random.shuffle(self._items) \n",
    "        \n",
    "    def pick(self):\n",
    "        try:\n",
    "            return self._items.pop()\n",
    "        except IndexError:\n",
    "            raise LookupError('pick up from empty BingoCage')\n",
    "            \n",
    "    def __call__(self): # bingo.pick()에 대한 단축 형태로 bingo() 정의\n",
    "        return self.pick()"
   ]
  },
  {
   "cell_type": "code",
   "execution_count": 53,
   "metadata": {},
   "outputs": [
    {
     "data": {
      "text/plain": [
       "2"
      ]
     },
     "execution_count": 53,
     "metadata": {},
     "output_type": "execute_result"
    }
   ],
   "source": [
    "bingo = BingoCage(range(3))\n",
    "bingo.pick()\n",
    "bingo()"
   ]
  },
  {
   "cell_type": "code",
   "execution_count": 54,
   "metadata": {},
   "outputs": [
    {
     "data": {
      "text/plain": [
       "True"
      ]
     },
     "execution_count": 54,
     "metadata": {},
     "output_type": "execute_result"
    }
   ],
   "source": [
    "callable(bingo)"
   ]
  },
  {
   "cell_type": "markdown",
   "metadata": {},
   "source": [
    "## 5.6 함수 인트로스펙션\n",
    "- 함수 객체는 \\__doc\\__ 이외에도 많은 속성을 가지고 있음"
   ]
  },
  {
   "cell_type": "code",
   "execution_count": 55,
   "metadata": {},
   "outputs": [
    {
     "data": {
      "text/plain": [
       "['__annotations__',\n",
       " '__call__',\n",
       " '__class__',\n",
       " '__closure__',\n",
       " '__code__',\n",
       " '__defaults__',\n",
       " '__delattr__',\n",
       " '__dict__',\n",
       " '__dir__',\n",
       " '__doc__',\n",
       " '__eq__',\n",
       " '__format__',\n",
       " '__ge__',\n",
       " '__get__',\n",
       " '__getattribute__',\n",
       " '__globals__',\n",
       " '__gt__',\n",
       " '__hash__',\n",
       " '__init__',\n",
       " '__init_subclass__',\n",
       " '__kwdefaults__',\n",
       " '__le__',\n",
       " '__lt__',\n",
       " '__module__',\n",
       " '__name__',\n",
       " '__ne__',\n",
       " '__new__',\n",
       " '__qualname__',\n",
       " '__reduce__',\n",
       " '__reduce_ex__',\n",
       " '__repr__',\n",
       " '__setattr__',\n",
       " '__sizeof__',\n",
       " '__str__',\n",
       " '__subclasshook__']"
      ]
     },
     "execution_count": 55,
     "metadata": {},
     "output_type": "execute_result"
    }
   ],
   "source": [
    "dir(factorial)"
   ]
  },
  {
   "cell_type": "markdown",
   "metadata": {},
   "source": [
    "- \\__ def \\__ () 속성\n",
    "    - 기본적인 애너테이션 형태로 쓸모가 많음\n",
    "    - 장고와 같은 프레임워크는 이 기능 사용"
   ]
  },
  {
   "cell_type": "markdown",
   "metadata": {},
   "source": [
    "#### 예제 5-9\n",
    "- 일반 객체에는 존재하지 않는 함수 속성 나열하기"
   ]
  },
  {
   "cell_type": "code",
   "execution_count": 56,
   "metadata": {},
   "outputs": [
    {
     "data": {
      "text/plain": [
       "['__annotations__',\n",
       " '__call__',\n",
       " '__closure__',\n",
       " '__code__',\n",
       " '__defaults__',\n",
       " '__get__',\n",
       " '__globals__',\n",
       " '__kwdefaults__',\n",
       " '__name__',\n",
       " '__qualname__']"
      ]
     },
     "execution_count": 56,
     "metadata": {},
     "output_type": "execute_result"
    }
   ],
   "source": [
    "class C: pass # 기본적인 사용자 정의 클래스 생성\n",
    "obj = C()\n",
    "def func(): pass # 기본적인 함수 생성\n",
    "sorted(set(dir(func))-set(dir(obj))) # 함수에는 존재하지만 기본 클래스의 객체에는 존재하지 않는 속성들을 정렬한 리스트 생성"
   ]
  },
  {
   "cell_type": "code",
   "execution_count": 10,
   "metadata": {},
   "outputs": [
    {
     "data": {
      "text/plain": [
       "['__weakref__']"
      ]
     },
     "execution_count": 10,
     "metadata": {},
     "output_type": "execute_result"
    }
   ],
   "source": [
    "class C: pass # 기본적인 사용자 정의 클래스 생성\n",
    "obj = C()\n",
    "def func(): pass # 기본적인 함수 생성\n",
    "sorted(set(dir(obj))-set(dir(func))) # 함수에는 존재하지만 기본 클래스의 객체에는 존재하지 않는 속성들을 정렬한 리스트 생성"
   ]
  },
  {
   "cell_type": "markdown",
   "metadata": {},
   "source": [
    "## 5.7 위치 매개변수에서 키워드 전용 매개변수까지\n",
    "- 함수를 호출 할 때 반복 가능 객체나 매핑형을 별도의 인수로 '폭발' 시키는 * 와 ** 기호도 이 매커니즘과 밀접하게 연관\n"
   ]
  },
  {
   "cell_type": "markdown",
   "metadata": {},
   "source": [
    "#### 예제 5-10"
   ]
  },
  {
   "cell_type": "code",
   "execution_count": 11,
   "metadata": {},
   "outputs": [],
   "source": [
    "def tag(name, *content, cls=None, **attrs):\n",
    "    \"\"\"하나 이상의 HTML tag 생성\"\"\"\n",
    "    print(name, content, cls, attrs)\n",
    "    \n",
    "    print(\"bool(content) : \", bool(content))\n",
    "    print(\"bool(attrs) : \",bool(attrs))\n",
    "    if cls is not None:\n",
    "        attrs['class'] = cls\n",
    "    if attrs:\n",
    "        attr_str = ''.join(' %s=\"%s\"' % (attr, value)\n",
    "                           for attr, value\n",
    "                           in sorted(attrs.items()))\n",
    "    else:\n",
    "        attr_str = ''\n",
    "    if content:\n",
    "        return '\\n'.join('<%s%s>%s</%s>' %\n",
    "                         (name, attr_str, c, name) for c in content)\n",
    "    else:\n",
    "        return '<%s%s />' % (name, attr_str)"
   ]
  },
  {
   "cell_type": "markdown",
   "metadata": {},
   "source": [
    "#### 예제 5-11"
   ]
  },
  {
   "cell_type": "code",
   "execution_count": 12,
   "metadata": {},
   "outputs": [
    {
     "name": "stdout",
     "output_type": "stream",
     "text": [
      "br () None {}\n",
      "bool(content) :  False\n",
      "bool(attrs) :  False\n"
     ]
    },
    {
     "data": {
      "text/plain": [
       "'<br />'"
      ]
     },
     "execution_count": 12,
     "metadata": {},
     "output_type": "execute_result"
    }
   ],
   "source": [
    "tag('br')"
   ]
  },
  {
   "cell_type": "code",
   "execution_count": 13,
   "metadata": {},
   "outputs": [
    {
     "name": "stdout",
     "output_type": "stream",
     "text": [
      "p ('hello',) None {}\n",
      "bool(content) :  True\n",
      "bool(attrs) :  False\n"
     ]
    },
    {
     "data": {
      "text/plain": [
       "'<p>hello</p>'"
      ]
     },
     "execution_count": 13,
     "metadata": {},
     "output_type": "execute_result"
    }
   ],
   "source": [
    "tag(\"p\", \"hello\")"
   ]
  },
  {
   "cell_type": "code",
   "execution_count": 14,
   "metadata": {
    "scrolled": true
   },
   "outputs": [
    {
     "name": "stdout",
     "output_type": "stream",
     "text": [
      "p ('hello', 'world') None {}\n",
      "bool(content) :  True\n",
      "bool(attrs) :  False\n"
     ]
    },
    {
     "data": {
      "text/plain": [
       "'<p>hello</p>\\n<p>world</p>'"
      ]
     },
     "execution_count": 14,
     "metadata": {},
     "output_type": "execute_result"
    }
   ],
   "source": [
    "tag(\"p\", \"hello\", \"world\") # 첫번째 이후의 인수들은 모두 *content 매개변수에 tuple로 전달"
   ]
  },
  {
   "cell_type": "code",
   "execution_count": 15,
   "metadata": {},
   "outputs": [
    {
     "name": "stdout",
     "output_type": "stream",
     "text": [
      "p ('hello',) None {'id': 33}\n",
      "bool(content) :  True\n",
      "bool(attrs) :  True\n"
     ]
    },
    {
     "data": {
      "text/plain": [
       "'<p id=\"33\">hello</p>'"
      ]
     },
     "execution_count": 15,
     "metadata": {},
     "output_type": "execute_result"
    }
   ],
   "source": [
    "tag(\"p\", \"hello\", id=33) # tag 시그너쳐에 명시적으로 이름이 지정되지 않은 키워드 인수들은 딕셔너리로 **attrs 인수에 전달 "
   ]
  },
  {
   "cell_type": "code",
   "execution_count": 16,
   "metadata": {
    "scrolled": true
   },
   "outputs": [
    {
     "name": "stdout",
     "output_type": "stream",
     "text": [
      "p ('hello', 'world') sidebar {}\n",
      "bool(content) :  True\n",
      "bool(attrs) :  False\n",
      "<p class=\"sidebar\">hello</p>\n",
      "<p class=\"sidebar\">world</p>\n"
     ]
    }
   ],
   "source": [
    "print(tag(\"p\", \"hello\", \"world\", cls=\"sidebar\")) # cls 매개변수만 인수로 전달 "
   ]
  },
  {
   "cell_type": "code",
   "execution_count": 17,
   "metadata": {},
   "outputs": [
    {
     "name": "stdout",
     "output_type": "stream",
     "text": [
      "img () None {'content': 'testing'}\n",
      "bool(content) :  False\n",
      "bool(attrs) :  True\n",
      "<img content=\"testing\" />\n"
     ]
    }
   ],
   "source": [
    "print(tag(content='testing', name=\"img\")) # 첫번째 위치 인수도 tag가 호출되면 키워드로 전달 할 수 있음"
   ]
  },
  {
   "cell_type": "code",
   "execution_count": 18,
   "metadata": {},
   "outputs": [
    {
     "name": "stdout",
     "output_type": "stream",
     "text": [
      "img () framed {'title': 'Sunset Boulevard', 'src': 'sunset.jpg'}\n",
      "bool(content) :  False\n",
      "bool(attrs) :  True\n"
     ]
    },
    {
     "data": {
      "text/plain": [
       "'<img class=\"framed\" src=\"sunset.jpg\" title=\"Sunset Boulevard\" />'"
      ]
     },
     "execution_count": 18,
     "metadata": {},
     "output_type": "execute_result"
    }
   ],
   "source": [
    "my_tag = {'name': 'img', 'title': 'Sunset Boulevard','src': 'sunset.jpg', 'cls': 'framed'}\n",
    "tag(**my_tag) # my_tag 딕셔너리 앞에 ** 붙이면 딕셔너리 안의 모든 항목을 별도의 인수로 전달하고\n",
    "# 명명된 매개변수 및 나머지는 **attrs에 전달"
   ]
  },
  {
   "cell_type": "markdown",
   "metadata": {},
   "source": [
    "- 키워드 전용 인수는 python3에 추가된 내용\n",
    "- cls 매개변수는 키워드 인수로만 전달 될 수 있으며, 결코 익명의 위치 인수로는 전달되지 않음\n",
    "- 함수를 정의할 때 키워드 전용 인수를 지정하려면 * 가 붙은 인수 뒤에 이름을 지정\n",
    "- 가변 개수의 위치 인수를 지원하지 않으면서 키워드 전용 인수를 지원하고 싶으면, 다음과 같이 * 만 시그니처에 포함"
   ]
  },
  {
   "cell_type": "code",
   "execution_count": 20,
   "metadata": {},
   "outputs": [
    {
     "data": {
      "text/plain": [
       "(1, 2)"
      ]
     },
     "execution_count": 20,
     "metadata": {},
     "output_type": "execute_result"
    }
   ],
   "source": [
    "def f(a, *, b):\n",
    "    return a, b\n",
    "\n",
    "f(1, b=2)"
   ]
  }
 ],
 "metadata": {
  "kernelspec": {
   "display_name": "Python 3 (ipykernel)",
   "language": "python",
   "name": "python3"
  },
  "language_info": {
   "codemirror_mode": {
    "name": "ipython",
    "version": 3
   },
   "file_extension": ".py",
   "mimetype": "text/x-python",
   "name": "python",
   "nbconvert_exporter": "python",
   "pygments_lexer": "ipython3",
   "version": "3.9.7"
  }
 },
 "nbformat": 4,
 "nbformat_minor": 4
}
