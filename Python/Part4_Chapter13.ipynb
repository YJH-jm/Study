{
 "cells": [
  {
   "cell_type": "markdown",
   "id": "7bcc2b1f",
   "metadata": {},
   "source": [
    "## 13.5 향상된 비교 연산자"
   ]
  },
  {
   "cell_type": "markdown",
   "id": "f08f3525",
   "metadata": {},
   "source": [
    "#### 예제 10.16"
   ]
  },
  {
   "cell_type": "code",
   "execution_count": 1,
   "id": "233254e0",
   "metadata": {},
   "outputs": [],
   "source": [
    "from array import array\n",
    "import reprlib\n",
    "import math\n",
    "import functools\n",
    "import operator\n",
    "import itertools\n",
    "\n",
    "class Vector:\n",
    "    typecode = 'd'\n",
    "\n",
    "    def __init__(self, components):\n",
    "        self._components = array(self.typecode, components)\n",
    "\n",
    "    def __iter__(self):\n",
    "        return iter(self._components)\n",
    "\n",
    "    def __repr__(self):\n",
    "        components = reprlib.repr(self._components)\n",
    "        components = components[components.find('['):-1]\n",
    "        return f'Vector({components})'\n",
    "\n",
    "    def __str__(self):\n",
    "        return str(tuple(self))\n",
    "\n",
    "    def __bytes__(self):\n",
    "        return (bytes([ord(self.typecode)]) +\n",
    "                bytes(self._components))\n",
    "\n",
    "    def __abs__(self):\n",
    "        return math.hypot(*self)\n",
    "\n",
    "    def __bool__(self):\n",
    "        return bool(abs(self))\n",
    "\n",
    "    @classmethod\n",
    "    def frombytes(cls, octets):\n",
    "        typecode = chr(octets[0])\n",
    "        memv = memoryview(octets[1:]).cast(typecode)\n",
    "        return cls(memv)\n",
    "    \n",
    "\n",
    "\n",
    "    def __len__(self):\n",
    "        return len(self._components)\n",
    "\n",
    "    shortcut_names = 'xyzt'\n",
    "\n",
    "    def __getitem__(self, index):\n",
    "        cls = type(self)\n",
    "        if isinstance(index, slice):\n",
    "            return cls(self._components[index])\n",
    "        elif isinstance(index, numbers.Integral):\n",
    "            return self._components[index]\n",
    "        else:\n",
    "            msg = '{.__name__} indices must be integers'\n",
    "            raise TypeError(msg.format(cls))\n",
    "    \n",
    "    def __getattr__(self, name):\n",
    "        cls = type(self)  # Vector 클래스 가져오기\n",
    "        if len(name) == 1:  # name이 한 글자이면 shortcut_names 들 중 하나 일 수 있음\n",
    "            pos = cls.shortcut_names.find(name)  # 한 글자 name의 위치 찾음\n",
    "            if 0 <= pos < len(self._components):  # <4>\n",
    "                return self._components[pos]\n",
    "        msg = '{.__name__!r} object has no attribute {!r}'  # <5>\n",
    "        raise AttributeError(msg.format(cls, name))\n",
    "\n",
    "    def __setattr__(self, name, value):\n",
    "        cls = type(self)\n",
    "        if len(name) == 1:  # 단일 문자 속성명에 대해 특별한 처리를 함\n",
    "            if name in cls.shortcut_names:  # name이 x, y, z, t 중 하나이면 구체적인 에러메세지\n",
    "                error = 'readonly attribute {attr_name!r}'\n",
    "            elif name.islower():  # <3> # 그 외 소문자이면\n",
    "                error = \"can't set attributes 'a' to 'z' in {cls_name!r}\"\n",
    "            else: # 그렇지 않으면\n",
    "                error = ''  # <4>\n",
    "            if error:  # <5># error 안에 어떤 문자가 들어있으면 \n",
    "                msg = error.format(cls_name=cls.__name__, attr_name=name)\n",
    "                raise AttributeError(msg)\n",
    "        super().__setattr__(name, value)  # 에러가 발생하지 않을 때는 표준 동작을 위해 슈퍼클래스의 __setattr__() 호출\n",
    "\n",
    "        \n",
    "    def __eq__(self, other):\n",
    "        return len(self) == len(other) and all(a == b for a, b in zip(self, other))\n",
    "    \n",
    "    def __hash__(self):\n",
    "        hashes = map(hash, self._components)\n",
    "        return functools.reduce(operator.xor, hashes, 0)\n",
    "    \n",
    "    \n",
    "    def angle(self, n):  # 초구면좌표에 대한 공식을 이용해서 특정 좌표에 대한 각 좌표를 계산\n",
    "        r = math.sqrt(sum(x * x for x in self[n:]))\n",
    "        a = math.atan2(r, self[n-1])\n",
    "        \n",
    "        if (n == len(self) - 1) and (self[-1] < 0):\n",
    "            return math.pi * 2 - a\n",
    "        else:\n",
    "            return a\n",
    "\n",
    "    def angles(self):  # 요청에 다라 각좌표를 모두 계산하는 제너레이터 표현식 생성\n",
    "        return (self.angle(n) for n in range(1, len(self)))\n",
    "\n",
    "    def __format__(self, fmt_spec=''):\n",
    "        print(self)\n",
    "        if fmt_spec.endswith('h'):  # hyperspherical coordinates\n",
    "            fmt_spec = fmt_spec[:-1]\n",
    "            coords = itertools.chain([abs(self)],\n",
    "                                     self.angles())  # itertools.chain 함수릴 이용해 크기와 각좌표를 차례대로 반복하는 제너레이터 표현식 생성\n",
    "            outer_fmt = '<{}>'  # 구면 좌표 출력 설정\n",
    "        else:\n",
    "            coords = self\n",
    "            outer_fmt = '({})'  # 직교좌표 출력 설정\n",
    "        components = (format(c, fmt_spec) for c in coords)  # 좌표의 각 항목을 요청에 따라 포맷하는 제너레이터 생성\n",
    "        return outer_fmt.format(', '.join(components))  # <8> 포맷된 요소들을 콤마로 분리해서 꺽쇠 괄호나 괄호 안에 넣음"
   ]
  },
  {
   "cell_type": "markdown",
   "id": "fc413624",
   "metadata": {},
   "source": [
    "#### 예제 13-12 Vector를 Vector, Vector2d, 튜플과 비교하기\n"
   ]
  },
  {
   "cell_type": "code",
   "execution_count": 2,
   "id": "5d079144",
   "metadata": {},
   "outputs": [
    {
     "data": {
      "text/plain": [
       "True"
      ]
     },
     "execution_count": 2,
     "metadata": {},
     "output_type": "execute_result"
    }
   ],
   "source": [
    "va = Vector([1.0, 2.0, 3.0])\n",
    "vb = Vector(range(1, 4))\n",
    "va == vb # 동일한 숫자 요소를 가진 두 Vector를 동일하다고 판단"
   ]
  },
  {
   "cell_type": "code",
   "execution_count": 3,
   "id": "7eddcb4c",
   "metadata": {},
   "outputs": [
    {
     "name": "stdout",
     "output_type": "stream",
     "text": [
      "True\n",
      "True\n"
     ]
    }
   ],
   "source": [
    "vc = Vector([1, 2])\n",
    "\n",
    "from vector2d_v3 import Vector2d\n",
    "\n",
    "v2d = Vector2d(1, 2)\n",
    "print(v2d == vc) # 요소의 값이 같다면 Vector2d 와 Vector2도 동일하다고 판단\n",
    "# vc == v2d는 실행 안됨\n",
    "\n",
    "t3 = (1, 2, 3)\n",
    "print(va == t3) # Vector가 동일한 값의 숫자 항목을 가진 튜플이나 여타 반복형과도 동일하다고 판단"
   ]
  },
  {
   "cell_type": "markdown",
   "id": "5d01172d",
   "metadata": {},
   "source": [
    "<hr>"
   ]
  },
  {
   "cell_type": "markdown",
   "id": "fe22e5e9",
   "metadata": {},
   "source": [
    "- 경우에 따라 위 예제의 마지막 결과는 바람직하지 않을 수 있음\n",
    "    - 이에 대한 엄격한 규칙은 없으면, 애플리케이션에 따라 다름\n",
    "    - \"모호함에 직면할 때는 추측하려는 유혹을 거부하라\"\n",
    "- 피연산자를 평가할 때 지나친 자유분방함은 예기치 못한 결과를 낳을 수 있음"
   ]
  },
  {
   "cell_type": "markdown",
   "id": "45903ca8",
   "metadata": {},
   "source": [
    "#### 예제 13-13 vector_v8.py : Vector 클래스의 \\__equl\\__() 매서드 개선"
   ]
  },
  {
   "cell_type": "code",
   "execution_count": 4,
   "id": "efd4b45b",
   "metadata": {},
   "outputs": [],
   "source": [
    "from array import array\n",
    "import reprlib\n",
    "import math\n",
    "import numbers\n",
    "import functools\n",
    "import operator\n",
    "import itertools\n",
    "\n",
    "\n",
    "class Vector:\n",
    "    typecode = 'd'\n",
    "\n",
    "    def __init__(self, components):\n",
    "        self._components = array(self.typecode, components)\n",
    "\n",
    "    def __iter__(self):\n",
    "        return iter(self._components)\n",
    "\n",
    "    def __repr__(self):\n",
    "        components = reprlib.repr(self._components)\n",
    "        components = components[components.find('['):-1]\n",
    "        return 'Vector({})'.format(components)\n",
    "\n",
    "    def __str__(self):\n",
    "        return str(tuple(self))\n",
    "\n",
    "    def __bytes__(self):\n",
    "        return (bytes([ord(self.typecode)]) +\n",
    "                bytes(self._components))\n",
    "    \n",
    "    ####################################### 수정합니다 #######################################    \n",
    "    \n",
    "    def __eq__(self, other):\n",
    "        if isinstance(other, Vector): # other 피 연산자가 Vector나 Vector 서브클래스의 객체면 기존과 동일하게 비교\n",
    "            return (len(self)==len(other) and all(a==b for a, b in zip(self, other)))\n",
    "        else:\n",
    "            return NotImplemented\n",
    "        \n",
    "    ###########################################################################################\n",
    "\n",
    "    def __hash__(self):\n",
    "        hashes = (hash(x) for x in self)\n",
    "        return functools.reduce(operator.xor, hashes, 0)\n",
    "\n",
    "    def __abs__(self):\n",
    "        return math.sqrt(sum(x * x for x in self))\n",
    "\n",
    "    def __neg__(self):\n",
    "        return Vector(-x for x in self)\n",
    "\n",
    "    def __pos__(self):\n",
    "        return Vector(self)\n",
    "\n",
    "    def __bool__(self):\n",
    "        return bool(abs(self))\n",
    "\n",
    "    def __len__(self):\n",
    "        return len(self._components)\n",
    "\n",
    "    def __getitem__(self, index):\n",
    "        cls = type(self)\n",
    "        if isinstance(index, slice):\n",
    "            return cls(self._components[index])\n",
    "        elif isinstance(index, numbers.Integral):\n",
    "            return self._components[index]\n",
    "        else:\n",
    "            msg = '{.__name__} indices must be integers'\n",
    "            raise TypeError(msg.format(cls))\n",
    "\n",
    "    shortcut_names = 'xyzt'\n",
    "\n",
    "    def __getattr__(self, name):\n",
    "        cls = type(self)\n",
    "        if len(name) == 1:\n",
    "            pos = cls.shortcut_names.find(name)\n",
    "            if 0 <= pos < len(self._components):\n",
    "                return self._components[pos]\n",
    "        msg = '{.__name__!r} object has no attribute {!r}'\n",
    "        raise AttributeError(msg.format(cls, name))\n",
    "\n",
    "    def angle(self, n):\n",
    "        r = math.sqrt(sum(x * x for x in self[n:]))\n",
    "        a = math.atan2(r, self[n-1])\n",
    "        if (n == len(self) - 1) and (self[-1] < 0):\n",
    "            return math.pi * 2 - a\n",
    "        else:\n",
    "            return a\n",
    "\n",
    "    def angles(self):\n",
    "        return (self.angle(n) for n in range(1, len(self)))\n",
    "\n",
    "    def __format__(self, fmt_spec=''):\n",
    "        if fmt_spec.endswith('h'):  # hyperspherical coordinates\n",
    "            fmt_spec = fmt_spec[:-1]\n",
    "            coords = itertools.chain([abs(self)],\n",
    "                                     self.angles())\n",
    "            outer_fmt = '<{}>'\n",
    "        else:\n",
    "            coords = self\n",
    "            outer_fmt = '({})'\n",
    "        components = (format(c, fmt_spec) for c in coords)\n",
    "        return outer_fmt.format(', '.join(components))\n",
    "\n",
    "    @classmethod\n",
    "    def frombytes(cls, octets):\n",
    "        typecode = chr(octets[0])\n",
    "        memv = memoryview(octets[1:]).cast(typecode)\n",
    "        return cls(memv)\n",
    "\n",
    "    def __add__(self, other):\n",
    "        try:\n",
    "            pairs = itertools.zip_longest(self, other, fillvalue=0.0)\n",
    "            return Vector(a + b for a, b in pairs)\n",
    "        except TypeError:\n",
    "            return NotImplemented\n",
    "\n",
    "    def __radd__(self, other):\n",
    "        return self + other\n",
    "\n",
    "    def __mul__(self, scalar):\n",
    "        if isinstance(scalar, numbers.Real):\n",
    "            return Vector(n * scalar for n in self)\n",
    "        else:\n",
    "            return NotImplemented\n",
    "\n",
    "    def __rmul__(self, scalar):\n",
    "        return self * scalar"
   ]
  },
  {
   "cell_type": "markdown",
   "id": "4430e13b",
   "metadata": {},
   "source": [
    "#### 예제 13-14 "
   ]
  },
  {
   "cell_type": "code",
   "execution_count": 5,
   "id": "ae87f7c4",
   "metadata": {},
   "outputs": [
    {
     "data": {
      "text/plain": [
       "True"
      ]
     },
     "execution_count": 5,
     "metadata": {},
     "output_type": "execute_result"
    }
   ],
   "source": [
    "va = Vector([1.0, 2.0, 3.0])\n",
    "vb = Vector(range(1, 4))\n",
    "va == vb # 동일한 숫자 요소를 가진 두 Vector를 동일하다고 판단"
   ]
  },
  {
   "cell_type": "code",
   "execution_count": 6,
   "id": "895b56ee",
   "metadata": {},
   "outputs": [
    {
     "name": "stdout",
     "output_type": "stream",
     "text": [
      "True\n",
      "False\n"
     ]
    }
   ],
   "source": [
    "vc = Vector([1, 2])\n",
    "\n",
    "v2d = Vector2d(1, 2)\n",
    "print(vc==v2d) \n",
    "\n",
    "t3 = (1, 2, 3)\n",
    "print(va == t3) # Vector가 동일한 값의 숫자 항목을 가진 튜플이나 여타 반복형과도 동일하다고 판단"
   ]
  },
  {
   "cell_type": "markdown",
   "id": "e69733bd",
   "metadata": {},
   "source": [
    "<hr>"
   ]
  },
  {
   "cell_type": "markdown",
   "id": "f09d6f5b",
   "metadata": {},
   "source": [
    "**Vector와 Vector2d 객체에서 비교**\n",
    "1. vc == v2d를 평가하기 위해 파이썬은 Vector.\\__eq\\__(vc, v2d) 호출\n",
    "2. Vector.\\__eq\\__(vc, v2d) 는 v2d가 Vector 객체가 아님을 확인하고 NotImplemented 반환\n",
    "3. NotImplemented가 반환되었으므로 파이썬은 Vector2d.\\__eq\\__(v2d, vc) 실행\n",
    "4. Vector2d.\\__eq\\__(v2d, vc)는 피연산자 두 개를 모듀 튜플로 변환하여 비교"
   ]
  },
  {
   "cell_type": "markdown",
   "id": "20525ef8",
   "metadata": {},
   "source": [
    "**Vector와 tuple 비교**\n",
    "1. vc == t3 를 평가하기 위해 파이썬은 Vector.\\__eq\\__(va, t3) 호출\n",
    "2. Vector.\\__eq\\__(va, t3) 는 t3가 Vector 객체가 아님을 확인하고 NotImplemented 반환\n",
    "3. NotImplemented를 받은 파이썬 인터프리터는 tuple.\\__eq\\__(t3, va) 시도\n",
    "4. tuple.\\__eq\\__(t3, va) 은 Vector 형에 대해 알지 못하므로 NotImplemented 반환\n",
    "5. == 연산자의 경우 특별히 역순 메서드가 NotImplemented를 반환하면 파이썬 인터프리터는 최후의 수단으로 두 아이디의 객체 ID 비교"
   ]
  },
  {
   "cell_type": "markdown",
   "id": "ab3b1618",
   "metadata": {},
   "source": [
    "!= 연산자\n",
    "- \\__ne\\__() 메서드가 우리 목적에 맞게 처리해주므로 우리가 직접 구현할 필요는 없음\n",
    "- \\__eq\\__() 메서드가 구현되어 있고 NotImplemented를 반환하지 않으면, \\__ne\\__()는 \\__eq\\__()가 반환한 반댓값을 반환"
   ]
  },
  {
   "cell_type": "code",
   "execution_count": 7,
   "id": "e1414734",
   "metadata": {},
   "outputs": [
    {
     "name": "stdout",
     "output_type": "stream",
     "text": [
      "False\n",
      "False\n",
      "True\n"
     ]
    }
   ],
   "source": [
    "print(va != vb)\n",
    "print(vc != v2d)\n",
    "print(va != (1, 2, 3))"
   ]
  },
  {
   "cell_type": "code",
   "execution_count": 8,
   "id": "cb99d9d9",
   "metadata": {},
   "outputs": [],
   "source": [
    "def __ne__(self, other):\n",
    "    eq_result = self == otehr\n",
    "    if eq_result is NotImplemented:\n",
    "        return NotImplemented\n",
    "    else:\n",
    "        return not eq_result"
   ]
  },
  {
   "cell_type": "markdown",
   "id": "7f70961b",
   "metadata": {},
   "source": [
    "## 13.6 복합 할당 연산자"
   ]
  },
  {
   "cell_type": "markdown",
   "id": "cbbaf6b2",
   "metadata": {},
   "source": [
    "#### 예제 13-15 복합 할당이 불변 타깃을 처리할 때는 객체를 새로 생성하고 다시 바인딩 함"
   ]
  },
  {
   "cell_type": "code",
   "execution_count": 9,
   "id": "f3651137",
   "metadata": {},
   "outputs": [
    {
     "name": "stdout",
     "output_type": "stream",
     "text": [
      "2315758265288 2315758265288\n"
     ]
    }
   ],
   "source": [
    "v1 = Vector([1, 2, 3])\n",
    "v1_alias = v1 # 별명을 생성해서 Vector([1, 2, 3]) 객체를 나중에 다시 조회할 수 있도록 \n",
    "print(id(v1), id(v1_alias)) # 원래 Vector 객체의 ID는 v1에 바인딩"
   ]
  },
  {
   "cell_type": "code",
   "execution_count": 10,
   "id": "573ee360",
   "metadata": {},
   "outputs": [
    {
     "data": {
      "text/plain": [
       "Vector([5.0, 7.0, 9.0])"
      ]
     },
     "execution_count": 10,
     "metadata": {},
     "output_type": "execute_result"
    }
   ],
   "source": [
    "v1 += Vector([4, 5, 6]) # 덧셈 할당자 실행\n",
    "v1 "
   ]
  },
  {
   "cell_type": "code",
   "execution_count": 11,
   "id": "384be1a4",
   "metadata": {},
   "outputs": [
    {
     "data": {
      "text/plain": [
       "2315758510024"
      ]
     },
     "execution_count": 11,
     "metadata": {},
     "output_type": "execute_result"
    }
   ],
   "source": [
    "id(v1) # Vector 객체가 새로 생성"
   ]
  },
  {
   "cell_type": "code",
   "execution_count": 12,
   "id": "6e0fcf46",
   "metadata": {},
   "outputs": [
    {
     "data": {
      "text/plain": [
       "Vector([1.0, 2.0, 3.0])"
      ]
     },
     "execution_count": 12,
     "metadata": {},
     "output_type": "execute_result"
    }
   ],
   "source": [
    "v1_alias"
   ]
  },
  {
   "cell_type": "code",
   "execution_count": 13,
   "id": "6536490e",
   "metadata": {},
   "outputs": [
    {
     "data": {
      "text/plain": [
       "Vector([55.0, 77.0, 99.0])"
      ]
     },
     "execution_count": 13,
     "metadata": {},
     "output_type": "execute_result"
    }
   ],
   "source": [
    "v1 *= 11 # 곱셈 할당자 실행\n",
    "v1"
   ]
  },
  {
   "cell_type": "code",
   "execution_count": 14,
   "id": "d98e6e25",
   "metadata": {},
   "outputs": [
    {
     "data": {
      "text/plain": [
       "2315758550856"
      ]
     },
     "execution_count": 14,
     "metadata": {},
     "output_type": "execute_result"
    }
   ],
   "source": [
    "id(v1)"
   ]
  },
  {
   "cell_type": "markdown",
   "id": "2e8a274c",
   "metadata": {},
   "source": [
    "<hr>"
   ]
  },
  {
   "cell_type": "markdown",
   "id": "6edfac3c",
   "metadata": {},
   "source": [
    "- 인프레이스 연산자를 구현하지 않으면 복합할당 연산자는 단지 편의 구문으로서\n",
    "    - a += b를 a = a + b와 동일하게 평가\n",
    "- \\__add\\__() 매서드가 구현되어 있다면 아무런 코드를 추가하지 않고도 += 연산자 작동\n",
    "\n",
    "- \\__iadd\\__() 등의 인플레이스 연산자 메서드 정의한 경우\n",
    "    - 새로운 객체를 생성하지 않고 왼쪽에 나온 피연산자를 직접 변경"
   ]
  },
  {
   "cell_type": "markdown",
   "id": "ddb4a119",
   "metadata": {},
   "source": [
    "#### 13-16 AddableBingoCage 객체 사용법"
   ]
  },
  {
   "cell_type": "code",
   "execution_count": 18,
   "id": "dfd0c0cd",
   "metadata": {},
   "outputs": [
    {
     "data": {
      "text/plain": [
       "('A', 'E', 'I', 'O', 'U')"
      ]
     },
     "execution_count": 18,
     "metadata": {},
     "output_type": "execute_result"
    }
   ],
   "source": [
    "vowels = \"AEIOU\" # 항목 다섯 개 (각기 모음에 해당)를 가진 globe 객체를 생성\n",
    "globe = AddableBingoCage(vowels)\n",
    "globe.inspect()"
   ]
  },
  {
   "cell_type": "code",
   "execution_count": 19,
   "id": "a31aaa6c",
   "metadata": {},
   "outputs": [
    {
     "data": {
      "text/plain": [
       "True"
      ]
     },
     "execution_count": 19,
     "metadata": {},
     "output_type": "execute_result"
    }
   ],
   "source": [
    "globe.pick() in vowels # 항목 하나를 꺼내서 모음 문자 인지 확인"
   ]
  },
  {
   "cell_type": "code",
   "execution_count": 20,
   "id": "0a3b51ec",
   "metadata": {},
   "outputs": [
    {
     "data": {
      "text/plain": [
       "4"
      ]
     },
     "execution_count": 20,
     "metadata": {},
     "output_type": "execute_result"
    }
   ],
   "source": [
    "len(globe.inspect()) # globe의 항목이 네 개로 줄었는지 확인"
   ]
  },
  {
   "cell_type": "code",
   "execution_count": 21,
   "id": "99617176",
   "metadata": {},
   "outputs": [],
   "source": [
    "globe2 = AddableBingoCage('XYZ') # 항목을 3개 가진 두 번째 객체 생성\n",
    "globe3 = globe + globe2 # 앞의 객체 두 개를 더해서 세 번째 객체를 생성, 이 객체는 일곱 개의 항목을 가짐"
   ]
  },
  {
   "cell_type": "code",
   "execution_count": 22,
   "id": "db0d31f2",
   "metadata": {},
   "outputs": [
    {
     "data": {
      "text/plain": [
       "7"
      ]
     },
     "execution_count": 22,
     "metadata": {},
     "output_type": "execute_result"
    }
   ],
   "source": [
    "len(globe3.inspect())"
   ]
  },
  {
   "cell_type": "code",
   "execution_count": 23,
   "id": "4dcc6a70",
   "metadata": {},
   "outputs": [
    {
     "ename": "TypeError",
     "evalue": "unsupported operand type(s) for +: 'AddableBingoCage' and 'list'",
     "output_type": "error",
     "traceback": [
      "\u001b[1;31m---------------------------------------------------------------------------\u001b[0m",
      "\u001b[1;31mTypeError\u001b[0m                                 Traceback (most recent call last)",
      "\u001b[1;32m~\\AppData\\Local\\Temp\\ipykernel_12952\\2983019049.py\u001b[0m in \u001b[0;36m<module>\u001b[1;34m\u001b[0m\n\u001b[1;32m----> 1\u001b[1;33m \u001b[0mvoid\u001b[0m \u001b[1;33m=\u001b[0m \u001b[0mglobe\u001b[0m \u001b[1;33m+\u001b[0m \u001b[1;33m[\u001b[0m\u001b[1;36m10\u001b[0m\u001b[1;33m,\u001b[0m \u001b[1;36m20\u001b[0m\u001b[1;33m]\u001b[0m \u001b[1;31m# AddableBingoCage를 list에 더하려고 시도하면 TypeError 발생\u001b[0m\u001b[1;33m\u001b[0m\u001b[1;33m\u001b[0m\u001b[0m\n\u001b[0m\u001b[0;32m      2\u001b[0m \u001b[1;31m# __add__() 메서드가 NotImplemented를 반환한 후 파이썬 인터프리터가 실행\u001b[0m\u001b[1;33m\u001b[0m\u001b[1;33m\u001b[0m\u001b[1;33m\u001b[0m\u001b[0m\n",
      "\u001b[1;31mTypeError\u001b[0m: unsupported operand type(s) for +: 'AddableBingoCage' and 'list'"
     ]
    }
   ],
   "source": [
    "void = globe + [10, 20] # AddableBingoCage를 list에 더하려고 시도하면 TypeError 발생\n",
    "# __add__() 메서드가 NotImplemented를 반환한 후 파이썬 인터프리터가 실행"
   ]
  },
  {
   "cell_type": "markdown",
   "id": "899fd531",
   "metadata": {},
   "source": [
    "<hr>"
   ]
  },
  {
   "cell_type": "markdown",
   "id": "0329ad36",
   "metadata": {},
   "source": [
    "#### 예제 13-17 += 연산자를 사용해서 기존 AddableBingoCage 객체에 항목추가하기"
   ]
  },
  {
   "cell_type": "code",
   "execution_count": 24,
   "id": "fe67eedf",
   "metadata": {},
   "outputs": [
    {
     "data": {
      "text/plain": [
       "4"
      ]
     },
     "execution_count": 24,
     "metadata": {},
     "output_type": "execute_result"
    }
   ],
   "source": [
    "globe_orig = globe # 별명을 생성해서 나중에 객체의 정체성 확인 가능하게 함\n",
    "len(globe.inspect()) # globe는 4개의 항목을 가지고 있음"
   ]
  },
  {
   "cell_type": "code",
   "execution_count": 25,
   "id": "d3af6307",
   "metadata": {},
   "outputs": [
    {
     "data": {
      "text/plain": [
       "7"
      ]
     },
     "execution_count": 25,
     "metadata": {},
     "output_type": "execute_result"
    }
   ],
   "source": [
    "globe += globe2 # AddableBingoCage 객체는 동일한 클래스의 다른 객체에서 항목을 받을 수 있음\n",
    "len(globe.inspect())"
   ]
  },
  {
   "cell_type": "code",
   "execution_count": 26,
   "id": "c49b1ff6",
   "metadata": {},
   "outputs": [
    {
     "data": {
      "text/plain": [
       "9"
      ]
     },
     "execution_count": 26,
     "metadata": {},
     "output_type": "execute_result"
    }
   ],
   "source": [
    "globe += [\"M\", \"N\"] # += 연산자 오른쪽 피연산자에는 어떠한 반복형이라도 올 수 있음\n",
    "len(globe.inspect())"
   ]
  },
  {
   "cell_type": "code",
   "execution_count": 27,
   "id": "0c8f6196",
   "metadata": {},
   "outputs": [
    {
     "data": {
      "text/plain": [
       "True"
      ]
     },
     "execution_count": 27,
     "metadata": {},
     "output_type": "execute_result"
    }
   ],
   "source": [
    "globe is globe_orig # 이 예제 내내 globe는 globe_orig 객체를 참조"
   ]
  },
  {
   "cell_type": "code",
   "execution_count": 28,
   "id": "2caec9c6",
   "metadata": {},
   "outputs": [
    {
     "ename": "TypeError",
     "evalue": "right operand in += must be 'AddableBingoCage' or an iterable",
     "output_type": "error",
     "traceback": [
      "\u001b[1;31m---------------------------------------------------------------------------\u001b[0m",
      "\u001b[1;31mTypeError\u001b[0m                                 Traceback (most recent call last)",
      "\u001b[1;32m~\\AppData\\Local\\Temp\\ipykernel_12952\\2270390842.py\u001b[0m in \u001b[0;36m__iadd__\u001b[1;34m(self, other)\u001b[0m\n\u001b[0;32m     13\u001b[0m             \u001b[1;32mtry\u001b[0m\u001b[1;33m:\u001b[0m\u001b[1;33m\u001b[0m\u001b[1;33m\u001b[0m\u001b[0m\n\u001b[1;32m---> 14\u001b[1;33m                 \u001b[0mother_iterable\u001b[0m \u001b[1;33m=\u001b[0m \u001b[0miter\u001b[0m\u001b[1;33m(\u001b[0m\u001b[0mother\u001b[0m\u001b[1;33m)\u001b[0m  \u001b[1;31m# Tombola 객체가 아닐 때는 other의 반복자를 가져옴\u001b[0m\u001b[1;33m\u001b[0m\u001b[1;33m\u001b[0m\u001b[0m\n\u001b[0m\u001b[0;32m     15\u001b[0m             \u001b[1;32mexcept\u001b[0m \u001b[0mTypeError\u001b[0m\u001b[1;33m:\u001b[0m  \u001b[1;31m# 실패하면 메세지와 함꼐 예외 발생, 가능하면 해결 방법을 자세하게 써주는 것이 좋음\u001b[0m\u001b[1;33m\u001b[0m\u001b[1;33m\u001b[0m\u001b[0m\n",
      "\u001b[1;31mTypeError\u001b[0m: 'int' object is not iterable",
      "\nDuring handling of the above exception, another exception occurred:\n",
      "\u001b[1;31mTypeError\u001b[0m                                 Traceback (most recent call last)",
      "\u001b[1;32m~\\AppData\\Local\\Temp\\ipykernel_12952\\1143165677.py\u001b[0m in \u001b[0;36m<module>\u001b[1;34m\u001b[0m\n\u001b[1;32m----> 1\u001b[1;33m \u001b[0mglobe\u001b[0m \u001b[1;33m+=\u001b[0m \u001b[1;36m1\u001b[0m \u001b[1;31m# 비반복형을 AddableBingoCage에 추가하면 에러 메세지 발생\u001b[0m\u001b[1;33m\u001b[0m\u001b[1;33m\u001b[0m\u001b[0m\n\u001b[0m",
      "\u001b[1;32m~\\AppData\\Local\\Temp\\ipykernel_12952\\2270390842.py\u001b[0m in \u001b[0;36m__iadd__\u001b[1;34m(self, other)\u001b[0m\n\u001b[0;32m     16\u001b[0m                 \u001b[0mself_cls\u001b[0m \u001b[1;33m=\u001b[0m \u001b[0mtype\u001b[0m\u001b[1;33m(\u001b[0m\u001b[0mself\u001b[0m\u001b[1;33m)\u001b[0m\u001b[1;33m.\u001b[0m\u001b[0m__name__\u001b[0m\u001b[1;33m\u001b[0m\u001b[1;33m\u001b[0m\u001b[0m\n\u001b[0;32m     17\u001b[0m                 \u001b[0mmsg\u001b[0m \u001b[1;33m=\u001b[0m \u001b[1;33m(\u001b[0m\u001b[1;34m'right operand in += must be {!r} or an iterable'\u001b[0m \u001b[1;33m)\u001b[0m\u001b[1;33m\u001b[0m\u001b[1;33m\u001b[0m\u001b[0m\n\u001b[1;32m---> 18\u001b[1;33m                 \u001b[1;32mraise\u001b[0m \u001b[0mTypeError\u001b[0m\u001b[1;33m(\u001b[0m\u001b[0mmsg\u001b[0m\u001b[1;33m.\u001b[0m\u001b[0mformat\u001b[0m\u001b[1;33m(\u001b[0m\u001b[0mself_cls\u001b[0m\u001b[1;33m)\u001b[0m\u001b[1;33m)\u001b[0m\u001b[1;33m\u001b[0m\u001b[1;33m\u001b[0m\u001b[0m\n\u001b[0m\u001b[0;32m     19\u001b[0m \u001b[1;33m\u001b[0m\u001b[0m\n\u001b[0;32m     20\u001b[0m         \u001b[0mself\u001b[0m\u001b[1;33m.\u001b[0m\u001b[0mload\u001b[0m\u001b[1;33m(\u001b[0m\u001b[0mother_iterable\u001b[0m\u001b[1;33m)\u001b[0m \u001b[1;31m# other_iterable을 self에 로딩 가능\u001b[0m\u001b[1;33m\u001b[0m\u001b[1;33m\u001b[0m\u001b[0m\n",
      "\u001b[1;31mTypeError\u001b[0m: right operand in += must be 'AddableBingoCage' or an iterable"
     ]
    }
   ],
   "source": [
    "globe += 1 # 비반복형을 AddableBingoCage에 추가하면 에러 메세지 발생"
   ]
  },
  {
   "cell_type": "markdown",
   "id": "ffab3ca9",
   "metadata": {},
   "source": [
    "<hr>"
   ]
  },
  {
   "cell_type": "markdown",
   "id": "1da769b3",
   "metadata": {},
   "source": [
    "- 두 번째 피연산자의 측면에서 보면 += 연산자가 + 연산자보다 자유로움\n",
    "    - + 연산자의 경우 서로 다른 자료형을 받으면 결과가 어떤 자료형이 되어야하는지 혼란스러움\n",
    "    - += 연산자의 경우는 왼쪽 객체의 내용이 갱신되므로, 연산 결과 자료형이 명확\n",
    "    "
   ]
  },
  {
   "cell_type": "code",
   "execution_count": 15,
   "id": "36615b2e",
   "metadata": {},
   "outputs": [],
   "source": [
    "import abc\n",
    "\n",
    "class Tombola(abc.ABC):  # <1>\n",
    "\n",
    "    @abc.abstractmethod\n",
    "    def load(self, iterable):  # <2>\n",
    "        \"\"\"Add items from an iterable.\"\"\"\n",
    "\n",
    "    @abc.abstractmethod\n",
    "    def pick(self):  # <3>\n",
    "        \"\"\"Remove item at random, returning it.\n",
    "        This method should raise `LookupError` when the instance is empty.\n",
    "        \"\"\"\n",
    "\n",
    "    def loaded(self):  # <4>\n",
    "        \"\"\"Return `True` if there's at least 1 item, `False` otherwise.\"\"\"\n",
    "        return bool(self.inspect())  # <5>\n",
    "\n",
    "    def inspect(self):\n",
    "        \"\"\"Return a sorted tuple with the items currently inside.\"\"\"\n",
    "        items = []\n",
    "        while True:  # <6>\n",
    "            try:\n",
    "                items.append(self.pick())\n",
    "            except LookupError:\n",
    "                break\n",
    "        self.load(items)  # <7>\n",
    "        return tuple(sorted(items))"
   ]
  },
  {
   "cell_type": "code",
   "execution_count": 16,
   "id": "b709a7c9",
   "metadata": {},
   "outputs": [],
   "source": [
    "import random\n",
    "\n",
    "class BingoCage(Tombola):  \n",
    "    \n",
    "    def __init__(self, items):\n",
    "        self._randomizer = random.SystemRandom()  \n",
    "        self._items = []\n",
    "        self.load(items)  \n",
    "\n",
    "    def load(self, items):\n",
    "        self._items.extend(items)\n",
    "        self._randomizer.shuffle(self._items)  \n",
    "\n",
    "    def pick(self):  \n",
    "        try:\n",
    "            return self._items.pop()\n",
    "        except IndexError:\n",
    "            raise LookupError('pick from empty BingoCage')\n",
    "\n",
    "    def __call__(self):  \n",
    "        self.pick()"
   ]
  },
  {
   "cell_type": "markdown",
   "id": "f5306dbc",
   "metadata": {},
   "source": [
    "#### 예제 13-18  bingoaddable.py : +와 += 을 지원하기 위해 BingoCage를 확장한 AddableBingoCage 클래스"
   ]
  },
  {
   "cell_type": "code",
   "execution_count": 17,
   "id": "3f6ed967",
   "metadata": {},
   "outputs": [],
   "source": [
    "class AddableBingoCage(BingoCage):   # AddableBingoCage 클래스는 BingoCage 클래스를 확장\n",
    "\n",
    "    def __add__(self, other):\n",
    "        if isinstance(other, Tombola):  # __add__() 매서드는 두번째 연산자가 Tombola 객체일 때만 작동 \n",
    "            return AddableBingoCage(self.inspect() + other.inspect()) # other 객체에서 항목을 가져옴\n",
    "        else:\n",
    "            return NotImplemented\n",
    "\n",
    "    def __iadd__(self, other):\n",
    "        if isinstance(other, Tombola):\n",
    "            other_iterable = other.inspect()  \n",
    "        else:\n",
    "            try:\n",
    "                other_iterable = iter(other)  # Tombola 객체가 아닐 때는 other의 반복자를 가져옴\n",
    "            except TypeError:  # 실패하면 메세지와 함꼐 예외 발생, 가능하면 해결 방법을 자세하게 써주는 것이 좋음\n",
    "                self_cls = type(self).__name__\n",
    "                msg = ('right operand in += must be {!r} or an iterable' )\n",
    "                raise TypeError(msg.format(self_cls))\n",
    "                \n",
    "        self.load(other_iterable) # other_iterable을 self에 로딩 가능  \n",
    "        return self # 할당 연산 특별 메소드는 반드시 self를 반환"
   ]
  },
  {
   "cell_type": "markdown",
   "id": "a8300ae5",
   "metadata": {},
   "source": [
    "**\\__add\\__()**\n",
    "- AddableBingoCage()를 호출해서 생성된 새로운 객체 반환\n",
    "\n",
    "<br>\n",
    "\n",
    "**\\__iadd\\__()**\n",
    "- 객체 자신을 변경한 후 self를 반환\n"
   ]
  },
  {
   "cell_type": "markdown",
   "id": "2b0e29da",
   "metadata": {},
   "source": [
    "- AddableBincoCage에는 \\__radd\\__() 가 구현되지 않음\n",
    "- 정방향 메서드 \\__add\\__()는 오른쪽에도 동일한 자료형 객체가 와야 작동\n",
    "    - AddableBincoCage 인 a와 AddableBincoCage 가 아닌 b 생성\n",
    "    - a+b 계산\n",
    "    - NotImplemented 반환\n",
    "    - b 객체의 클래스가 이 연산 처리 가능\n",
    "    \n",
    "    <br>\n",
    "    \n",
    "    - b+a 계산\n",
    "    - NotImplemented 반환\n",
    "    - 파이썬이 TypeError를 발생시키고 포기하는 것이 나음\n",
    "    - b 객체는 처리할수 없기 때문"
   ]
  },
  {
   "cell_type": "code",
   "execution_count": null,
   "id": "c48e529e",
   "metadata": {},
   "outputs": [],
   "source": []
  }
 ],
 "metadata": {
  "kernelspec": {
   "display_name": "Python 3 (ipykernel)",
   "language": "python",
   "name": "python3"
  },
  "language_info": {
   "codemirror_mode": {
    "name": "ipython",
    "version": 3
   },
   "file_extension": ".py",
   "mimetype": "text/x-python",
   "name": "python",
   "nbconvert_exporter": "python",
   "pygments_lexer": "ipython3",
   "version": "3.7.13"
  }
 },
 "nbformat": 4,
 "nbformat_minor": 5
}
