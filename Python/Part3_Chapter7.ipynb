{
 "cells": [
  {
   "cell_type": "markdown",
   "metadata": {},
   "source": [
    "# 7. 함수 데커레이터와 클로저"
   ]
  },
  {
   "cell_type": "markdown",
   "metadata": {},
   "source": [
    "## 7.1 데커레이터 기본 지식\n",
    "- 데커레이터는 다른 함수를 인자로 받는 콜러블\n",
    "- 데커레이터는 데커레이트된 함수에 어떤 처리를 수행하고, 함수를 반환 또는 함수를 다른 콜러블 객체로 대체"
   ]
  },
  {
   "cell_type": "code",
   "execution_count": null,
   "metadata": {},
   "outputs": [],
   "source": [
    "@decorator\n",
    "def target():\n",
    "    print(\"running target()\")"
   ]
  },
  {
   "cell_type": "code",
   "execution_count": null,
   "metadata": {},
   "outputs": [],
   "source": [
    "def target():\n",
    "    print(\"running target()\")\n",
    "    \n",
    "target = decorate(target)"
   ]
  },
  {
   "cell_type": "markdown",
   "metadata": {},
   "source": [
    "#### 예제 7-1\n",
    "- 일반적으로 데커레이터는 함수를 다른 함수로 대체함"
   ]
  },
  {
   "cell_type": "code",
   "execution_count": 3,
   "metadata": {},
   "outputs": [],
   "source": [
    "def deco(func):\n",
    "    def inner():\n",
    "        print(\"running inner()\")\n",
    "    return inner # deco()가 inner() 함수를 반환\n",
    "\n",
    "@deco\n",
    "def target():\n",
    "    print(\"running target()\")\n"
   ]
  },
  {
   "cell_type": "code",
   "execution_count": 5,
   "metadata": {},
   "outputs": [
    {
     "name": "stdout",
     "output_type": "stream",
     "text": [
      "running inner()\n"
     ]
    }
   ],
   "source": [
    "target() # 데커레이트된 target()을 호출하면 실제로는 inner()를 수행"
   ]
  },
  {
   "cell_type": "code",
   "execution_count": 7,
   "metadata": {
    "scrolled": true
   },
   "outputs": [
    {
     "data": {
      "text/plain": [
       "<function __main__.deco.<locals>.inner()>"
      ]
     },
     "execution_count": 7,
     "metadata": {},
     "output_type": "execute_result"
    }
   ],
   "source": [
    "target"
   ]
  },
  {
   "cell_type": "code",
   "execution_count": 12,
   "metadata": {},
   "outputs": [
    {
     "name": "stdout",
     "output_type": "stream",
     "text": [
      "running inner()\n",
      "None\n"
     ]
    }
   ],
   "source": [
    "print(target())"
   ]
  },
  {
   "cell_type": "markdown",
   "metadata": {},
   "source": [
    "- 모듈이 로딩 될 때 바로 실행"
   ]
  },
  {
   "cell_type": "markdown",
   "metadata": {},
   "source": [
    "## 7.2 파이썬이 데커레이터를 실행하는 시점\n",
    "- 데커레이터의 핵심은 **데커레이트된 함수가 정의된 직후 실행된다는 것**\n",
    "    - 일반적으로 파이썬이 모듈을 로딩하는 시점, 즉 임포트 타임에 실행"
   ]
  },
  {
   "cell_type": "markdown",
   "metadata": {},
   "source": [
    "#### 예제 7-2\n",
    "- registration.py 모듈"
   ]
  },
  {
   "cell_type": "code",
   "execution_count": 10,
   "metadata": {},
   "outputs": [
    {
     "name": "stdout",
     "output_type": "stream",
     "text": [
      "running register(<function f1 at 0x00000240D4B795E0>)\n",
      "running register(<function f2 at 0x00000240D4B794C0>)\n",
      "running main()\n",
      "registry ->  [<function f1 at 0x00000240D4B795E0>, <function f2 at 0x00000240D4B794C0>]\n",
      "running f1()\n",
      "running f2()\n",
      "running f3()\n"
     ]
    }
   ],
   "source": [
    "registry = []\n",
    "\n",
    "def register(func):\n",
    "    print(\"running register(%s)\" % func)\n",
    "    registry.append(func)\n",
    "    return func\n",
    "\n",
    "@register\n",
    "def f1():\n",
    "    print(\"running f1()\")\n",
    "    \n",
    "@register\n",
    "def f2():\n",
    "    print(\"running f2()\")\n",
    "    \n",
    "def f3():\n",
    "    print(\"running f3()\")\n",
    "    \n",
    "def main():\n",
    "    print(\"running main()\")\n",
    "    print(\"registry -> \", registry)\n",
    "    f1()\n",
    "    f2()\n",
    "    f3()\n",
    "    \n",
    "if __name__ == \"__main__\":\n",
    "    main()"
   ]
  },
  {
   "cell_type": "markdown",
   "metadata": {},
   "source": [
    "- 데커레이터는 모듈이 임포트되자마자 실행\n",
    "- 데커레이트 된 함수는 명시적으로 호출될 때만 실행됨\n",
    "\n",
    "- \"임포트 타임\"이라고 부르는 것과 \"런타임\"부르는 것의 차이를 명확하게 보여줌"
   ]
  },
  {
   "cell_type": "markdown",
   "metadata": {},
   "source": [
    "- 실제 코드에서는 데커레이트를 정의하는 모듈과 데커레이터를 적용하는 모듈을 분리하여 구현\n",
    "- register() 데커레이터가 인수로 전달된 함수와 동일한 함수를 반환\n",
    "    - 실제코드에서 대부분의 데커레이터는 내부 함수를 정의해서 반환"
   ]
  },
  {
   "cell_type": "code",
   "execution_count": null,
   "metadata": {},
   "outputs": [],
   "source": []
  }
 ],
 "metadata": {
  "kernelspec": {
   "display_name": "Python 3",
   "language": "python",
   "name": "python3"
  },
  "language_info": {
   "codemirror_mode": {
    "name": "ipython",
    "version": 3
   },
   "file_extension": ".py",
   "mimetype": "text/x-python",
   "name": "python",
   "nbconvert_exporter": "python",
   "pygments_lexer": "ipython3",
   "version": "3.8.5"
  }
 },
 "nbformat": 4,
 "nbformat_minor": 4
}
