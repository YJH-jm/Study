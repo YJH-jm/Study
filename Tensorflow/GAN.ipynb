{
 "cells": [
  {
   "cell_type": "code",
   "execution_count": 4,
   "metadata": {},
   "outputs": [],
   "source": [
    "import tensorflow as tf\n",
    "from tensorflow import keras\n",
    "from tensorflow.keras import layers, models\n",
    "import numpy as np\n",
    "import matplotlib.pyplot as plt\n",
    "%matplotlib inline\n",
    "np.random.seed(0)\n",
    "tf.random.set_seed(0)"
   ]
  },
  {
   "cell_type": "code",
   "execution_count": null,
   "metadata": {},
   "outputs": [],
   "source": []
  },
  {
   "cell_type": "code",
   "execution_count": 5,
   "metadata": {},
   "outputs": [],
   "source": [
    "generator = models.Sequential([\n",
    "    layers.Dense(units=256, input_dim = 100, activation=\"relu\"),\n",
    "    layers.Dense(units=784, activation=\"sigmoid\")\n",
    "])"
   ]
  },
  {
   "cell_type": "code",
   "execution_count": 6,
   "metadata": {},
   "outputs": [],
   "source": [
    "discriminator = models.Sequential([\n",
    "    layers.Dense(units=256, input_dim = 784, activation = \"relu\"),\n",
    "    layers.Dense(units = 1, activation=\"sigmoid\")\n",
    "])"
   ]
  },
  {
   "cell_type": "code",
   "execution_count": 7,
   "metadata": {},
   "outputs": [],
   "source": [
    "# Generator는 단독으로 성능을 판별할 수 없음\n",
    "# Generator로 만들어진 데이터가 Discriminator를 통과해서 결과가 나와야 함\n",
    "\n",
    "combined_input = layers.Input(shape=(100,))\n",
    "generated = generator(combined_input)\n",
    "discriminator.trainable = False\n",
    "combined_output = discriminator(generated)\n",
    "\n",
    "combined = models.Model(inputs=combined_input, outputs = combined_output)"
   ]
  },
  {
   "cell_type": "code",
   "execution_count": null,
   "metadata": {},
   "outputs": [],
   "source": []
  }
 ],
 "metadata": {
  "kernelspec": {
   "display_name": "Python 3",
   "language": "python",
   "name": "python3"
  },
  "language_info": {
   "codemirror_mode": {
    "name": "ipython",
    "version": 3
   },
   "file_extension": ".py",
   "mimetype": "text/x-python",
   "name": "python",
   "nbconvert_exporter": "python",
   "pygments_lexer": "ipython3",
   "version": "3.8.12"
  }
 },
 "nbformat": 4,
 "nbformat_minor": 4
}
