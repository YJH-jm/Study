{
  "nbformat": 4,
  "nbformat_minor": 0,
  "metadata": {
    "colab": {
      "name": "CNN_keras_classification_model_save.ipynb",
      "provenance": [],
      "collapsed_sections": [],
      "toc_visible": true
    },
    "kernelspec": {
      "name": "python3",
      "display_name": "Python 3"
    },
    "language_info": {
      "name": "python"
    },
    "accelerator": "GPU"
  },
  "cells": [
    {
      "cell_type": "markdown",
      "source": [
        "# Convolutional Neural Network 구현\n",
        "- MNIST 손글씨 data를 이용하여 CNN을 학습하고 MLP와 결과와 비교."
      ],
      "metadata": {
        "id": "tB-OrQPCk42D"
      }
    },
    {
      "cell_type": "code",
      "execution_count": 2,
      "metadata": {
        "colab": {
          "base_uri": "https://localhost:8080/"
        },
        "id": "z5pIzKv6kvxr",
        "outputId": "c8303a6b-d112-4506-de80-c01f71c607f0"
      },
      "outputs": [
        {
          "output_type": "stream",
          "name": "stdout",
          "text": [
            "Mounted at /content/drive\n"
          ]
        }
      ],
      "source": [
        "# google colab 사용하기 위해 \n",
        "from google.colab import drive\n",
        "drive.mount('/content/drive')"
      ]
    },
    {
      "cell_type": "code",
      "source": [
        "import matplotlib.pyplot as plt\n",
        "\n",
        "# 학습 결과 그래프 함수\n",
        "# loss 그래프\n",
        "def plot_loss(history):\n",
        "  plt.figure(figsize=(10, 7))\n",
        "  plt.plot(history.history['loss'], label=\"TRAIN LOSS\")\n",
        "  plt.plot(history.history['val_loss'], label = \"TEST LOSS\")\n",
        "  plt.title('Loss')\n",
        "  plt.xlabel('epoch')\n",
        "  plt.ylabel('loss')\n",
        "  plt.legend()\n",
        "  plt.show()\n",
        "\n",
        "  \n",
        "  \n",
        "  # accuracy 그래프\n",
        "def plot_accuracy(history):\n",
        "  plt.figure(figsize=(10, 7))\n",
        "  plt.plot(history.history['accuracy'], label = \"TRAIN ACC\")\n",
        "  plt.plot(history.history['val_accuracy'], label=\"TEST ACC\")\n",
        "  plt.title('accuracy')\n",
        "  plt.xlabel('epoch')\n",
        "  plt.ylabel('loss')\n",
        "  plt.legend()\n",
        "  plt.show()"
      ],
      "metadata": {
        "id": "Qq3wxoAklJW1"
      },
      "execution_count": 32,
      "outputs": []
    },
    {
      "cell_type": "markdown",
      "source": [
        "# MNIST CNN 적용"
      ],
      "metadata": {
        "id": "N4qQY0cTnpdP"
      }
    },
    {
      "cell_type": "code",
      "source": [
        "import tensorflow as tf\n",
        "from tensorflow import keras\n",
        "from tensorflow.keras import layers\n",
        "import numpy as np\n",
        "\n",
        "np.random.seed(0)\n",
        "tf.random.set_seed(0)"
      ],
      "metadata": {
        "id": "vGX-Ic-hmV0l"
      },
      "execution_count": 49,
      "outputs": []
    },
    {
      "cell_type": "code",
      "source": [
        "# mnist 이미지 로드\n",
        "(train_image, train_label), (test_image, test_label) = keras.datasets.mnist.load_data()"
      ],
      "metadata": {
        "colab": {
          "base_uri": "https://localhost:8080/"
        },
        "id": "UycL-5dMn1lD",
        "outputId": "9706b4ab-6e39-48c7-ec6d-ab43b779dfef"
      },
      "execution_count": 9,
      "outputs": [
        {
          "output_type": "stream",
          "name": "stdout",
          "text": [
            "Downloading data from https://storage.googleapis.com/tensorflow/tf-keras-datasets/mnist.npz\n",
            "11493376/11490434 [==============================] - 0s 0us/step\n",
            "11501568/11490434 [==============================] - 0s 0us/step\n"
          ]
        }
      ]
    },
    {
      "cell_type": "code",
      "source": [
        "# 하이퍼 파라미터 설정\n",
        "LEARNING_RATE = 0.001\n",
        "N_EPOCHS = 20\n",
        "N_BATCHS = 100\n",
        "\n",
        "N_TRAIN = train_image.shape[0]\n",
        "N_TEST = test_image.shape[0]"
      ],
      "metadata": {
        "id": "gBGrrmfBqmXG"
      },
      "execution_count": 13,
      "outputs": []
    },
    {
      "cell_type": "code",
      "source": [
        "# 이미지 전처리 - 정규화 \n",
        "X_train = (train_image/255.0).astype(np.float32) # (60000, 28, 28)\n",
        "X_test = (test_image/255.0).astype(np.float32) \n",
        "\n",
        "X_train = X_train[..., np.newaxis] # (60000, 28, 28) -> (60000, 28, 28, 1)\n",
        "X_test = X_test[..., np.newaxis]"
      ],
      "metadata": {
        "id": "a8PwuRJrr-Xj"
      },
      "execution_count": 14,
      "outputs": []
    },
    {
      "cell_type": "code",
      "source": [
        "# 라벨 전처리 - onehotencoding\n",
        "y_train = keras.utils.to_categorical(train_label) # (60000, 20)\n",
        "y_test = keras.utils.to_categorical(test_label)"
      ],
      "metadata": {
        "id": "FA5YUwp1sDs5"
      },
      "execution_count": 20,
      "outputs": []
    },
    {
      "cell_type": "code",
      "source": [
        "train_dataset = tf.data.Dataset.from_tensor_slices((X_train, y_train)).shuffle(N_TRAIN).batch(N_BATCHS, drop_remainder=True)\n",
        "test_dataset = tf.data.Dataset.from_tensor_slices((X_test, y_test)).batch(N_BATCHS)"
      ],
      "metadata": {
        "id": "A9b5sgb-sm7d"
      },
      "execution_count": 22,
      "outputs": []
    },
    {
      "cell_type": "markdown",
      "source": [
        "### Model (Network) 정의"
      ],
      "metadata": {
        "id": "lXbvdMrDuP_f"
      }
    },
    {
      "cell_type": "code",
      "source": [
        "def create_mnist_model():\n",
        "  model = keras.Sequential()\n",
        "\n",
        "  # input laye - Convolution layer의 input shape은 3차원으로 지정(height, width, channel), gray scale도 3차원으로 지정\n",
        "  model.add(layers.InputLayer((28, 28, 1))) \n",
        "\n",
        "\n",
        "\n",
        "  # convolution block\n",
        "  # convolution layer : Conv2D()\n",
        "  model.add(layers.Conv2D(filters = 32, # Filter의 개수 (즉, 32개의 특징을 찾음)\n",
        "                          kernel_size = (3, 3), # Filter shape (height, width) - height와 width가 같은 경우는 하나만 써줘도 됨\n",
        "                          padding = \"same\",\n",
        "                          strides = (1, 1), # 이동 간격. (좌우, 상하) - 좌우/상하 이동 간격이 동일하면 하나만 써줌. default (1,1)\n",
        "                          activation = \"relu\"\n",
        "                          ))\n",
        "  \n",
        "  # maxpoolint layer : MaxPooling2D()\n",
        "  model.add(layers.MaxPooling2D(pool_size = (2, 2), # size(height, width) - height와 width가 같은 경우에는 하나만 써줘도 됨\n",
        "                                strides=2, # 이동 간격 (좌우,상하) - 동일한 경우 하나만 써도 됨 (default : pool_size)\n",
        "                                padding=\"same\" # same, valid - same : 전체 input을 다 사용, valid = 마지막에 남는 영역은 버림\n",
        "                                ))\n",
        "  \n",
        "  model.add(layers.Conv2D(filters=64, kernel_size=3, padding=\"same\",activation=\"relu\"))\n",
        "  model.add(layers.MaxPooling2D(padding=\"same\"))\n",
        "\n",
        "  model.add(layers.Conv2D(filters=128, kernel_size=3, padding = \"same\", activation = \"relu\"))\n",
        "  model.add(layers.MaxPooling2D(padding = \"same\"))\n",
        "\n",
        "\n",
        "\n",
        "  # Dense layer추가\n",
        "  model.add(layers.Flatten())\n",
        "\n",
        "  model.add(layers.Dense(units = 256, activation = \"relu\"))\n",
        "  model.add(layers.Dense(units = 10, activation = \"softmax\")) # 다중 분류 출력 레이어\n",
        "\n",
        "  return model"
      ],
      "metadata": {
        "id": "QTy9hvg_s5OM"
      },
      "execution_count": 25,
      "outputs": []
    },
    {
      "cell_type": "code",
      "source": [
        "model = create_mnist_model()\n",
        "model.compile(optimizer = keras.optimizers.Adam(learning_rate = LEARNING_RATE),\n",
        "              loss = \"categorical_crossentropy\",\n",
        "              metrics=[\"accuracy\"])"
      ],
      "metadata": {
        "id": "p3gWs_ODy18q"
      },
      "execution_count": 48,
      "outputs": []
    },
    {
      "cell_type": "code",
      "source": [
        "model.summary()"
      ],
      "metadata": {
        "colab": {
          "base_uri": "https://localhost:8080/"
        },
        "id": "-FUz2eTyzZfo",
        "outputId": "86f0da55-216b-445e-870d-9c792f3be028"
      },
      "execution_count": 27,
      "outputs": [
        {
          "output_type": "stream",
          "name": "stdout",
          "text": [
            "Model: \"sequential\"\n",
            "_________________________________________________________________\n",
            " Layer (type)                Output Shape              Param #   \n",
            "=================================================================\n",
            " conv2d (Conv2D)             (None, 28, 28, 32)        320       \n",
            "                                                                 \n",
            " max_pooling2d (MaxPooling2D  (None, 14, 14, 32)       0         \n",
            " )                                                               \n",
            "                                                                 \n",
            " conv2d_1 (Conv2D)           (None, 14, 14, 64)        18496     \n",
            "                                                                 \n",
            " max_pooling2d_1 (MaxPooling  (None, 7, 7, 64)         0         \n",
            " 2D)                                                             \n",
            "                                                                 \n",
            " conv2d_2 (Conv2D)           (None, 7, 7, 128)         73856     \n",
            "                                                                 \n",
            " max_pooling2d_2 (MaxPooling  (None, 4, 4, 128)        0         \n",
            " 2D)                                                             \n",
            "                                                                 \n",
            " flatten (Flatten)           (None, 2048)              0         \n",
            "                                                                 \n",
            " dense (Dense)               (None, 256)               524544    \n",
            "                                                                 \n",
            " dense_1 (Dense)             (None, 10)                2570      \n",
            "                                                                 \n",
            "=================================================================\n",
            "Total params: 619,786\n",
            "Trainable params: 619,786\n",
            "Non-trainable params: 0\n",
            "_________________________________________________________________\n"
          ]
        }
      ]
    },
    {
      "cell_type": "code",
      "source": [
        "keras.utils.plot_model(model)"
      ],
      "metadata": {
        "colab": {
          "base_uri": "https://localhost:8080/",
          "height": 953
        },
        "id": "qNfODIShzau7",
        "outputId": "6c3a3008-2198-49bb-fe70-1bb4856099de"
      },
      "execution_count": 28,
      "outputs": [
        {
          "output_type": "execute_result",
          "data": {
            "image/png": "[encoded data removed]",
            "text/plain": [
              "<IPython.core.display.Image object>"
            ]
          },
          "metadata": {},
          "execution_count": 28
        }
      ]
    },
    {
      "cell_type": "code",
      "source": [
        "hist = model.fit(train_dataset, epochs = N_EPOCHS, validation_data = test_dataset)"
      ],
      "metadata": {
        "colab": {
          "base_uri": "https://localhost:8080/"
        },
        "id": "1ve-tqjczhLE",
        "outputId": "5e01a44c-aac4-4afd-9a87-35f1a4d34b8b"
      },
      "execution_count": 50,
      "outputs": [
        {
          "output_type": "stream",
          "name": "stdout",
          "text": [
            "Epoch 1/20\n",
            "600/600 [==============================] - 4s 5ms/step - loss: 0.1647 - accuracy: 0.9482 - val_loss: 0.0366 - val_accuracy: 0.9876\n",
            "Epoch 2/20\n",
            "600/600 [==============================] - 3s 5ms/step - loss: 0.0433 - accuracy: 0.9862 - val_loss: 0.0328 - val_accuracy: 0.9895\n",
            "Epoch 3/20\n",
            "600/600 [==============================] - 3s 5ms/step - loss: 0.0304 - accuracy: 0.9905 - val_loss: 0.0370 - val_accuracy: 0.9882\n",
            "Epoch 4/20\n",
            "600/600 [==============================] - 3s 5ms/step - loss: 0.0226 - accuracy: 0.9927 - val_loss: 0.0331 - val_accuracy: 0.9895\n",
            "Epoch 5/20\n",
            "600/600 [==============================] - 3s 5ms/step - loss: 0.0176 - accuracy: 0.9944 - val_loss: 0.0220 - val_accuracy: 0.9928\n",
            "Epoch 6/20\n",
            "600/600 [==============================] - 3s 5ms/step - loss: 0.0138 - accuracy: 0.9955 - val_loss: 0.0240 - val_accuracy: 0.9930\n",
            "Epoch 7/20\n",
            "600/600 [==============================] - 3s 5ms/step - loss: 0.0117 - accuracy: 0.9961 - val_loss: 0.0345 - val_accuracy: 0.9899\n",
            "Epoch 8/20\n",
            "600/600 [==============================] - 3s 5ms/step - loss: 0.0101 - accuracy: 0.9967 - val_loss: 0.0297 - val_accuracy: 0.9917\n",
            "Epoch 9/20\n",
            "600/600 [==============================] - 3s 5ms/step - loss: 0.0095 - accuracy: 0.9968 - val_loss: 0.0267 - val_accuracy: 0.9926\n",
            "Epoch 10/20\n",
            "600/600 [==============================] - 3s 5ms/step - loss: 0.0073 - accuracy: 0.9978 - val_loss: 0.0301 - val_accuracy: 0.9921\n",
            "Epoch 11/20\n",
            "600/600 [==============================] - 3s 5ms/step - loss: 0.0068 - accuracy: 0.9979 - val_loss: 0.0311 - val_accuracy: 0.9919\n",
            "Epoch 12/20\n",
            "600/600 [==============================] - 3s 5ms/step - loss: 0.0082 - accuracy: 0.9973 - val_loss: 0.0345 - val_accuracy: 0.9920\n",
            "Epoch 13/20\n",
            "600/600 [==============================] - 3s 5ms/step - loss: 0.0066 - accuracy: 0.9977 - val_loss: 0.0269 - val_accuracy: 0.9929\n",
            "Epoch 14/20\n",
            "600/600 [==============================] - 3s 5ms/step - loss: 0.0053 - accuracy: 0.9982 - val_loss: 0.0267 - val_accuracy: 0.9932\n",
            "Epoch 15/20\n",
            "600/600 [==============================] - 3s 5ms/step - loss: 0.0040 - accuracy: 0.9988 - val_loss: 0.0258 - val_accuracy: 0.9927\n",
            "Epoch 16/20\n",
            "600/600 [==============================] - 3s 5ms/step - loss: 0.0051 - accuracy: 0.9985 - val_loss: 0.0314 - val_accuracy: 0.9937\n",
            "Epoch 17/20\n",
            "600/600 [==============================] - 3s 5ms/step - loss: 0.0049 - accuracy: 0.9985 - val_loss: 0.0491 - val_accuracy: 0.9891\n",
            "Epoch 18/20\n",
            "600/600 [==============================] - 3s 5ms/step - loss: 0.0054 - accuracy: 0.9985 - val_loss: 0.0309 - val_accuracy: 0.9936\n",
            "Epoch 19/20\n",
            "600/600 [==============================] - 3s 5ms/step - loss: 0.0029 - accuracy: 0.9990 - val_loss: 0.0355 - val_accuracy: 0.9932\n",
            "Epoch 20/20\n",
            "600/600 [==============================] - 3s 5ms/step - loss: 0.0043 - accuracy: 0.9985 - val_loss: 0.0326 - val_accuracy: 0.9929\n"
          ]
        }
      ]
    },
    {
      "cell_type": "code",
      "source": [
        "plot_loss(hist)"
      ],
      "metadata": {
        "colab": {
          "base_uri": "https://localhost:8080/",
          "height": 458
        },
        "id": "77ZO172Szv4Z",
        "outputId": "d4416b53-b240-4175-c616-6f14549d214f"
      },
      "execution_count": 51,
      "outputs": [
        {
          "output_type": "display_data",
          "data": {
            "image/png": "[encoded data removed]",
            "text/plain": [
              "<Figure size 720x504 with 1 Axes>"
            ]
          },
          "metadata": {
            "needs_background": "light"
          }
        }
      ]
    },
    {
      "cell_type": "code",
      "source": [
        "plot_accuracy(hist)"
      ],
      "metadata": {
        "colab": {
          "base_uri": "https://localhost:8080/",
          "height": 458
        },
        "id": "Eo0VhBlI0rCT",
        "outputId": "6fd0f7e9-d6c5-4596-bc9d-094ff6624ddc"
      },
      "execution_count": 52,
      "outputs": [
        {
          "output_type": "display_data",
          "data": {
            "image/png": "[encoded data removed]",
            "text/plain": [
              "<Figure size 720x504 with 1 Axes>"
            ]
          },
          "metadata": {
            "needs_background": "light"
          }
        }
      ]
    },
    {
      "cell_type": "code",
      "source": [
        "# 최종 검증\n",
        "loss, acc = model.evaluate(test_dataset)"
      ],
      "metadata": {
        "colab": {
          "base_uri": "https://localhost:8080/"
        },
        "id": "15UHc2WN0yYz",
        "outputId": "34b1fb2a-b75a-4ecf-b11f-8ee8138e08ab"
      },
      "execution_count": 53,
      "outputs": [
        {
          "output_type": "stream",
          "name": "stdout",
          "text": [
            "100/100 [==============================] - 0s 3ms/step - loss: 0.0326 - accuracy: 0.9929\n"
          ]
        }
      ]
    },
    {
      "cell_type": "markdown",
      "source": [
        "### prediction error가 발생한 example 확인"
      ],
      "metadata": {
        "id": "sjEg62Xu1ObS"
      }
    },
    {
      "cell_type": "code",
      "source": [
        "pred = model.predict(X_test)\n",
        "pred.shape # (10000, 10) 각 숫자별 확률 값 "
      ],
      "metadata": {
        "colab": {
          "base_uri": "https://localhost:8080/"
        },
        "id": "Blf4p3zZ1cvq",
        "outputId": "6024e1db-3d24-4a31-885b-facdc092b329"
      },
      "execution_count": 54,
      "outputs": [
        {
          "output_type": "execute_result",
          "data": {
            "text/plain": [
              "(10000, 10)"
            ]
          },
          "metadata": {},
          "execution_count": 54
        }
      ]
    },
    {
      "cell_type": "code",
      "source": [
        "pred_label = np.argmax(pred, axis=-1)\n",
        "idx = np.where(test_label != pred_label)[0]\n",
        "idx.shape"
      ],
      "metadata": {
        "colab": {
          "base_uri": "https://localhost:8080/"
        },
        "id": "VUpSbn-E19ji",
        "outputId": "04dedb73-795b-47d2-b954-18574c418840"
      },
      "execution_count": 55,
      "outputs": [
        {
          "output_type": "execute_result",
          "data": {
            "text/plain": [
              "(71,)"
            ]
          },
          "metadata": {},
          "execution_count": 55
        }
      ]
    },
    {
      "cell_type": "code",
      "source": [
        "idx.shape"
      ],
      "metadata": {
        "colab": {
          "base_uri": "https://localhost:8080/"
        },
        "id": "tzsOKkG95sS1",
        "outputId": "c788e918-9c34-4756-f979-9e20fb8e8510"
      },
      "execution_count": 56,
      "outputs": [
        {
          "output_type": "execute_result",
          "data": {
            "text/plain": [
              "(71,)"
            ]
          },
          "metadata": {},
          "execution_count": 56
        }
      ]
    },
    {
      "cell_type": "code",
      "source": [
        "# 틀린 결과 중에 15개 확인\n",
        "\n",
        "import matplotlib.pyplot as plt\n",
        "\n",
        "plt.figure(figsize=(20, 20))\n",
        "\n",
        "for i in range(15):\n",
        "  error_idx = idx[i]\n",
        "\n",
        "  p = pred_label[error_idx] # 예측\n",
        "  y = test_label[error_idx] # 정답\n",
        "\n",
        "  plt.subplot(3, 5, i+1)\n",
        "  plt.imshow(test_image[error_idx], cmap='gray')\n",
        "  plt.title(\"y : {}, pred : {}\".format(y, p), fontsize=17)\n",
        "  plt.axis(\"off\")\n",
        "\n",
        "plt.tight_layout()\n",
        "plt.show()"
      ],
      "metadata": {
        "colab": {
          "base_uri": "https://localhost:8080/",
          "height": 1000
        },
        "id": "ToW0jqoy5ywk",
        "outputId": "927cd51d-34a7-4e39-c991-ff4dd132aa11"
      },
      "execution_count": 57,
      "outputs": [
        {
          "output_type": "display_data",
          "data": {
            "image/png": "[encoded data removed]",
            "text/plain": [
              "<Figure size 1440x1440 with 15 Axes>"
            ]
          },
          "metadata": {
            "needs_background": "light"
          }
        }
      ]
    },
    {
      "cell_type": "markdown",
      "source": [
        "# 모델 저장\n",
        "1. 학습이 끝난 모델의 파라미터만 저장\n",
        "1. 모델 전체 저장\n",
        "1. Callback 함수를 이용해 학습시 가장 좋은 지표의 모델 저장"
      ],
      "metadata": {
        "id": "WZfGLgzh7Pc1"
      }
    },
    {
      "cell_type": "markdown",
      "source": [
        "## 텐서플로 파일 타입\n",
        "- checkpoint \n",
        "    - 모델의 weight를 저장하기 위한 파일타입\n",
        "- SavedModel \n",
        "    - 모델의 구조와 파라미터들을 모두 저장하는 형식"
      ],
      "metadata": {
        "id": "tWqN3OR47S3j"
      }
    },
    {
      "cell_type": "markdown",
      "source": [
        "## 학습한 Weight (파라미터) 저장 및 불러오기\n",
        "- 가중치를 저장하여 나중에 재학습 없이 학습된 가중치를 사용할 수 있다.\n",
        "- 저장: `model.save_weights(\"저장경로\")`\n",
        "- 불러오기: `model.load_weights('불러올경로')`\n",
        "- 저장형식\n",
        "    - Tensorflow Checkpoint (기본방식)\n",
        "    - HDF5\n",
        "        - `save_weights(.., save_format='h5')`"
      ],
      "metadata": {
        "id": "VCwzu69N7XUV"
      }
    },
    {
      "cell_type": "code",
      "source": [
        "# 경로 설정\n",
        "import os\n",
        "\n",
        "base_dir = \"/content/drive/MyDrive/ColabNotebooks\"\n",
        "mnist_weight_dir = os.path.join(base_dir, \"mnist_weight\") # 가중치 저장할 경로 \n",
        "# /content/drive/MyDrive/ColabNotebooks/mnist_weight\n",
        "\n",
        "if not os.path.isdir(mnist_weight_dir):\n",
        "  os.mkdir(mnist_weight_dir)\n",
        "\n",
        "weight_file_path = os.path.join(mnist_weight_dir, \"mnist_weight.ckpt\")"
      ],
      "metadata": {
        "id": "Nga7rnVg7POU"
      },
      "execution_count": 61,
      "outputs": []
    },
    {
      "cell_type": "code",
      "source": [
        "# weight_file_path 경로에 학습된 parameter(weight) 저장\n",
        "model.save_weights(weight_file_path) "
      ],
      "metadata": {
        "id": "QdAEorNN6cwE"
      },
      "execution_count": 62,
      "outputs": []
    },
    {
      "cell_type": "code",
      "source": [
        "# 저장된 weight들을 불러오기\n",
        "# 모델을 생성한 뒤에 저장된 weight들을 덮어 씌우는 형식\n",
        "\n",
        "new_model = create_mnist_model()\n",
        "new_model.compile(optimizer = keras.optimizers.Adam(learning_rate=LEARNING_RATE), loss = \"categorical_crossentropy\", metrics = ['accuracy'])\n",
        "\n",
        "new_model.load_weights(weight_file_path)"
      ],
      "metadata": {
        "colab": {
          "base_uri": "https://localhost:8080/"
        },
        "id": "nKZspyI18aio",
        "outputId": "abed1a91-7de8-487a-e8bc-43bd8ee10667"
      },
      "execution_count": 65,
      "outputs": [
        {
          "output_type": "execute_result",
          "data": {
            "text/plain": [
              "<tensorflow.python.training.tracking.util.CheckpointLoadStatus at 0x7f2f4b7e57d0>"
            ]
          },
          "metadata": {},
          "execution_count": 65
        }
      ]
    },
    {
      "cell_type": "code",
      "source": [
        "# 평가\n",
        "new_model.evaluate(test_dataset)"
      ],
      "metadata": {
        "colab": {
          "base_uri": "https://localhost:8080/"
        },
        "id": "1mHD14oC8n7B",
        "outputId": "4d7ec741-b840-425d-8956-ffb99cd09011"
      },
      "execution_count": 66,
      "outputs": [
        {
          "output_type": "stream",
          "name": "stdout",
          "text": [
            "100/100 [==============================] - 1s 4ms/step - loss: 0.0326 - accuracy: 0.9929\n"
          ]
        },
        {
          "output_type": "execute_result",
          "data": {
            "text/plain": [
              "[0.0325637012720108, 0.992900013923645]"
            ]
          },
          "metadata": {},
          "execution_count": 66
        }
      ]
    },
    {
      "cell_type": "markdown",
      "source": [
        "## 전체 모델 저장하고 불러오기\n",
        "- 저장: `model.save('저장할디렉토리')`\n",
        "- 불러오기: `tf.keras.models.load_model('저장디렉토리경로')`\n",
        "- 저장 형식\n",
        "    - Tensorflow SavedModel 형식(기본방식)\n",
        "        - 모델 아키텍처 및 훈련 구성(옵티마이저, 손실 및 메트릭 포함)은 saved_model.pb 에 저장된다.\n",
        "        - 파라미터는 variables/ 디렉토리에 저장된다.\n",
        "        - https://www.tensorflow.org/guide/saved_model?hl=ko#the_savedmodel_format_on_disk\n",
        "    - HDF5 형식\n",
        "        - `save(..., save_format='h5')` 로 지정한다."
      ],
      "metadata": {
        "id": "F2nFJnfr9Y1l"
      }
    },
    {
      "cell_type": "code",
      "source": [
        "# 경로 설정\n",
        "mnist_model_dir = os.path.join(base_dir, \"mnist_model\")\n",
        "\n",
        "if not os.path.isdir(mnist_model_dir):\n",
        "  os.mkdir(mnist_model_dir)"
      ],
      "metadata": {
        "id": "_VNPhJ_h8p6B"
      },
      "execution_count": 67,
      "outputs": []
    },
    {
      "cell_type": "code",
      "source": [
        "# 모델 저장\n",
        "model.save(mnist_model_dir)"
      ],
      "metadata": {
        "colab": {
          "base_uri": "https://localhost:8080/"
        },
        "id": "30iYu6sw9k_1",
        "outputId": "1b2745ba-71f3-4cc2-b720-ae4e13853acb"
      },
      "execution_count": 68,
      "outputs": [
        {
          "output_type": "stream",
          "name": "stdout",
          "text": [
            "INFO:tensorflow:Assets written to: /content/drive/MyDrive/ColabNotebooks/mnist_model/assets\n"
          ]
        }
      ]
    },
    {
      "cell_type": "code",
      "source": [
        "# 불러오기\n",
        "new_model2 = keras.models.load_model(mnist_model_dir)"
      ],
      "metadata": {
        "id": "bjwEpjg_9pK-"
      },
      "execution_count": 69,
      "outputs": []
    },
    {
      "cell_type": "code",
      "source": [
        "# 평가\n",
        "new_model2.evaluate(test_dataset)"
      ],
      "metadata": {
        "colab": {
          "base_uri": "https://localhost:8080/"
        },
        "id": "mLp1MSMH93cp",
        "outputId": "03572a82-cb7c-4e53-f124-e2ff1d68b93f"
      },
      "execution_count": 70,
      "outputs": [
        {
          "output_type": "stream",
          "name": "stdout",
          "text": [
            "100/100 [==============================] - 1s 5ms/step - loss: 0.0326 - accuracy: 0.9929\n"
          ]
        },
        {
          "output_type": "execute_result",
          "data": {
            "text/plain": [
              "[0.0325637012720108, 0.992900013923645]"
            ]
          },
          "metadata": {},
          "execution_count": 70
        }
      ]
    },
    {
      "cell_type": "markdown",
      "source": [
        "## Callback을 사용한 모델 저장 및 Early Stopping\n",
        "- callback은 학습하는 도중 특정 이벤트 발생시 호출되는 다양한 함수를 제공하여 자동화 처리를 지원 \n",
        "  - (cf: 프로그래밍의 콜백함수)\n",
        "- 다양한 콜백 클래스가 제공\n",
        "    - https://www.tensorflow.org/api_docs/python/tf/keras/callbacks\n",
        "- `EarlyStopping`: Validation set에 대한 평가지표가  더 이상 개선되지 않을 때 학습을 자동으로 멈춤\n",
        "    - `monitor`: 모니터링할 평가지표 지정. (ex: accuracy)\n",
        "    - `patience`: epoch 수 지정. validation 평가 지표가 개선이 안되더라도 지정한 epoch만큼 반복한다. 지정한 epoch만큼 반복 후에도 개선이 되지 않으면 중단 \n",
        "- `ModelCheckpoint`: 지정한 평가지표(예:validation loss)가 가장 좋을 때 모델과 weight를 저장하여 overfitting이 발생하기 전의 model을 나중에 불러들여 사용할 수 있음\n",
        "    - `save_best_only=True`: monitoring 중인 measure를 기준으로 최적의 모형의 weight만 저장 \n",
        "- **callback 객체들을 리스트로 묶은 뒤 fit()의 callback 매개변수에 전달한다.**"
      ],
      "metadata": {
        "id": "HdaW8WGW-EBE"
      }
    },
    {
      "cell_type": "code",
      "source": [
        "# 모델 생성\n",
        "model2 = create_mnist_model()\n",
        "model2.compile(optimizer= \"adam\", loss = \"categorical_crossentropy\", metrics = [\"accuracy\"])"
      ],
      "metadata": {
        "id": "PqRHddmJ970-"
      },
      "execution_count": 80,
      "outputs": []
    },
    {
      "cell_type": "code",
      "source": [
        "# 경로 설정\n",
        "checkpoint_save_dir = os.path.join(base_dir, \"mnist_callback\")\n",
        "if not os.path.isdir(checkpoint_save_dir):\n",
        "  os.mkdir(checkpoint_save_dir)\n",
        "\n",
        "checkpoint_save_file = os.path.join(checkpoint_save_dir, 'saved_model_{epoch:04d}.ckpt') # {epoch:04d} :에 몇번째 epoch"
      ],
      "metadata": {
        "id": "TXD6RKn7-o4z"
      },
      "execution_count": 82,
      "outputs": []
    },
    {
      "cell_type": "code",
      "source": [
        "# callback 생성\n",
        "# ModelCheckpoint - 모델을 저장해주는 callback\n",
        "\n",
        "mc_callback = keras.callbacks.ModelCheckpoint(filepath=checkpoint_save_file,\n",
        "                                              save_weight_only = True, # weight만 저장\n",
        "                                              save_best_only = True, # 가장 성능 지표가 좋았던 에폭의 모델 저장\n",
        "                                              monitor = \"val_loss\", # 확인할 성능지표\n",
        "                                              verbose=2, # 저장 로그\n",
        "                                              )\n",
        "\n",
        "# EarlyStopping - 성능개선이 없으면 전체 epoch 다 반복하지 않고 중간에 멈추는 callback\n",
        "\n",
        "es_callback = keras.callbacks.EarlyStopping(monitor='val_loss', # 확인할 성능지표\n",
        "                                            patience = 5, # 지정한 에폭수(5)만큼 학습하는 동안 성능 개선이 없으면 학습을 멈춤\n",
        "                                            )"
      ],
      "metadata": {
        "id": "efe1LHyl-8bm"
      },
      "execution_count": 83,
      "outputs": []
    },
    {
      "cell_type": "code",
      "source": [
        "# 학습\n",
        "hist =  model2.fit(train_dataset, epochs=100, validation_data=test_dataset, callbacks=[mc_callback, es_callback])"
      ],
      "metadata": {
        "colab": {
          "base_uri": "https://localhost:8080/"
        },
        "id": "9xZdUak3_3Sp",
        "outputId": "1cae8b23-586a-48af-a876-ab1aecbf3864"
      },
      "execution_count": 84,
      "outputs": [
        {
          "output_type": "stream",
          "name": "stdout",
          "text": [
            "Epoch 1/100\n",
            "598/600 [============================>.] - ETA: 0s - loss: 0.1615 - accuracy: 0.9479\n",
            "Epoch 00001: val_loss improved from inf to 0.04180, saving model to /content/drive/MyDrive/ColabNotebooks/mnist_callback/saved_model_0001.ckpt\n",
            "INFO:tensorflow:Assets written to: /content/drive/MyDrive/ColabNotebooks/mnist_callback/saved_model_0001.ckpt/assets\n",
            "600/600 [==============================] - 5s 8ms/step - loss: 0.1611 - accuracy: 0.9481 - val_loss: 0.0418 - val_accuracy: 0.9869\n",
            "Epoch 2/100\n",
            "598/600 [============================>.] - ETA: 0s - loss: 0.0423 - accuracy: 0.9865\n",
            "Epoch 00002: val_loss improved from 0.04180 to 0.03930, saving model to /content/drive/MyDrive/ColabNotebooks/mnist_callback/saved_model_0002.ckpt\n",
            "INFO:tensorflow:Assets written to: /content/drive/MyDrive/ColabNotebooks/mnist_callback/saved_model_0002.ckpt/assets\n",
            "600/600 [==============================] - 4s 7ms/step - loss: 0.0422 - accuracy: 0.9865 - val_loss: 0.0393 - val_accuracy: 0.9868\n",
            "Epoch 3/100\n",
            "597/600 [============================>.] - ETA: 0s - loss: 0.0301 - accuracy: 0.9903\n",
            "Epoch 00003: val_loss improved from 0.03930 to 0.03139, saving model to /content/drive/MyDrive/ColabNotebooks/mnist_callback/saved_model_0003.ckpt\n",
            "INFO:tensorflow:Assets written to: /content/drive/MyDrive/ColabNotebooks/mnist_callback/saved_model_0003.ckpt/assets\n",
            "600/600 [==============================] - 4s 7ms/step - loss: 0.0300 - accuracy: 0.9903 - val_loss: 0.0314 - val_accuracy: 0.9906\n",
            "Epoch 4/100\n",
            "599/600 [============================>.] - ETA: 0s - loss: 0.0217 - accuracy: 0.9931\n",
            "Epoch 00004: val_loss did not improve from 0.03139\n",
            "600/600 [==============================] - 3s 5ms/step - loss: 0.0216 - accuracy: 0.9931 - val_loss: 0.0335 - val_accuracy: 0.9886\n",
            "Epoch 5/100\n",
            "598/600 [============================>.] - ETA: 0s - loss: 0.0173 - accuracy: 0.9947\n",
            "Epoch 00005: val_loss improved from 0.03139 to 0.02314, saving model to /content/drive/MyDrive/ColabNotebooks/mnist_callback/saved_model_0005.ckpt\n",
            "INFO:tensorflow:Assets written to: /content/drive/MyDrive/ColabNotebooks/mnist_callback/saved_model_0005.ckpt/assets\n",
            "600/600 [==============================] - 4s 7ms/step - loss: 0.0173 - accuracy: 0.9947 - val_loss: 0.0231 - val_accuracy: 0.9933\n",
            "Epoch 6/100\n",
            "596/600 [============================>.] - ETA: 0s - loss: 0.0136 - accuracy: 0.9955\n",
            "Epoch 00006: val_loss did not improve from 0.02314\n",
            "600/600 [==============================] - 3s 5ms/step - loss: 0.0136 - accuracy: 0.9955 - val_loss: 0.0270 - val_accuracy: 0.9922\n",
            "Epoch 7/100\n",
            "599/600 [============================>.] - ETA: 0s - loss: 0.0116 - accuracy: 0.9959\n",
            "Epoch 00007: val_loss did not improve from 0.02314\n",
            "600/600 [==============================] - 3s 5ms/step - loss: 0.0116 - accuracy: 0.9959 - val_loss: 0.0272 - val_accuracy: 0.9916\n",
            "Epoch 8/100\n",
            "600/600 [==============================] - ETA: 0s - loss: 0.0099 - accuracy: 0.9968\n",
            "Epoch 00008: val_loss did not improve from 0.02314\n",
            "600/600 [==============================] - 3s 5ms/step - loss: 0.0099 - accuracy: 0.9968 - val_loss: 0.0358 - val_accuracy: 0.9902\n",
            "Epoch 9/100\n",
            "599/600 [============================>.] - ETA: 0s - loss: 0.0095 - accuracy: 0.9969\n",
            "Epoch 00009: val_loss did not improve from 0.02314\n",
            "600/600 [==============================] - 3s 5ms/step - loss: 0.0095 - accuracy: 0.9969 - val_loss: 0.0313 - val_accuracy: 0.9918\n",
            "Epoch 10/100\n",
            "594/600 [============================>.] - ETA: 0s - loss: 0.0085 - accuracy: 0.9973\n",
            "Epoch 00010: val_loss did not improve from 0.02314\n",
            "600/600 [==============================] - 3s 5ms/step - loss: 0.0084 - accuracy: 0.9973 - val_loss: 0.0299 - val_accuracy: 0.9920\n"
          ]
        }
      ]
    },
    {
      "cell_type": "code",
      "source": [
        "new_model3 = keras.models.load_model(\"/content/drive/MyDrive/ColabNotebooks/mnist_callback/saved_model_0005.ckpt\")\n",
        "new_model3.evaluate(test_dataset)"
      ],
      "metadata": {
        "colab": {
          "base_uri": "https://localhost:8080/"
        },
        "id": "YkleAJZqBvx5",
        "outputId": "9e23aae3-a1e6-46ae-9d76-3bbcee52462a"
      },
      "execution_count": 86,
      "outputs": [
        {
          "output_type": "stream",
          "name": "stdout",
          "text": [
            "100/100 [==============================] - 1s 4ms/step - loss: 0.0231 - accuracy: 0.9933\n"
          ]
        },
        {
          "output_type": "execute_result",
          "data": {
            "text/plain": [
              "[0.023135611787438393, 0.9933000206947327]"
            ]
          },
          "metadata": {},
          "execution_count": 86
        }
      ]
    }
  ]
}