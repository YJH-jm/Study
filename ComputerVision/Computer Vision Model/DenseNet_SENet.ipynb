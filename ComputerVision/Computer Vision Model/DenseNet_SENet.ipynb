{
 "cells": [
  {
   "cell_type": "code",
   "execution_count": null,
   "id": "404c13bb",
   "metadata": {},
   "outputs": [],
   "source": [
    "import torch, torchvision\n",
    "import torchvision.models as models\n",
    "import torchvision.datasets as datasets\n",
    "\n",
    "import matplotlib.pyplot as plt\n",
    "from PIL import Image"
   ]
  },
  {
   "cell_type": "code",
   "execution_count": null,
   "id": "3427def4",
   "metadata": {},
   "outputs": [],
   "source": [
    "models.densenet121()\n",
    "# models.densenet161()\n",
    "# models.densenet169()\n",
    "# models.densenet201()"
   ]
  },
  {
   "cell_type": "code",
   "execution_count": null,
   "id": "b0566d54",
   "metadata": {},
   "outputs": [],
   "source": [
    "### Model\n",
    "# densenet201 = models.densenet201(pretrained=True)\n",
    "densenet201 = models.densenet201(weights=\"DEFAULT\")\n",
    "\n",
    "## Dataset\n",
    "to_tensor = torchvision.transforms.Compose(\n",
    "                [torchvision.transforms.ToTensor(),\n",
    "               torchvision.transforms.Normalize(mean=[0.485, 0.456, 0.406],\n",
    "                                 std=[0.229, 0.224, 0.225])]\n",
    "                                          )\n",
    "\n",
    "cifar10 = torchvision.datasets.CIFAR10(root='./', download=True, transform=to_tensor)\n",
    "\n",
    "dataloader = torch.utils.data.DataLoader(cifar10, batch_size=8, shuffle=True, num_workers=2)"
   ]
  },
  {
   "cell_type": "code",
   "execution_count": null,
   "id": "cd908b54",
   "metadata": {},
   "outputs": [],
   "source": [
    "for idx, data in enumerate(dataloader):\n",
    "    \n",
    "    img, gt = data\n",
    "    \n",
    "    print(img.shape)\n",
    "    \n",
    "    scores = densenet201(img)\n",
    "    \n",
    "    \n",
    "    print(scores.shape)\n",
    "    break"
   ]
  },
  {
   "cell_type": "markdown",
   "id": "4250c1b6",
   "metadata": {},
   "source": [
    "## Model variations"
   ]
  },
  {
   "cell_type": "code",
   "execution_count": null,
   "id": "0ccc3601",
   "metadata": {},
   "outputs": [],
   "source": [
    "models.densenet121()\n",
    "\n",
    "models.densenet161()\n",
    "\n",
    "models.densenet169()"
   ]
  },
  {
   "cell_type": "markdown",
   "id": "a9d81e05",
   "metadata": {},
   "source": [
    "## SENet is not implemented in pytorch-torchvision."
   ]
  },
  {
   "cell_type": "code",
   "execution_count": null,
   "id": "225fc587",
   "metadata": {},
   "outputs": [],
   "source": [
    "# github senet.pytorch repo 찾아 git clone 하여 사용"
   ]
  }
 ],
 "metadata": {
  "kernelspec": {
   "display_name": "Python 3 (ipykernel)",
   "language": "python",
   "name": "python3"
  },
  "language_info": {
   "codemirror_mode": {
    "name": "ipython",
    "version": 3
   },
   "file_extension": ".py",
   "mimetype": "text/x-python",
   "name": "python",
   "nbconvert_exporter": "python",
   "pygments_lexer": "ipython3",
   "version": "3.8.13"
  }
 },
 "nbformat": 4,
 "nbformat_minor": 5
}
