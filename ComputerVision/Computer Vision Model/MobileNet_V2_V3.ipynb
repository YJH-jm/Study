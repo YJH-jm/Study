{
 "cells": [
  {
   "cell_type": "markdown",
   "id": "e77fcfea",
   "metadata": {},
   "source": [
    "## Torchvision Models \n",
    "\n",
    "### MobileNetV2, MobileNetV3"
   ]
  },
  {
   "cell_type": "code",
   "execution_count": null,
   "id": "449161a4",
   "metadata": {},
   "outputs": [],
   "source": [
    "import torch, torchvision\n",
    "import torchvision.models as models\n",
    "import torchvision.datasets as datasets\n",
    "\n",
    "\n",
    "import matplotlib.pyplot as plt\n",
    "from PIL import Image"
   ]
  },
  {
   "cell_type": "markdown",
   "id": "d1afb339",
   "metadata": {},
   "source": [
    "## MobileNet V2\n",
    "\n",
    "https://arxiv.org/abs/1801.04381\n",
    "\n",
    "https://pytorch.org/vision/0.12/_modules/torchvision/models/mobilenetv2.html#mobilenet_v2"
   ]
  },
  {
   "cell_type": "code",
   "execution_count": null,
   "id": "f3744e1d",
   "metadata": {},
   "outputs": [],
   "source": [
    "models.mobilenet_v2()"
   ]
  },
  {
   "cell_type": "markdown",
   "id": "94920396",
   "metadata": {},
   "source": [
    "## MobileNet V3\n",
    "\n",
    "https://arxiv.org/abs/1905.02244\n",
    "\n",
    "\n",
    "https://pytorch.org/vision/0.12/models.html#mobilenet-v3\n"
   ]
  },
  {
   "cell_type": "code",
   "execution_count": null,
   "id": "30a4fd05",
   "metadata": {},
   "outputs": [],
   "source": [
    "mobilenet_v3_large = models.mobilenet_v3_large()\n",
    "mobilenet_v3_small = models.mobilenet_v3_small()\n",
    "mobilenet_v3_small"
   ]
  },
  {
   "cell_type": "code",
   "execution_count": null,
   "id": "4b225af4",
   "metadata": {},
   "outputs": [],
   "source": [
    "model = models.mobilenet_v3_large(pretrained=True)"
   ]
  },
  {
   "cell_type": "code",
   "execution_count": null,
   "id": "66d27964",
   "metadata": {},
   "outputs": [],
   "source": [
    "model.classifier[-1] = torch.nn.Linear(in_features=1280, out_features=2, bias=True)"
   ]
  },
  {
   "cell_type": "code",
   "execution_count": null,
   "id": "3750632a",
   "metadata": {},
   "outputs": [],
   "source": [
    "model"
   ]
  },
  {
   "cell_type": "code",
   "execution_count": null,
   "id": "4f52481c",
   "metadata": {},
   "outputs": [],
   "source": [
    "model.parameters()"
   ]
  },
  {
   "cell_type": "code",
   "execution_count": null,
   "id": "77290d2d",
   "metadata": {},
   "outputs": [],
   "source": [
    "for i in model.parameters():\n",
    "    print(i)"
   ]
  },
  {
   "cell_type": "code",
   "execution_count": null,
   "id": "6910d42e",
   "metadata": {},
   "outputs": [],
   "source": [
    "for i in model.features.parameters():\n",
    "    print(i)"
   ]
  },
  {
   "cell_type": "code",
   "execution_count": null,
   "id": "c2ca98e5",
   "metadata": {},
   "outputs": [],
   "source": []
  }
 ],
 "metadata": {
  "kernelspec": {
   "display_name": "Python 3 (ipykernel)",
   "language": "python",
   "name": "python3"
  },
  "language_info": {
   "codemirror_mode": {
    "name": "ipython",
    "version": 3
   },
   "file_extension": ".py",
   "mimetype": "text/x-python",
   "name": "python",
   "nbconvert_exporter": "python",
   "pygments_lexer": "ipython3",
   "version": "3.8.13"
  }
 },
 "nbformat": 4,
 "nbformat_minor": 5
}
