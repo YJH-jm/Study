{
 "cells": [
  {
   "cell_type": "code",
   "execution_count": null,
   "id": "5cd33317",
   "metadata": {},
   "outputs": [],
   "source": [
    "import torch, torchvision\n",
    "import torchvision.models as models\n",
    "import torchvision.datasets as datasets\n",
    "\n",
    "import matplotlib.pyplot as plt\n",
    "from PIL import Image"
   ]
  },
  {
   "cell_type": "code",
   "execution_count": null,
   "id": "2bee0e32",
   "metadata": {
    "scrolled": true
   },
   "outputs": [],
   "source": [
    "models.efficientnet_b0()"
   ]
  },
  {
   "cell_type": "code",
   "execution_count": null,
   "id": "9fd677e9",
   "metadata": {},
   "outputs": [],
   "source": [
    "### Model\n",
    "# efficientnet_b0 = models.efficientnet_b0(pretrained=True)\n",
    "efficientnet_b0 = models.efficientnet_b0(weights=\"DEFAULT\")\n",
    "## Dataset\n",
    "to_tensor = torchvision.transforms.Compose(\n",
    "                [torchvision.transforms.ToTensor(),\n",
    "               torchvision.transforms.Normalize(mean=[0.485, 0.456, 0.406],\n",
    "                                 std=[0.229, 0.224, 0.225])]\n",
    "                                          )\n",
    "\n",
    "cifar10 = torchvision.datasets.CIFAR10(root='./', download=True, transform=to_tensor)\n",
    "\n",
    "dataloader = torch.utils.data.DataLoader(cifar10, batch_size=8, shuffle=True, num_workers=2)"
   ]
  },
  {
   "cell_type": "code",
   "execution_count": null,
   "id": "9c014701",
   "metadata": {},
   "outputs": [],
   "source": [
    "for idx, data in enumerate(dataloader):\n",
    "    \n",
    "    img, gt = data\n",
    "    \n",
    "    print(img.shape)\n",
    "    \n",
    "    scores = efficientnet_b0(img)\n",
    "    \n",
    "    print(scores.shape)\n",
    "    break"
   ]
  },
  {
   "cell_type": "code",
   "execution_count": null,
   "id": "9a305f9c",
   "metadata": {},
   "outputs": [],
   "source": [
    "# EfficientNet 파라미터 수를 증가시켰다는 특징 존재"
   ]
  },
  {
   "cell_type": "code",
   "execution_count": null,
   "id": "482198dc",
   "metadata": {},
   "outputs": [],
   "source": [
    "for k,v in efficientnet_b0.named_parameters():\n",
    "    print(k,v.shape) # 모델의 파라미터를 알려줌"
   ]
  },
  {
   "cell_type": "code",
   "execution_count": null,
   "id": "0641d059",
   "metadata": {},
   "outputs": [],
   "source": [
    "for k,v in efficientnet_b0.named_parameters():\n",
    "    print(k,v.numel()) # 파라미터의 개수를 알려줌"
   ]
  },
  {
   "cell_type": "code",
   "execution_count": null,
   "id": "455fe689",
   "metadata": {},
   "outputs": [],
   "source": [
    "from prettytable import PrettyTable\n",
    "\n",
    "def count_parameters(model):\n",
    "    table = PrettyTable([\"Modules\", \"Parameters\"])\n",
    "    total_params = 0\n",
    "    for name, parameter in model.named_parameters():\n",
    "        if not parameter.requires_grad: continue\n",
    "        params = parameter.numel()\n",
    "        table.add_row([name, params])\n",
    "        total_params+=params\n",
    "    print(table)\n",
    "    print(f\"Total Trainable Params: {total_params}\")\n",
    "    return total_params\n",
    "    \n",
    "    \n"
   ]
  },
  {
   "cell_type": "code",
   "execution_count": null,
   "id": "43dea5e8",
   "metadata": {},
   "outputs": [],
   "source": [
    "# !pip install prettytable"
   ]
  },
  {
   "cell_type": "code",
   "execution_count": null,
   "id": "d95e7ae0",
   "metadata": {
    "scrolled": true
   },
   "outputs": [],
   "source": [
    "count_parameters(efficientnet_b0)"
   ]
  },
  {
   "cell_type": "code",
   "execution_count": null,
   "id": "a183e23a",
   "metadata": {},
   "outputs": [],
   "source": [
    "def count_parameters2(model):\n",
    "    table = PrettyTable([\"Modules\", \"Parameters\"])\n",
    "    total_params = 0\n",
    "    for name, parameter in model.named_parameters():\n",
    "        if not parameter.requires_grad: continue\n",
    "        params = parameter.numel()\n",
    "        table.add_row([name, params])\n",
    "        total_params+=params\n",
    "#     print(table)\n",
    "    print(f\"Total Trainable Params: {total_params}\")\n",
    "    return total_params"
   ]
  },
  {
   "cell_type": "code",
   "execution_count": null,
   "id": "18a7faee",
   "metadata": {
    "scrolled": true
   },
   "outputs": [],
   "source": [
    "count_parameters2(models.efficientnet_b0())\n",
    "count_parameters2(models.efficientnet_b1())\n",
    "count_parameters2(models.efficientnet_b2())\n",
    "count_parameters2(models.efficientnet_b3())\n",
    "count_parameters2(models.efficientnet_b4())\n",
    "count_parameters2(models.efficientnet_b5())\n",
    "count_parameters2(models.efficientnet_b6())\n",
    "count_parameters2(models.efficientnet_b7())"
   ]
  }
 ],
 "metadata": {
  "kernelspec": {
   "display_name": "Python 3 (ipykernel)",
   "language": "python",
   "name": "python3"
  },
  "language_info": {
   "codemirror_mode": {
    "name": "ipython",
    "version": 3
   },
   "file_extension": ".py",
   "mimetype": "text/x-python",
   "name": "python",
   "nbconvert_exporter": "python",
   "pygments_lexer": "ipython3",
   "version": "3.8.13"
  }
 },
 "nbformat": 4,
 "nbformat_minor": 5
}
