{
 "cells": [
  {
   "cell_type": "code",
   "execution_count": 1,
   "id": "cd7d60fa",
   "metadata": {},
   "outputs": [],
   "source": [
    "import pandas as pd\n",
    "from collections import Counter"
   ]
  },
  {
   "cell_type": "markdown",
   "id": "571667a9",
   "metadata": {},
   "source": [
    "### Bag of words"
   ]
  },
  {
   "cell_type": "code",
   "execution_count": 2,
   "id": "9304a8a5",
   "metadata": {},
   "outputs": [],
   "source": [
    "documents = [\n",
    "    \"I love watching movies\",\n",
    "    \"I enjoy reading books\",\n",
    "    \"I love reading and watching movies\"\n",
    "]"
   ]
  },
  {
   "cell_type": "markdown",
   "id": "4d2b2e0a",
   "metadata": {},
   "source": [
    "#### prerpocessing sentences : lower case and tokenize"
   ]
  },
  {
   "cell_type": "code",
   "execution_count": 3,
   "id": "735a3d2a",
   "metadata": {},
   "outputs": [
    {
     "data": {
      "text/plain": [
       "[['i', 'love', 'watching', 'movies'],\n",
       " ['i', 'enjoy', 'reading', 'books'],\n",
       " ['i', 'love', 'reading', 'and', 'watching', 'movies']]"
      ]
     },
     "execution_count": 3,
     "metadata": {},
     "output_type": "execute_result"
    }
   ],
   "source": [
    "tokenized_documents = [doc.lower().split() for doc in documents]\n",
    "tokenized_documents"
   ]
  },
  {
   "cell_type": "markdown",
   "id": "7247284b",
   "metadata": {},
   "source": [
    "#### Calculate word frequencies for each document"
   ]
  },
  {
   "cell_type": "code",
   "execution_count": 4,
   "id": "d6af706c",
   "metadata": {},
   "outputs": [
    {
     "data": {
      "text/plain": [
       "[Counter({'i': 1, 'love': 1, 'watching': 1, 'movies': 1}),\n",
       " Counter({'i': 1, 'enjoy': 1, 'reading': 1, 'books': 1}),\n",
       " Counter({'i': 1,\n",
       "          'love': 1,\n",
       "          'reading': 1,\n",
       "          'and': 1,\n",
       "          'watching': 1,\n",
       "          'movies': 1})]"
      ]
     },
     "execution_count": 4,
     "metadata": {},
     "output_type": "execute_result"
    }
   ],
   "source": [
    "word_frequencies = [Counter(doc) for doc in tokenized_documents] # 단어별 빈도 조사\n",
    "word_frequencies"
   ]
  },
  {
   "cell_type": "code",
   "execution_count": 5,
   "id": "2bcc0097",
   "metadata": {},
   "outputs": [
    {
     "data": {
      "text/html": [
       "<div>\n",
       "<style scoped>\n",
       "    .dataframe tbody tr th:only-of-type {\n",
       "        vertical-align: middle;\n",
       "    }\n",
       "\n",
       "    .dataframe tbody tr th {\n",
       "        vertical-align: top;\n",
       "    }\n",
       "\n",
       "    .dataframe thead th {\n",
       "        text-align: right;\n",
       "    }\n",
       "</style>\n",
       "<table border=\"1\" class=\"dataframe\">\n",
       "  <thead>\n",
       "    <tr style=\"text-align: right;\">\n",
       "      <th></th>\n",
       "      <th>i</th>\n",
       "      <th>love</th>\n",
       "      <th>watching</th>\n",
       "      <th>movies</th>\n",
       "      <th>enjoy</th>\n",
       "      <th>reading</th>\n",
       "      <th>books</th>\n",
       "      <th>and</th>\n",
       "    </tr>\n",
       "  </thead>\n",
       "  <tbody>\n",
       "    <tr>\n",
       "      <th>Document 1</th>\n",
       "      <td>1</td>\n",
       "      <td>1.0</td>\n",
       "      <td>1.0</td>\n",
       "      <td>1.0</td>\n",
       "      <td>0.0</td>\n",
       "      <td>0.0</td>\n",
       "      <td>0.0</td>\n",
       "      <td>0.0</td>\n",
       "    </tr>\n",
       "    <tr>\n",
       "      <th>Document 2</th>\n",
       "      <td>1</td>\n",
       "      <td>0.0</td>\n",
       "      <td>0.0</td>\n",
       "      <td>0.0</td>\n",
       "      <td>1.0</td>\n",
       "      <td>1.0</td>\n",
       "      <td>1.0</td>\n",
       "      <td>0.0</td>\n",
       "    </tr>\n",
       "    <tr>\n",
       "      <th>Document 3</th>\n",
       "      <td>1</td>\n",
       "      <td>1.0</td>\n",
       "      <td>1.0</td>\n",
       "      <td>1.0</td>\n",
       "      <td>0.0</td>\n",
       "      <td>1.0</td>\n",
       "      <td>0.0</td>\n",
       "      <td>1.0</td>\n",
       "    </tr>\n",
       "  </tbody>\n",
       "</table>\n",
       "</div>"
      ],
      "text/plain": [
       "            i  love  watching  movies  enjoy  reading  books  and\n",
       "Document 1  1   1.0       1.0     1.0    0.0      0.0    0.0  0.0\n",
       "Document 2  1   0.0       0.0     0.0    1.0      1.0    1.0  0.0\n",
       "Document 3  1   1.0       1.0     1.0    0.0      1.0    0.0  1.0"
      ]
     },
     "execution_count": 5,
     "metadata": {},
     "output_type": "execute_result"
    }
   ],
   "source": [
    "bow_df = pd.DataFrame(word_frequencies, index=[\"Document 1\", \"Document 2\", \"Document 3\"]).fillna(0)\n",
    "bow_df"
   ]
  },
  {
   "cell_type": "markdown",
   "id": "f40734b0",
   "metadata": {},
   "source": [
    "### TF-IDF"
   ]
  },
  {
   "cell_type": "code",
   "execution_count": 6,
   "id": "57b5d253",
   "metadata": {},
   "outputs": [],
   "source": [
    "import pandas as pd\n",
    "import numpy as np\n",
    "from collections import Counter\n",
    "import math\n",
    "\n"
   ]
  },
  {
   "cell_type": "code",
   "execution_count": 7,
   "id": "0c5fa249",
   "metadata": {},
   "outputs": [
    {
     "data": {
      "text/plain": [
       "[['i', 'love', 'watching', 'movies'],\n",
       " ['i', 'enjoy', 'reading', 'books'],\n",
       " ['i', 'love', 'reading', 'and', 'watching', 'movies']]"
      ]
     },
     "execution_count": 7,
     "metadata": {},
     "output_type": "execute_result"
    }
   ],
   "source": [
    "documents = [\n",
    "    \"I love watching movies\",\n",
    "    \"I enjoy reading books\",\n",
    "    \"I love reading and watching movies\"\n",
    "]\n",
    "\n",
    "tokenized_documents = [doc.lower().split() for doc in documents]\n",
    "tokenized_documents"
   ]
  },
  {
   "cell_type": "code",
   "execution_count": 8,
   "id": "d3b3abf3",
   "metadata": {},
   "outputs": [],
   "source": [
    "def term_frequency(doc):\n",
    "    term_count = Counter(doc)\n",
    "    \n",
    "    total_terms = len(doc)\n",
    "    \n",
    "    return {term: count / total_terms for term, count in term_count.items()}"
   ]
  },
  {
   "cell_type": "code",
   "execution_count": 9,
   "id": "3d0c359f",
   "metadata": {},
   "outputs": [
    {
     "data": {
      "text/plain": [
       "[{'i': 0.25, 'love': 0.25, 'watching': 0.25, 'movies': 0.25},\n",
       " {'i': 0.25, 'enjoy': 0.25, 'reading': 0.25, 'books': 0.25},\n",
       " {'i': 0.16666666666666666,\n",
       "  'love': 0.16666666666666666,\n",
       "  'reading': 0.16666666666666666,\n",
       "  'and': 0.16666666666666666,\n",
       "  'watching': 0.16666666666666666,\n",
       "  'movies': 0.16666666666666666}]"
      ]
     },
     "execution_count": 9,
     "metadata": {},
     "output_type": "execute_result"
    }
   ],
   "source": [
    "tf_values = [term_frequency(doc) for doc in tokenized_documents]\n",
    "tf_values"
   ]
  },
  {
   "cell_type": "code",
   "execution_count": 10,
   "id": "24f5f2aa",
   "metadata": {
    "scrolled": true
   },
   "outputs": [
    {
     "data": {
      "text/html": [
       "<div>\n",
       "<style scoped>\n",
       "    .dataframe tbody tr th:only-of-type {\n",
       "        vertical-align: middle;\n",
       "    }\n",
       "\n",
       "    .dataframe tbody tr th {\n",
       "        vertical-align: top;\n",
       "    }\n",
       "\n",
       "    .dataframe thead th {\n",
       "        text-align: right;\n",
       "    }\n",
       "</style>\n",
       "<table border=\"1\" class=\"dataframe\">\n",
       "  <thead>\n",
       "    <tr style=\"text-align: right;\">\n",
       "      <th></th>\n",
       "      <th>i</th>\n",
       "      <th>love</th>\n",
       "      <th>watching</th>\n",
       "      <th>movies</th>\n",
       "      <th>enjoy</th>\n",
       "      <th>reading</th>\n",
       "      <th>books</th>\n",
       "      <th>and</th>\n",
       "    </tr>\n",
       "  </thead>\n",
       "  <tbody>\n",
       "    <tr>\n",
       "      <th>0</th>\n",
       "      <td>0.250000</td>\n",
       "      <td>0.250000</td>\n",
       "      <td>0.250000</td>\n",
       "      <td>0.250000</td>\n",
       "      <td>0.00</td>\n",
       "      <td>0.000000</td>\n",
       "      <td>0.00</td>\n",
       "      <td>0.000000</td>\n",
       "    </tr>\n",
       "    <tr>\n",
       "      <th>1</th>\n",
       "      <td>0.250000</td>\n",
       "      <td>0.000000</td>\n",
       "      <td>0.000000</td>\n",
       "      <td>0.000000</td>\n",
       "      <td>0.25</td>\n",
       "      <td>0.250000</td>\n",
       "      <td>0.25</td>\n",
       "      <td>0.000000</td>\n",
       "    </tr>\n",
       "    <tr>\n",
       "      <th>2</th>\n",
       "      <td>0.166667</td>\n",
       "      <td>0.166667</td>\n",
       "      <td>0.166667</td>\n",
       "      <td>0.166667</td>\n",
       "      <td>0.00</td>\n",
       "      <td>0.166667</td>\n",
       "      <td>0.00</td>\n",
       "      <td>0.166667</td>\n",
       "    </tr>\n",
       "  </tbody>\n",
       "</table>\n",
       "</div>"
      ],
      "text/plain": [
       "          i      love  watching    movies  enjoy   reading  books       and\n",
       "0  0.250000  0.250000  0.250000  0.250000   0.00  0.000000   0.00  0.000000\n",
       "1  0.250000  0.000000  0.000000  0.000000   0.25  0.250000   0.25  0.000000\n",
       "2  0.166667  0.166667  0.166667  0.166667   0.00  0.166667   0.00  0.166667"
      ]
     },
     "execution_count": 10,
     "metadata": {},
     "output_type": "execute_result"
    }
   ],
   "source": [
    "tf_df = pd.DataFrame(tf_values).fillna(0)\n",
    "tf_df"
   ]
  },
  {
   "cell_type": "markdown",
   "id": "cc681566",
   "metadata": {},
   "source": [
    "#### Calculate inverse document frequency"
   ]
  },
  {
   "cell_type": "code",
   "execution_count": 11,
   "id": "ddd4dfd9",
   "metadata": {},
   "outputs": [],
   "source": [
    "def inverse_document_frequeny(docs):\n",
    "    total_docs = len(docs)\n",
    "    \n",
    "    unique_terms = set(term for doc in docs for term in doc)\n",
    "    print(unique_terms)\n",
    "    term_doc_counts = {term: sum(1 for doc in docs if term in doc) for term in unique_terms}\n",
    "    print(term_doc_counts)\n",
    "    return {term : math.log(total_docs / count) for term, count in term_doc_counts.items()}"
   ]
  },
  {
   "cell_type": "code",
   "execution_count": 12,
   "id": "12c1576f",
   "metadata": {},
   "outputs": [
    {
     "name": "stdout",
     "output_type": "stream",
     "text": [
      "{'books', 'reading', 'movies', 'i', 'enjoy', 'love', 'watching', 'and'}\n",
      "{'books': 1, 'reading': 2, 'movies': 2, 'i': 3, 'enjoy': 1, 'love': 2, 'watching': 2, 'and': 1}\n"
     ]
    },
    {
     "data": {
      "text/plain": [
       "{'books': 1.0986122886681098,\n",
       " 'reading': 0.4054651081081644,\n",
       " 'movies': 0.4054651081081644,\n",
       " 'i': 0.0,\n",
       " 'enjoy': 1.0986122886681098,\n",
       " 'love': 0.4054651081081644,\n",
       " 'watching': 0.4054651081081644,\n",
       " 'and': 1.0986122886681098}"
      ]
     },
     "execution_count": 12,
     "metadata": {},
     "output_type": "execute_result"
    }
   ],
   "source": [
    "idf_values = inverse_document_frequeny(tokenized_documents)\n",
    "idf_values"
   ]
  },
  {
   "cell_type": "code",
   "execution_count": 13,
   "id": "02769a1f",
   "metadata": {},
   "outputs": [
    {
     "data": {
      "text/html": [
       "<div>\n",
       "<style scoped>\n",
       "    .dataframe tbody tr th:only-of-type {\n",
       "        vertical-align: middle;\n",
       "    }\n",
       "\n",
       "    .dataframe tbody tr th {\n",
       "        vertical-align: top;\n",
       "    }\n",
       "\n",
       "    .dataframe thead th {\n",
       "        text-align: right;\n",
       "    }\n",
       "</style>\n",
       "<table border=\"1\" class=\"dataframe\">\n",
       "  <thead>\n",
       "    <tr style=\"text-align: right;\">\n",
       "      <th></th>\n",
       "      <th>books</th>\n",
       "      <th>reading</th>\n",
       "      <th>movies</th>\n",
       "      <th>i</th>\n",
       "      <th>enjoy</th>\n",
       "      <th>love</th>\n",
       "      <th>watching</th>\n",
       "      <th>and</th>\n",
       "    </tr>\n",
       "  </thead>\n",
       "  <tbody>\n",
       "    <tr>\n",
       "      <th>IDF</th>\n",
       "      <td>1.098612</td>\n",
       "      <td>0.405465</td>\n",
       "      <td>0.405465</td>\n",
       "      <td>0.0</td>\n",
       "      <td>1.098612</td>\n",
       "      <td>0.405465</td>\n",
       "      <td>0.405465</td>\n",
       "      <td>1.098612</td>\n",
       "    </tr>\n",
       "  </tbody>\n",
       "</table>\n",
       "</div>"
      ],
      "text/plain": [
       "        books   reading    movies    i     enjoy      love  watching       and\n",
       "IDF  1.098612  0.405465  0.405465  0.0  1.098612  0.405465  0.405465  1.098612"
      ]
     },
     "execution_count": 13,
     "metadata": {},
     "output_type": "execute_result"
    }
   ],
   "source": [
    "idf_df = pd.DataFrame([idf_values], index=[\"IDF\"]).fillna(0)\n",
    "idf_df"
   ]
  },
  {
   "cell_type": "markdown",
   "id": "03444e4c",
   "metadata": {},
   "source": [
    "#### calculate TF_IDF"
   ]
  },
  {
   "cell_type": "code",
   "execution_count": 14,
   "id": "90181d01",
   "metadata": {},
   "outputs": [],
   "source": [
    "def tf_idf(tf, idf):\n",
    "    return {term : tf_val * idf[term] for term, tf_val in tf.items()}"
   ]
  },
  {
   "cell_type": "code",
   "execution_count": 15,
   "id": "1ca1838b",
   "metadata": {},
   "outputs": [
    {
     "data": {
      "text/plain": [
       "[{'i': 0.0,\n",
       "  'love': 0.1013662770270411,\n",
       "  'watching': 0.1013662770270411,\n",
       "  'movies': 0.1013662770270411},\n",
       " {'i': 0.0,\n",
       "  'enjoy': 0.27465307216702745,\n",
       "  'reading': 0.1013662770270411,\n",
       "  'books': 0.27465307216702745},\n",
       " {'i': 0.0,\n",
       "  'love': 0.06757751801802739,\n",
       "  'reading': 0.06757751801802739,\n",
       "  'and': 0.1831020481113516,\n",
       "  'watching': 0.06757751801802739,\n",
       "  'movies': 0.06757751801802739}]"
      ]
     },
     "execution_count": 15,
     "metadata": {},
     "output_type": "execute_result"
    }
   ],
   "source": [
    "tf_idf_values = [tf_idf(tf, idf_values) for tf in tf_values]\n",
    "tf_idf_values"
   ]
  },
  {
   "cell_type": "code",
   "execution_count": 16,
   "id": "f555532a",
   "metadata": {},
   "outputs": [
    {
     "data": {
      "text/html": [
       "<div>\n",
       "<style scoped>\n",
       "    .dataframe tbody tr th:only-of-type {\n",
       "        vertical-align: middle;\n",
       "    }\n",
       "\n",
       "    .dataframe tbody tr th {\n",
       "        vertical-align: top;\n",
       "    }\n",
       "\n",
       "    .dataframe thead th {\n",
       "        text-align: right;\n",
       "    }\n",
       "</style>\n",
       "<table border=\"1\" class=\"dataframe\">\n",
       "  <thead>\n",
       "    <tr style=\"text-align: right;\">\n",
       "      <th></th>\n",
       "      <th>i</th>\n",
       "      <th>love</th>\n",
       "      <th>watching</th>\n",
       "      <th>movies</th>\n",
       "      <th>enjoy</th>\n",
       "      <th>reading</th>\n",
       "      <th>books</th>\n",
       "      <th>and</th>\n",
       "    </tr>\n",
       "  </thead>\n",
       "  <tbody>\n",
       "    <tr>\n",
       "      <th>Document 1</th>\n",
       "      <td>0.0</td>\n",
       "      <td>0.101366</td>\n",
       "      <td>0.101366</td>\n",
       "      <td>0.101366</td>\n",
       "      <td>0.000000</td>\n",
       "      <td>0.000000</td>\n",
       "      <td>0.000000</td>\n",
       "      <td>0.000000</td>\n",
       "    </tr>\n",
       "    <tr>\n",
       "      <th>Document 2</th>\n",
       "      <td>0.0</td>\n",
       "      <td>0.000000</td>\n",
       "      <td>0.000000</td>\n",
       "      <td>0.000000</td>\n",
       "      <td>0.274653</td>\n",
       "      <td>0.101366</td>\n",
       "      <td>0.274653</td>\n",
       "      <td>0.000000</td>\n",
       "    </tr>\n",
       "    <tr>\n",
       "      <th>Document 3</th>\n",
       "      <td>0.0</td>\n",
       "      <td>0.067578</td>\n",
       "      <td>0.067578</td>\n",
       "      <td>0.067578</td>\n",
       "      <td>0.000000</td>\n",
       "      <td>0.067578</td>\n",
       "      <td>0.000000</td>\n",
       "      <td>0.183102</td>\n",
       "    </tr>\n",
       "  </tbody>\n",
       "</table>\n",
       "</div>"
      ],
      "text/plain": [
       "              i      love  watching    movies     enjoy   reading     books  \\\n",
       "Document 1  0.0  0.101366  0.101366  0.101366  0.000000  0.000000  0.000000   \n",
       "Document 2  0.0  0.000000  0.000000  0.000000  0.274653  0.101366  0.274653   \n",
       "Document 3  0.0  0.067578  0.067578  0.067578  0.000000  0.067578  0.000000   \n",
       "\n",
       "                 and  \n",
       "Document 1  0.000000  \n",
       "Document 2  0.000000  \n",
       "Document 3  0.183102  "
      ]
     },
     "execution_count": 16,
     "metadata": {},
     "output_type": "execute_result"
    }
   ],
   "source": [
    "tf_idf_df = pd.DataFrame(tf_idf_values, index=[\"Document 1\", \"Document 2\", \"Document 3\"]).fillna(0)\n",
    "tf_idf_df"
   ]
  }
 ],
 "metadata": {
  "kernelspec": {
   "display_name": "Python 3 (ipykernel)",
   "language": "python",
   "name": "python3"
  },
  "language_info": {
   "codemirror_mode": {
    "name": "ipython",
    "version": 3
   },
   "file_extension": ".py",
   "mimetype": "text/x-python",
   "name": "python",
   "nbconvert_exporter": "python",
   "pygments_lexer": "ipython3",
   "version": "3.7.16"
  }
 },
 "nbformat": 4,
 "nbformat_minor": 5
}
