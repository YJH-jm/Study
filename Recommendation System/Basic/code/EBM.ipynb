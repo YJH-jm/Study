{
 "cells": [
  {
   "cell_type": "code",
   "execution_count": 1,
   "id": "cd86a642",
   "metadata": {},
   "outputs": [],
   "source": [
    "# %%capture\n",
    "# ! pip install interpret # MS 가 공개한 interpret이라는 라이브러리에 포함되어 있음"
   ]
  },
  {
   "cell_type": "code",
   "execution_count": 2,
   "id": "d8a25610",
   "metadata": {},
   "outputs": [],
   "source": [
    "from typing import List\n",
    "\n",
    "import numpy as np\n",
    "import pandas as pd\n",
    "\n",
    "from sklearn.model_selection import train_test_split\n",
    "from sklearn.feature_extraction.text import TfidfVectorizer\n",
    "from sklearn.preprocessing import OneHotEncoder\n",
    "from sklearn.metrics.pairwise import cosine_similarity\n",
    "from sklearn.metrics import ndcg_score, average_precision_score\n",
    "\n",
    "from interpret.glassbox import ExplainableBoostingClassifier\n",
    "from interpret import show\n",
    "from interpret.perf import ROC"
   ]
  },
  {
   "cell_type": "markdown",
   "id": "ec286d15",
   "metadata": {},
   "source": [
    "### Data Preprocessing & Feature Engineering"
   ]
  },
  {
   "cell_type": "code",
   "execution_count": 3,
   "id": "09707e75",
   "metadata": {},
   "outputs": [],
   "source": [
    "data_path = './data/anime/'\n",
    "\n",
    "# Read the dataset\n",
    "animes = pd.read_csv(data_path+'anime.csv')\n",
    "ratings = pd.read_csv(data_path+'rating.csv')\n",
    "\n",
    "ratings = ratings.sample(1_000_000, random_state=42)\n",
    "\n",
    "# 사용하는 피처만 남김\n",
    "animes = animes[['anime_id', 'type', 'rating', 'members', 'name', 'genre']]\n",
    "# 칼럼명 변경\n",
    "animes.columns = ['anime_id', 'type', 'anime_total_rating', 'members', 'name', 'genre']\n",
    "# 결측값이 포함된 애니는 drop\n",
    "animes = animes.dropna()\n",
    "\n",
    "\n",
    "# 평점 테이블도 동일하게 처리, 무효한 값은 제거 (rating이 -1인 값)\n",
    "ratings = ratings[['user_id', 'anime_id', 'rating']]\n",
    "ratings = ratings[ratings['rating'] != -1]\n",
    "\n",
    "# 데이터 프레임 join\n",
    "data = ratings.merge(animes, on='anime_id', how='inner')\n",
    "\n",
    "# 유저 정보가 없으므로, 유저의 평점 패턴에서 유저 피처 추출 (평균 평점 및 평점을 내린 수)\n",
    "user_avg_rating = data.groupby('user_id')['rating'].mean().rename('User-AvgRating')\n",
    "user_num_ratings = data.groupby('user_id')['rating'].count().rename('User-NumRatings')\n",
    "\n",
    "# 추출한 유저 피처 결합\n",
    "user_features = pd.concat([user_avg_rating, user_num_ratings], axis=1)\n",
    "\n",
    "# 애니 메타 데이터에서 아이템 관련 피처 수가 생성\n",
    "item_num_ratings = data.groupby('anime_id')['rating'].count().rename('Item-NumRatings')\n",
    "\n",
    "# 애니 이름 피처에서 TF-IDF 피처 생성, 총 10개의 이름 생성 (most frequent 10 words)\n",
    "tfidf_vectorizer = TfidfVectorizer(max_features=10)\n",
    "item_name_tfidf = tfidf_vectorizer.fit_transform(animes['name']).toarray()\n",
    "\n",
    "tfidf_feature_names = tfidf_vectorizer.get_feature_names_out()\n",
    "\n",
    "# 'type' 칼럼을 원핫 인코딩\n",
    "onehot_encoder = OneHotEncoder(sparse=False)\n",
    "item_type_onehot = onehot_encoder.fit_transform(animes[['type']])\n",
    "\n",
    "# TF-IDF 피처와 type 원핫 피처를 결합\n",
    "tf_idf_df = pd.DataFrame(item_name_tfidf, columns=tfidf_feature_names, index=animes.anime_id)\n",
    "type_df = pd.DataFrame(item_type_onehot, columns=[f'Type-{cat}' for cat in onehot_encoder.categories_[0]], index=animes.anime_id)\n",
    "\n",
    "animes_features = animes[['anime_id', 'members', 'anime_total_rating']]\n",
    "\n",
    "\n",
    "item_features = pd.DataFrame(item_num_ratings)\\\n",
    "            .merge(tf_idf_df, on=\"anime_id\")\\\n",
    "            .merge(type_df, on=\"anime_id\")\\\n",
    "            .merge(animes_features.set_index('anime_id'), on=\"anime_id\")\n",
    "\n",
    "\n",
    "# 인터렉션 데이터와 함께, user 및 item 피처 결합\n",
    "data = data.drop(['anime_total_rating', 'members'], axis=1)\n",
    "\n",
    "data = data.join(user_features, on='user_id')\n",
    "data = data.merge(item_features, on='anime_id')\n",
    "\n",
    "# implicit feedback 표현을 위해 이진화 (유저의 평균 평점보다 높은 경우 1)\n",
    "# 절대값으로 지정하는 방법도 있음\n",
    "data['rating'] = (data['rating'] > data['User-AvgRating']).astype(int)\n",
    "\n",
    "# Train-test split\n",
    "X = data.drop(columns=['user_id','anime_id', 'rating', 'type', 'name', 'genre'])\n",
    "y = data['rating']\n",
    "\n",
    "X_train, X_test, y_train, y_test = train_test_split(X, y, test_size=0.2, random_state=42)"
   ]
  },
  {
   "cell_type": "code",
   "execution_count": 4,
   "id": "fb1b9b15",
   "metadata": {},
   "outputs": [],
   "source": [
    "import matplotlib.pyplot as plt\n",
    "from sklearn.metrics import roc_curve, auc\n",
    "from sklearn.metrics import roc_auc_score\n",
    "from tqdm import tqdm\n",
    "from lightgbm import LGBMClassifier\n",
    "from sklearn.ensemble import RandomForestClassifier"
   ]
  },
  {
   "cell_type": "code",
   "execution_count": 5,
   "id": "a044d655",
   "metadata": {},
   "outputs": [
    {
     "name": "stderr",
     "output_type": "stream",
     "text": [
      "\r",
      "  0%|                                                                                            | 0/2 [00:00<?, ?it/s]"
     ]
    },
    {
     "name": "stdout",
     "output_type": "stream",
     "text": [
      "Training LGBM with 1000 samples...\n"
     ]
    },
    {
     "name": "stderr",
     "output_type": "stream",
     "text": [
      "\r",
      " 50%|██████████████████████████████████████████                                          | 1/2 [00:00<00:00,  1.23it/s]"
     ]
    },
    {
     "name": "stdout",
     "output_type": "stream",
     "text": [
      "LGBM AUC: 0.6622325077028113\n",
      "Training EBM with 1000 samples...\n"
     ]
    },
    {
     "name": "stderr",
     "output_type": "stream",
     "text": [
      "100%|████████████████████████████████████████████████████████████████████████████████████| 2/2 [00:04<00:00,  2.18s/it]\n"
     ]
    },
    {
     "name": "stdout",
     "output_type": "stream",
     "text": [
      "EBM AUC: 0.6984896940280363\n"
     ]
    },
    {
     "name": "stderr",
     "output_type": "stream",
     "text": [
      "\r",
      "  0%|                                                                                            | 0/2 [00:00<?, ?it/s]"
     ]
    },
    {
     "name": "stdout",
     "output_type": "stream",
     "text": [
      "Training LGBM with 10000 samples...\n"
     ]
    },
    {
     "name": "stderr",
     "output_type": "stream",
     "text": [
      "\r",
      " 50%|██████████████████████████████████████████                                          | 1/2 [00:00<00:00,  1.10it/s]"
     ]
    },
    {
     "name": "stdout",
     "output_type": "stream",
     "text": [
      "LGBM AUC: 0.7388504851694132\n",
      "Training EBM with 10000 samples...\n"
     ]
    },
    {
     "name": "stderr",
     "output_type": "stream",
     "text": [
      "100%|████████████████████████████████████████████████████████████████████████████████████| 2/2 [00:25<00:00, 12.51s/it]\n"
     ]
    },
    {
     "name": "stdout",
     "output_type": "stream",
     "text": [
      "EBM AUC: 0.7432277138565837\n"
     ]
    },
    {
     "name": "stderr",
     "output_type": "stream",
     "text": [
      "\r",
      "  0%|                                                                                            | 0/2 [00:00<?, ?it/s]"
     ]
    },
    {
     "name": "stdout",
     "output_type": "stream",
     "text": [
      "Training LGBM with 100000 samples...\n"
     ]
    },
    {
     "name": "stderr",
     "output_type": "stream",
     "text": [
      "\r",
      " 50%|██████████████████████████████████████████                                          | 1/2 [00:01<00:01,  1.09s/it]"
     ]
    },
    {
     "name": "stdout",
     "output_type": "stream",
     "text": [
      "LGBM AUC: 0.7546555091491538\n",
      "Training EBM with 100000 samples...\n"
     ]
    },
    {
     "name": "stderr",
     "output_type": "stream",
     "text": [
      "100%|███████████████████████████████████████████████████████████████████████████████████| 2/2 [04:42<00:00, 141.09s/it]"
     ]
    },
    {
     "name": "stdout",
     "output_type": "stream",
     "text": [
      "EBM AUC: 0.754459262181949\n"
     ]
    },
    {
     "name": "stderr",
     "output_type": "stream",
     "text": [
      "\n"
     ]
    },
    {
     "data": {
      "image/png": "[encoded data removed]",
      "text/plain": [
       "<Figure size 640x480 with 1 Axes>"
      ]
     },
     "metadata": {},
     "output_type": "display_data"
    }
   ],
   "source": [
    "# 모델 정의\n",
    "models = {\n",
    "    'LGBM': LGBMClassifier(random_state=42),\n",
    "    'EBM': ExplainableBoostingClassifier(random_state=42, n_jobs=1)\n",
    "\n",
    "}\n",
    "\n",
    "# 데이터셋 사이즈 지정\n",
    "dataset_sizes = [1_000, 10_000, 100_000]\n",
    "\n",
    "# 각 모델 별 auc score를 저장하기 위해 딕셔너리 정의\n",
    "auc_scores = {model_name: [] for model_name in models.keys()}\n",
    "\n",
    "# 각 모델 별 roc curve 정보 저장을 위해 딕셔너리 정의\n",
    "roc_curves = {model_name: [] for model_name in models.keys()}\n",
    "\n",
    "\n",
    "# 데이터 사이즈별로 iteration\n",
    "for size in dataset_sizes:\n",
    "    # 각 사이즈별로 데이터를 샘플링함\n",
    "    X_train_sample = X_train.sample(n=size, random_state=42)\n",
    "    y_train_sample = y_train.loc[X_train_sample.index]\n",
    "\n",
    "    # 모델 별로 반복\n",
    "    for model_name, model in tqdm(models.items()):\n",
    "        print(f\"Training {model_name} with {size} samples...\")\n",
    "        \n",
    "        # 모델 적합\n",
    "        model.fit(X_train_sample, y_train_sample)\n",
    "\n",
    "        # 예측 결과 생성\n",
    "        y_pred = model.predict_proba(X_test)[:, 1]\n",
    "\n",
    "        # AUC 점수 계산 \n",
    "        auc_score = roc_auc_score(y_test, y_pred)\n",
    "        auc_scores[model_name].append(auc_score)\n",
    "        \n",
    "        # ROC 곡선\n",
    "        fpr, tpr, thresholds = roc_curve(y_test, y_pred)\n",
    "        roc_curves[model_name].append((fpr, tpr))\n",
    "\n",
    "        print(f\"{model_name} AUC: {auc_score}\")\n",
    "\n",
    "\n",
    "# AUC 스코어 시각화\n",
    "for model_name, model_auc_scores in auc_scores.items():\n",
    "    plt.plot(dataset_sizes, model_auc_scores, label=model_name)\n",
    "plt.xlabel('Training dataset size')\n",
    "plt.ylabel('AUC score')\n",
    "plt.legend()\n",
    "plt.show()"
   ]
  },
  {
   "cell_type": "markdown",
   "id": "09a7f462",
   "metadata": {},
   "source": [
    "### "
   ]
  },
  {
   "cell_type": "code",
   "execution_count": 24,
   "id": "4b14a6d9",
   "metadata": {},
   "outputs": [
    {
     "name": "stdout",
     "output_type": "stream",
     "text": [
      "Wall time: 20min 50s\n"
     ]
    },
    {
     "data": {
      "text/plain": [
       "ExplainableBoostingClassifier(n_jobs=1)"
      ]
     },
     "execution_count": 24,
     "metadata": {},
     "output_type": "execute_result"
    }
   ],
   "source": [
    "%%time\n",
    "\n",
    "# EBM 모델 인스턴스 생성\n",
    "ebm = ExplainableBoostingClassifier(random_state=42, n_jobs=1)\n",
    "\n",
    "# 모델 적합 \n",
    "ebm.fit(X_train, y_train)\n",
    "\n",
    "#########################"
   ]
  },
  {
   "cell_type": "markdown",
   "id": "39ac4ba3",
   "metadata": {},
   "source": [
    "- 실제 production에서 EBM을 학습하거나 예측하는데 적용하기는 어려움\n",
    "    - 너무 오랜 시간 소요\n",
    "- 다만 추천 모델이 어떤 근거로 추천을 하는지 직관을 얻을 수 있음\n",
    "    - 분석을 위함\n",
    "<hr>"
   ]
  },
  {
   "cell_type": "code",
   "execution_count": 25,
   "id": "0722e068",
   "metadata": {},
   "outputs": [
    {
     "data": {
      "text/html": [
       "<!-- http://127.0.0.1:7001/2492939615176/ -->\n",
       "<iframe src=\"http://127.0.0.1:7001/2492939615176/\" width=100% height=800 frameBorder=\"0\"></iframe>"
      ]
     },
     "metadata": {},
     "output_type": "display_data"
    }
   ],
   "source": [
    "# 모델 성능 평가 -> ROC 기준 \n",
    "roc = ROC(ebm.predict_proba).explain_perf(X_test, y_test, name=\"ROC\")\n",
    "show(roc)"
   ]
  },
  {
   "cell_type": "code",
   "execution_count": 26,
   "id": "e4f6d46a",
   "metadata": {},
   "outputs": [
    {
     "data": {
      "text/html": [
       "<!-- http://127.0.0.1:7001/2492976574984/ -->\n",
       "<iframe src=\"http://127.0.0.1:7001/2492976574984/\" width=100% height=800 frameBorder=\"0\"></iframe>"
      ]
     },
     "metadata": {},
     "output_type": "display_data"
    }
   ],
   "source": [
    "# 글로벌 모델 설명 출력\n",
    "# 모델 예측에 대한 각 피쳐의 영향도를 나타냄\n",
    "# 중요도 순으로 피쳐 정렬\n",
    "\n",
    "global_explanation = ebm.explain_global(name=\"EBM\")\n",
    "show(global_explanation)\n"
   ]
  },
  {
   "cell_type": "markdown",
   "id": "6644cb5f",
   "metadata": {},
   "source": [
    "#### Local"
   ]
  },
  {
   "cell_type": "code",
   "execution_count": 28,
   "id": "a1eacfc4",
   "metadata": {},
   "outputs": [],
   "source": [
    "user_id = 38\n",
    "\n",
    "def recommend_top_n(user_id, model, n=5):\n",
    "    user_data = data[data['user_id']==user_id]\n",
    "    rated_animes = user_data['anime_id'].unique()\n",
    "    unrated_animes = item_features[~item_features.index.isin(rated_animes)]\n",
    "    \n",
    "    user_features_df = user_features.loc[user_id]\n",
    "    unrated_animes = unrated_animes.assign(**user_features_df)\n",
    "    \n",
    "    \n",
    "    # 해당 유저 대상으로 모델 예측\n",
    "    unrated_animes['predicted_rating'] = model.predict_proba(unrated_animes)[:, 1]\n",
    "\n",
    "    # 상위 N개의 평점 예측\n",
    "    top_n_animes = unrated_animes.sort_values('predicted_rating', ascending=False).head(n)\n",
    "\n",
    "    return top_n_animes\n",
    "    "
   ]
  },
  {
   "cell_type": "code",
   "execution_count": 29,
   "id": "bba3a8b8",
   "metadata": {},
   "outputs": [
    {
     "name": "stdout",
     "output_type": "stream",
     "text": [
      "Top 5 anime recommendations for user 38:\n"
     ]
    },
    {
     "data": {
      "text/html": [
       "<div>\n",
       "<style scoped>\n",
       "    .dataframe tbody tr th:only-of-type {\n",
       "        vertical-align: middle;\n",
       "    }\n",
       "\n",
       "    .dataframe tbody tr th {\n",
       "        vertical-align: top;\n",
       "    }\n",
       "\n",
       "    .dataframe thead th {\n",
       "        text-align: right;\n",
       "    }\n",
       "</style>\n",
       "<table border=\"1\" class=\"dataframe\">\n",
       "  <thead>\n",
       "    <tr style=\"text-align: right;\">\n",
       "      <th></th>\n",
       "      <th>predicted_rating</th>\n",
       "      <th>anime_id</th>\n",
       "      <th>type</th>\n",
       "      <th>anime_total_rating</th>\n",
       "      <th>members</th>\n",
       "      <th>name</th>\n",
       "      <th>genre</th>\n",
       "    </tr>\n",
       "  </thead>\n",
       "  <tbody>\n",
       "    <tr>\n",
       "      <th>0</th>\n",
       "      <td>0.958739</td>\n",
       "      <td>32281</td>\n",
       "      <td>Movie</td>\n",
       "      <td>9.37</td>\n",
       "      <td>200630</td>\n",
       "      <td>Kimi no Na wa.</td>\n",
       "      <td>Drama, Romance, School, Supernatural</td>\n",
       "    </tr>\n",
       "    <tr>\n",
       "      <th>2</th>\n",
       "      <td>0.958058</td>\n",
       "      <td>28977</td>\n",
       "      <td>TV</td>\n",
       "      <td>9.25</td>\n",
       "      <td>114262</td>\n",
       "      <td>Gintama°</td>\n",
       "      <td>Action, Comedy, Historical, Parody, Samurai, S...</td>\n",
       "    </tr>\n",
       "    <tr>\n",
       "      <th>9</th>\n",
       "      <td>0.955017</td>\n",
       "      <td>15417</td>\n",
       "      <td>TV</td>\n",
       "      <td>9.11</td>\n",
       "      <td>81109</td>\n",
       "      <td>Gintama&amp;#039;: Enchousen</td>\n",
       "      <td>Action, Comedy, Historical, Parody, Samurai, S...</td>\n",
       "    </tr>\n",
       "    <tr>\n",
       "      <th>5</th>\n",
       "      <td>0.954616</td>\n",
       "      <td>32935</td>\n",
       "      <td>TV</td>\n",
       "      <td>9.15</td>\n",
       "      <td>93351</td>\n",
       "      <td>Haikyuu!!: Karasuno Koukou VS Shiratorizawa Ga...</td>\n",
       "      <td>Comedy, Drama, School, Shounen, Sports</td>\n",
       "    </tr>\n",
       "    <tr>\n",
       "      <th>7</th>\n",
       "      <td>0.952900</td>\n",
       "      <td>820</td>\n",
       "      <td>OVA</td>\n",
       "      <td>9.11</td>\n",
       "      <td>80679</td>\n",
       "      <td>Ginga Eiyuu Densetsu</td>\n",
       "      <td>Drama, Military, Sci-Fi, Space</td>\n",
       "    </tr>\n",
       "  </tbody>\n",
       "</table>\n",
       "</div>"
      ],
      "text/plain": [
       "   predicted_rating  anime_id   type  anime_total_rating  members  \\\n",
       "0          0.958739     32281  Movie                9.37   200630   \n",
       "2          0.958058     28977     TV                9.25   114262   \n",
       "9          0.955017     15417     TV                9.11    81109   \n",
       "5          0.954616     32935     TV                9.15    93351   \n",
       "7          0.952900       820    OVA                9.11    80679   \n",
       "\n",
       "                                                name  \\\n",
       "0                                     Kimi no Na wa.   \n",
       "2                                           Gintama°   \n",
       "9                           Gintama&#039;: Enchousen   \n",
       "5  Haikyuu!!: Karasuno Koukou VS Shiratorizawa Ga...   \n",
       "7                               Ginga Eiyuu Densetsu   \n",
       "\n",
       "                                               genre  \n",
       "0               Drama, Romance, School, Supernatural  \n",
       "2  Action, Comedy, Historical, Parody, Samurai, S...  \n",
       "9  Action, Comedy, Historical, Parody, Samurai, S...  \n",
       "5             Comedy, Drama, School, Shounen, Sports  \n",
       "7                     Drama, Military, Sci-Fi, Space  "
      ]
     },
     "metadata": {},
     "output_type": "display_data"
    }
   ],
   "source": [
    "# 특정 유저에 대한 상위 n개 예측 생성\n",
    "top_n = recommend_top_n(user_id, ebm, n=5)[['predicted_rating']]\n",
    "\n",
    "# top n개 예측의 상세 정보\n",
    "top_n_details = top_n.merge(animes, how='left', left_index=True, right_on='anime_id')\n",
    "\n",
    "print(f'Top 5 anime recommendations for user {user_id}:')\n",
    "display(top_n_details)"
   ]
  },
  {
   "cell_type": "code",
   "execution_count": 30,
   "id": "a5bb965d",
   "metadata": {},
   "outputs": [],
   "source": [
    "# 좋은 평점을 준 애니 검색\n",
    "user_ratings = ratings[ratings['user_id'] == user_id]\n",
    "well_rated_animes = user_ratings[user_ratings['rating'] >= user_ratings['rating'].mean()]\n",
    "\n",
    "# 상세 정보 조회\n",
    "well_rated_details = animes[animes['anime_id'].isin(well_rated_animes['anime_id'])]\n",
    "\n",
    "# 평점 정보를 포함한 좋은 평점 정보 출력\n",
    "well_rated_details = well_rated_details.merge(well_rated_animes[['anime_id', 'rating']], on='anime_id', how='inner')\n"
   ]
  },
  {
   "cell_type": "code",
   "execution_count": 55,
   "id": "3f4dc461",
   "metadata": {},
   "outputs": [],
   "source": [
    "# 원하는 user_id에 해당하는 user-item pair 샘플의 index를 가져옴\n",
    "# 혹은 sample_idx를 임의로 정해줄 수 있음\n",
    "sample_idx = data[data.user_id==user_id].index[0] # 특정  user_id가 가지는 정보 중 하나. 실제로 index"
   ]
  },
  {
   "cell_type": "code",
   "execution_count": 56,
   "id": "51afd645",
   "metadata": {},
   "outputs": [],
   "source": [
    "# 해당 인덱스를 X_text에서 찾음\n",
    "instance = X_test[X_test.index==sample_idx]"
   ]
  },
  {
   "cell_type": "code",
   "execution_count": 63,
   "id": "24333bf9",
   "metadata": {},
   "outputs": [
    {
     "name": "stdout",
     "output_type": "stream",
     "text": [
      "\n",
      "\n"
     ]
    },
    {
     "data": {
      "text/plain": [
       "\"User 38's rating history:\""
      ]
     },
     "metadata": {},
     "output_type": "display_data"
    },
    {
     "data": {
      "text/html": [
       "<div>\n",
       "<style scoped>\n",
       "    .dataframe tbody tr th:only-of-type {\n",
       "        vertical-align: middle;\n",
       "    }\n",
       "\n",
       "    .dataframe tbody tr th {\n",
       "        vertical-align: top;\n",
       "    }\n",
       "\n",
       "    .dataframe thead th {\n",
       "        text-align: right;\n",
       "    }\n",
       "</style>\n",
       "<table border=\"1\" class=\"dataframe\">\n",
       "  <thead>\n",
       "    <tr style=\"text-align: right;\">\n",
       "      <th></th>\n",
       "      <th>user_id</th>\n",
       "      <th>anime_id</th>\n",
       "      <th>rating</th>\n",
       "      <th>type</th>\n",
       "      <th>anime_total_rating</th>\n",
       "      <th>members</th>\n",
       "      <th>name</th>\n",
       "      <th>genre</th>\n",
       "    </tr>\n",
       "  </thead>\n",
       "  <tbody>\n",
       "    <tr>\n",
       "      <th>0</th>\n",
       "      <td>38</td>\n",
       "      <td>27831</td>\n",
       "      <td>9</td>\n",
       "      <td>TV</td>\n",
       "      <td>8.12</td>\n",
       "      <td>132506</td>\n",
       "      <td>Durarara!!x2 Ten</td>\n",
       "      <td>Action, Mystery, Supernatural</td>\n",
       "    </tr>\n",
       "    <tr>\n",
       "      <th>1</th>\n",
       "      <td>38</td>\n",
       "      <td>16009</td>\n",
       "      <td>9</td>\n",
       "      <td>TV</td>\n",
       "      <td>7.53</td>\n",
       "      <td>122031</td>\n",
       "      <td>Kamisama no Inai Nichiyoubi</td>\n",
       "      <td>Fantasy, Mystery</td>\n",
       "    </tr>\n",
       "    <tr>\n",
       "      <th>2</th>\n",
       "      <td>38</td>\n",
       "      <td>20583</td>\n",
       "      <td>10</td>\n",
       "      <td>TV</td>\n",
       "      <td>8.68</td>\n",
       "      <td>284498</td>\n",
       "      <td>Haikyuu!!</td>\n",
       "      <td>Comedy, Drama, School, Shounen, Sports</td>\n",
       "    </tr>\n",
       "    <tr>\n",
       "      <th>3</th>\n",
       "      <td>38</td>\n",
       "      <td>26243</td>\n",
       "      <td>5</td>\n",
       "      <td>TV</td>\n",
       "      <td>7.65</td>\n",
       "      <td>315630</td>\n",
       "      <td>Owari no Seraph</td>\n",
       "      <td>Action, Drama, Shounen, Supernatural, Vampire</td>\n",
       "    </tr>\n",
       "    <tr>\n",
       "      <th>4</th>\n",
       "      <td>38</td>\n",
       "      <td>3588</td>\n",
       "      <td>8</td>\n",
       "      <td>TV</td>\n",
       "      <td>8.08</td>\n",
       "      <td>580184</td>\n",
       "      <td>Soul Eater</td>\n",
       "      <td>Action, Adventure, Comedy, Fantasy, Shounen, S...</td>\n",
       "    </tr>\n",
       "    <tr>\n",
       "      <th>5</th>\n",
       "      <td>38</td>\n",
       "      <td>31904</td>\n",
       "      <td>7</td>\n",
       "      <td>TV</td>\n",
       "      <td>5.70</td>\n",
       "      <td>84079</td>\n",
       "      <td>Big Order (TV)</td>\n",
       "      <td>Action, Shounen, Super Power</td>\n",
       "    </tr>\n",
       "    <tr>\n",
       "      <th>6</th>\n",
       "      <td>38</td>\n",
       "      <td>23321</td>\n",
       "      <td>10</td>\n",
       "      <td>TV</td>\n",
       "      <td>7.66</td>\n",
       "      <td>215817</td>\n",
       "      <td>Log Horizon 2nd Season</td>\n",
       "      <td>Action, Adventure, Fantasy, Game, Magic, Shounen</td>\n",
       "    </tr>\n",
       "    <tr>\n",
       "      <th>7</th>\n",
       "      <td>38</td>\n",
       "      <td>23421</td>\n",
       "      <td>8</td>\n",
       "      <td>TV</td>\n",
       "      <td>7.48</td>\n",
       "      <td>73903</td>\n",
       "      <td>Re:␣Hamatora</td>\n",
       "      <td>Comedy, Mystery, Super Power</td>\n",
       "    </tr>\n",
       "    <tr>\n",
       "      <th>8</th>\n",
       "      <td>38</td>\n",
       "      <td>9065</td>\n",
       "      <td>5</td>\n",
       "      <td>TV</td>\n",
       "      <td>7.76</td>\n",
       "      <td>49771</td>\n",
       "      <td>Hakuouki Hekketsuroku</td>\n",
       "      <td>Action, Drama, Historical, Josei, Samurai, Sup...</td>\n",
       "    </tr>\n",
       "    <tr>\n",
       "      <th>9</th>\n",
       "      <td>38</td>\n",
       "      <td>1575</td>\n",
       "      <td>10</td>\n",
       "      <td>TV</td>\n",
       "      <td>8.83</td>\n",
       "      <td>715151</td>\n",
       "      <td>Code Geass: Hangyaku no Lelouch</td>\n",
       "      <td>Action, Mecha, Military, School, Sci-Fi, Super...</td>\n",
       "    </tr>\n",
       "    <tr>\n",
       "      <th>10</th>\n",
       "      <td>38</td>\n",
       "      <td>22789</td>\n",
       "      <td>8</td>\n",
       "      <td>TV</td>\n",
       "      <td>8.50</td>\n",
       "      <td>225927</td>\n",
       "      <td>Barakamon</td>\n",
       "      <td>Comedy, Slice of Life</td>\n",
       "    </tr>\n",
       "    <tr>\n",
       "      <th>11</th>\n",
       "      <td>38</td>\n",
       "      <td>10490</td>\n",
       "      <td>4</td>\n",
       "      <td>TV</td>\n",
       "      <td>6.73</td>\n",
       "      <td>118553</td>\n",
       "      <td>Blood-C</td>\n",
       "      <td>Action, Horror, School, Supernatural, Vampire</td>\n",
       "    </tr>\n",
       "    <tr>\n",
       "      <th>12</th>\n",
       "      <td>38</td>\n",
       "      <td>8247</td>\n",
       "      <td>5</td>\n",
       "      <td>Movie</td>\n",
       "      <td>7.75</td>\n",
       "      <td>94074</td>\n",
       "      <td>Bleach Movie 4: Jigoku-hen</td>\n",
       "      <td>Action, Comedy, Shounen, Super Power, Supernat...</td>\n",
       "    </tr>\n",
       "    <tr>\n",
       "      <th>13</th>\n",
       "      <td>38</td>\n",
       "      <td>355</td>\n",
       "      <td>8</td>\n",
       "      <td>TV</td>\n",
       "      <td>7.74</td>\n",
       "      <td>297058</td>\n",
       "      <td>Shakugan no Shana</td>\n",
       "      <td>Action, Drama, Fantasy, Romance, School, Super...</td>\n",
       "    </tr>\n",
       "    <tr>\n",
       "      <th>14</th>\n",
       "      <td>38</td>\n",
       "      <td>28619</td>\n",
       "      <td>4</td>\n",
       "      <td>TV</td>\n",
       "      <td>6.75</td>\n",
       "      <td>66777</td>\n",
       "      <td>Ranpo Kitan: Game of Laplace</td>\n",
       "      <td>Mystery</td>\n",
       "    </tr>\n",
       "    <tr>\n",
       "      <th>15</th>\n",
       "      <td>38</td>\n",
       "      <td>11597</td>\n",
       "      <td>7</td>\n",
       "      <td>TV</td>\n",
       "      <td>8.21</td>\n",
       "      <td>260062</td>\n",
       "      <td>Nisemonogatari</td>\n",
       "      <td>Comedy, Mystery, Supernatural</td>\n",
       "    </tr>\n",
       "    <tr>\n",
       "      <th>16</th>\n",
       "      <td>38</td>\n",
       "      <td>16524</td>\n",
       "      <td>7</td>\n",
       "      <td>TV</td>\n",
       "      <td>7.64</td>\n",
       "      <td>170754</td>\n",
       "      <td>Suisei no Gargantia</td>\n",
       "      <td>Action, Adventure, Mecha, Sci-Fi</td>\n",
       "    </tr>\n",
       "    <tr>\n",
       "      <th>17</th>\n",
       "      <td>38</td>\n",
       "      <td>3229</td>\n",
       "      <td>3</td>\n",
       "      <td>TV</td>\n",
       "      <td>7.35</td>\n",
       "      <td>66236</td>\n",
       "      <td>Kimi ga Aruji de Shitsuji ga Ore de</td>\n",
       "      <td>Comedy, Ecchi, Harem, Parody, Romance</td>\n",
       "    </tr>\n",
       "    <tr>\n",
       "      <th>18</th>\n",
       "      <td>38</td>\n",
       "      <td>27899</td>\n",
       "      <td>8</td>\n",
       "      <td>TV</td>\n",
       "      <td>7.52</td>\n",
       "      <td>408357</td>\n",
       "      <td>Tokyo Ghoul √A</td>\n",
       "      <td>Action, Drama, Horror, Mystery, Psychological,...</td>\n",
       "    </tr>\n",
       "    <tr>\n",
       "      <th>19</th>\n",
       "      <td>38</td>\n",
       "      <td>2476</td>\n",
       "      <td>2</td>\n",
       "      <td>TV</td>\n",
       "      <td>6.17</td>\n",
       "      <td>279183</td>\n",
       "      <td>School Days</td>\n",
       "      <td>Drama, Harem, Romance, School</td>\n",
       "    </tr>\n",
       "    <tr>\n",
       "      <th>20</th>\n",
       "      <td>38</td>\n",
       "      <td>6895</td>\n",
       "      <td>3</td>\n",
       "      <td>TV</td>\n",
       "      <td>7.57</td>\n",
       "      <td>90612</td>\n",
       "      <td>Hakuouki</td>\n",
       "      <td>Action, Drama, Historical, Josei, Samurai, Sup...</td>\n",
       "    </tr>\n",
       "    <tr>\n",
       "      <th>21</th>\n",
       "      <td>38</td>\n",
       "      <td>9379</td>\n",
       "      <td>6</td>\n",
       "      <td>TV</td>\n",
       "      <td>7.33</td>\n",
       "      <td>149497</td>\n",
       "      <td>Denpa Onna to Seishun Otoko</td>\n",
       "      <td>Comedy, Sci-Fi, Seinen, Slice of Life</td>\n",
       "    </tr>\n",
       "    <tr>\n",
       "      <th>22</th>\n",
       "      <td>38</td>\n",
       "      <td>1691</td>\n",
       "      <td>6</td>\n",
       "      <td>TV</td>\n",
       "      <td>7.50</td>\n",
       "      <td>205338</td>\n",
       "      <td>Kaze no Stigma</td>\n",
       "      <td>Action, Fantasy, Magic, Romance, Shounen</td>\n",
       "    </tr>\n",
       "    <tr>\n",
       "      <th>23</th>\n",
       "      <td>38</td>\n",
       "      <td>30276</td>\n",
       "      <td>9</td>\n",
       "      <td>TV</td>\n",
       "      <td>8.82</td>\n",
       "      <td>552458</td>\n",
       "      <td>One Punch Man</td>\n",
       "      <td>Action, Comedy, Parody, Sci-Fi, Seinen, Super ...</td>\n",
       "    </tr>\n",
       "    <tr>\n",
       "      <th>24</th>\n",
       "      <td>38</td>\n",
       "      <td>11499</td>\n",
       "      <td>9</td>\n",
       "      <td>TV</td>\n",
       "      <td>7.53</td>\n",
       "      <td>222657</td>\n",
       "      <td>Sankarea</td>\n",
       "      <td>Comedy, Ecchi, Horror, Romance, Shounen, Super...</td>\n",
       "    </tr>\n",
       "    <tr>\n",
       "      <th>25</th>\n",
       "      <td>38</td>\n",
       "      <td>25867</td>\n",
       "      <td>5</td>\n",
       "      <td>TV</td>\n",
       "      <td>6.66</td>\n",
       "      <td>48310</td>\n",
       "      <td>Rolling☆Girls</td>\n",
       "      <td>Action, Adventure, Slice of Life, Super Power</td>\n",
       "    </tr>\n",
       "    <tr>\n",
       "      <th>26</th>\n",
       "      <td>38</td>\n",
       "      <td>16498</td>\n",
       "      <td>10</td>\n",
       "      <td>TV</td>\n",
       "      <td>8.54</td>\n",
       "      <td>896229</td>\n",
       "      <td>Shingeki no Kyojin</td>\n",
       "      <td>Action, Drama, Fantasy, Shounen, Super Power</td>\n",
       "    </tr>\n",
       "    <tr>\n",
       "      <th>27</th>\n",
       "      <td>38</td>\n",
       "      <td>9790</td>\n",
       "      <td>4</td>\n",
       "      <td>Movie</td>\n",
       "      <td>7.87</td>\n",
       "      <td>70391</td>\n",
       "      <td>Sora no Otoshimono: Tokeijikake no Angeloid</td>\n",
       "      <td>Comedy, Drama, Ecchi, Harem, Romance, Sci-Fi, ...</td>\n",
       "    </tr>\n",
       "    <tr>\n",
       "      <th>28</th>\n",
       "      <td>38</td>\n",
       "      <td>31478</td>\n",
       "      <td>7</td>\n",
       "      <td>TV</td>\n",
       "      <td>7.76</td>\n",
       "      <td>187805</td>\n",
       "      <td>Bungou Stray Dogs</td>\n",
       "      <td>Action, Comedy, Mystery, Seinen, Supernatural</td>\n",
       "    </tr>\n",
       "  </tbody>\n",
       "</table>\n",
       "</div>"
      ],
      "text/plain": [
       "    user_id  anime_id  rating   type  anime_total_rating  members  \\\n",
       "0        38     27831       9     TV                8.12   132506   \n",
       "1        38     16009       9     TV                7.53   122031   \n",
       "2        38     20583      10     TV                8.68   284498   \n",
       "3        38     26243       5     TV                7.65   315630   \n",
       "4        38      3588       8     TV                8.08   580184   \n",
       "5        38     31904       7     TV                5.70    84079   \n",
       "6        38     23321      10     TV                7.66   215817   \n",
       "7        38     23421       8     TV                7.48    73903   \n",
       "8        38      9065       5     TV                7.76    49771   \n",
       "9        38      1575      10     TV                8.83   715151   \n",
       "10       38     22789       8     TV                8.50   225927   \n",
       "11       38     10490       4     TV                6.73   118553   \n",
       "12       38      8247       5  Movie                7.75    94074   \n",
       "13       38       355       8     TV                7.74   297058   \n",
       "14       38     28619       4     TV                6.75    66777   \n",
       "15       38     11597       7     TV                8.21   260062   \n",
       "16       38     16524       7     TV                7.64   170754   \n",
       "17       38      3229       3     TV                7.35    66236   \n",
       "18       38     27899       8     TV                7.52   408357   \n",
       "19       38      2476       2     TV                6.17   279183   \n",
       "20       38      6895       3     TV                7.57    90612   \n",
       "21       38      9379       6     TV                7.33   149497   \n",
       "22       38      1691       6     TV                7.50   205338   \n",
       "23       38     30276       9     TV                8.82   552458   \n",
       "24       38     11499       9     TV                7.53   222657   \n",
       "25       38     25867       5     TV                6.66    48310   \n",
       "26       38     16498      10     TV                8.54   896229   \n",
       "27       38      9790       4  Movie                7.87    70391   \n",
       "28       38     31478       7     TV                7.76   187805   \n",
       "\n",
       "                                           name  \\\n",
       "0                              Durarara!!x2 Ten   \n",
       "1                   Kamisama no Inai Nichiyoubi   \n",
       "2                                     Haikyuu!!   \n",
       "3                               Owari no Seraph   \n",
       "4                                    Soul Eater   \n",
       "5                                Big Order (TV)   \n",
       "6                        Log Horizon 2nd Season   \n",
       "7                                  Re:␣Hamatora   \n",
       "8                         Hakuouki Hekketsuroku   \n",
       "9               Code Geass: Hangyaku no Lelouch   \n",
       "10                                    Barakamon   \n",
       "11                                      Blood-C   \n",
       "12                   Bleach Movie 4: Jigoku-hen   \n",
       "13                            Shakugan no Shana   \n",
       "14                 Ranpo Kitan: Game of Laplace   \n",
       "15                               Nisemonogatari   \n",
       "16                          Suisei no Gargantia   \n",
       "17          Kimi ga Aruji de Shitsuji ga Ore de   \n",
       "18                               Tokyo Ghoul √A   \n",
       "19                                  School Days   \n",
       "20                                     Hakuouki   \n",
       "21                  Denpa Onna to Seishun Otoko   \n",
       "22                               Kaze no Stigma   \n",
       "23                                One Punch Man   \n",
       "24                                     Sankarea   \n",
       "25                                Rolling☆Girls   \n",
       "26                           Shingeki no Kyojin   \n",
       "27  Sora no Otoshimono: Tokeijikake no Angeloid   \n",
       "28                            Bungou Stray Dogs   \n",
       "\n",
       "                                                genre  \n",
       "0                       Action, Mystery, Supernatural  \n",
       "1                                    Fantasy, Mystery  \n",
       "2              Comedy, Drama, School, Shounen, Sports  \n",
       "3       Action, Drama, Shounen, Supernatural, Vampire  \n",
       "4   Action, Adventure, Comedy, Fantasy, Shounen, S...  \n",
       "5                        Action, Shounen, Super Power  \n",
       "6    Action, Adventure, Fantasy, Game, Magic, Shounen  \n",
       "7                        Comedy, Mystery, Super Power  \n",
       "8   Action, Drama, Historical, Josei, Samurai, Sup...  \n",
       "9   Action, Mecha, Military, School, Sci-Fi, Super...  \n",
       "10                              Comedy, Slice of Life  \n",
       "11      Action, Horror, School, Supernatural, Vampire  \n",
       "12  Action, Comedy, Shounen, Super Power, Supernat...  \n",
       "13  Action, Drama, Fantasy, Romance, School, Super...  \n",
       "14                                            Mystery  \n",
       "15                      Comedy, Mystery, Supernatural  \n",
       "16                   Action, Adventure, Mecha, Sci-Fi  \n",
       "17              Comedy, Ecchi, Harem, Parody, Romance  \n",
       "18  Action, Drama, Horror, Mystery, Psychological,...  \n",
       "19                      Drama, Harem, Romance, School  \n",
       "20  Action, Drama, Historical, Josei, Samurai, Sup...  \n",
       "21              Comedy, Sci-Fi, Seinen, Slice of Life  \n",
       "22           Action, Fantasy, Magic, Romance, Shounen  \n",
       "23  Action, Comedy, Parody, Sci-Fi, Seinen, Super ...  \n",
       "24  Comedy, Ecchi, Horror, Romance, Shounen, Super...  \n",
       "25      Action, Adventure, Slice of Life, Super Power  \n",
       "26       Action, Drama, Fantasy, Shounen, Super Power  \n",
       "27  Comedy, Drama, Ecchi, Harem, Romance, Sci-Fi, ...  \n",
       "28      Action, Comedy, Mystery, Seinen, Supernatural  "
      ]
     },
     "metadata": {},
     "output_type": "display_data"
    },
    {
     "name": "stdout",
     "output_type": "stream",
     "text": [
      "\n",
      "\n"
     ]
    },
    {
     "data": {
      "text/plain": [
       "'Anime details for the anime:'"
      ]
     },
     "metadata": {},
     "output_type": "display_data"
    },
    {
     "data": {
      "text/html": [
       "<div>\n",
       "<style scoped>\n",
       "    .dataframe tbody tr th:only-of-type {\n",
       "        vertical-align: middle;\n",
       "    }\n",
       "\n",
       "    .dataframe tbody tr th {\n",
       "        vertical-align: top;\n",
       "    }\n",
       "\n",
       "    .dataframe thead th {\n",
       "        text-align: right;\n",
       "    }\n",
       "</style>\n",
       "<table border=\"1\" class=\"dataframe\">\n",
       "  <thead>\n",
       "    <tr style=\"text-align: right;\">\n",
       "      <th></th>\n",
       "      <th>anime_id</th>\n",
       "      <th>type</th>\n",
       "      <th>anime_total_rating</th>\n",
       "      <th>members</th>\n",
       "      <th>name</th>\n",
       "      <th>genre</th>\n",
       "    </tr>\n",
       "  </thead>\n",
       "  <tbody>\n",
       "    <tr>\n",
       "      <th>1469</th>\n",
       "      <td>16009</td>\n",
       "      <td>TV</td>\n",
       "      <td>7.53</td>\n",
       "      <td>122031</td>\n",
       "      <td>Kamisama no Inai Nichiyoubi</td>\n",
       "      <td>Fantasy, Mystery</td>\n",
       "    </tr>\n",
       "  </tbody>\n",
       "</table>\n",
       "</div>"
      ],
      "text/plain": [
       "      anime_id type  anime_total_rating  members                         name  \\\n",
       "1469     16009   TV                7.53   122031  Kamisama no Inai Nichiyoubi   \n",
       "\n",
       "                 genre  \n",
       "1469  Fantasy, Mystery  "
      ]
     },
     "metadata": {},
     "output_type": "display_data"
    }
   ],
   "source": [
    "# 해당 유저/아이템 id 다시 가져옴\n",
    "user_id_for_local_explanation = data.iloc[sample_idx]['user_id']\n",
    "anime_id_for_local_explanation = data.iloc[sample_idx]['anime_id']\n",
    "\n",
    "# 유저 평점 기록 로드\n",
    "user_rating_history = ratings[ratings['user_id']==user_id_for_local_explanation]\n",
    "\n",
    "# 유저의 평점 기록과 애니 메터 데이터 병함\n",
    "user_rating_history_with_names = user_rating_history.merge(animes, on=\"anime_id\")\n",
    "\n",
    "# 유저의 평점 기록을 이름과 함께 출력\n",
    "print('\\n')\n",
    "\n",
    "display(f\"User {user_id_for_local_explanation}'s rating history:\")\n",
    "display(user_rating_history_with_names)\n",
    "\n",
    "# 타겟 애니의 메타 정보 호출\n",
    "anime_datails = animes[animes[\"anime_id\"]==anime_id_for_local_explanation]\n",
    "\n",
    "print('\\n')\n",
    "display(f\"Anime details for the anime:\")\n",
    "display(anime_datails)\n"
   ]
  },
  {
   "cell_type": "code",
   "execution_count": 35,
   "id": "a2117951",
   "metadata": {},
   "outputs": [
    {
     "data": {
      "text/plain": [
       "16009"
      ]
     },
     "execution_count": 35,
     "metadata": {},
     "output_type": "execute_result"
    }
   ],
   "source": [
    "anime_id_for_local_explanation"
   ]
  },
  {
   "cell_type": "code",
   "execution_count": 64,
   "id": "fc2fcc59",
   "metadata": {},
   "outputs": [
    {
     "data": {
      "text/html": [
       "<!-- http://127.0.0.1:7001/2493250314888/ -->\n",
       "<iframe src=\"http://127.0.0.1:7001/2493250314888/\" width=100% height=800 frameBorder=\"0\"></iframe>"
      ]
     },
     "metadata": {},
     "output_type": "display_data"
    }
   ],
   "source": [
    "# local 설명 출력\n",
    "# 한 인스턴스에 대한 예측의 피처별 기여드를 보여줌\n",
    "\n",
    "local_explanation = ebm.explain_local(X_test[X_test.index==sample_idx], y_test[y_test.index== sample_idx], name=\"EBM\")\n",
    "show(local_explanation)"
   ]
  }
 ],
 "metadata": {
  "kernelspec": {
   "display_name": "Python 3 (ipykernel)",
   "language": "python",
   "name": "python3"
  },
  "language_info": {
   "codemirror_mode": {
    "name": "ipython",
    "version": 3
   },
   "file_extension": ".py",
   "mimetype": "text/x-python",
   "name": "python",
   "nbconvert_exporter": "python",
   "pygments_lexer": "ipython3",
   "version": "3.7.16"
  }
 },
 "nbformat": 4,
 "nbformat_minor": 5
}
